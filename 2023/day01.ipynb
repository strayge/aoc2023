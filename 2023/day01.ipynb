{
 "cells": [
  {
   "cell_type": "code",
   "execution_count": 1,
   "metadata": {},
   "outputs": [
    {
     "data": {
      "text/markdown": [
       "<article class=\"day-desc\"><h2>--- Day 1: Trebuchet?! ---</h2><p>Something is wrong with global snow production, and you've been selected to take a look. The Elves have even given you a map; on it, they've used stars to mark the top fifty locations that are likely to be having problems.</p>\n",
       "<p>You've been doing this long enough to know that to restore snow operations, you need to check all <em class=\"star\">fifty stars</em> by December 25th.</p>\n",
       "<p>Collect stars by solving puzzles.  Two puzzles will be made available on each day in the Advent calendar; the second puzzle is unlocked when you complete the first.  Each puzzle grants <em class=\"star\">one star</em>. Good luck!</p>\n",
       "<p>You try to ask why they can't just use a <a href=\"/2015/day/1\">weather machine</a> (\"not powerful enough\") and where they're even sending you (\"the sky\") and why your map looks mostly blank (\"you sure ask a lot of questions\") <span title=\"My hope is that this abomination of a run-on sentence somehow conveys the chaos of being hastily loaded into a trebuchet.\">and</span> hang on did you just say the sky (\"of course, where do you think snow comes from\") when you realize that the Elves are already loading you into a <a href=\"https://en.wikipedia.org/wiki/Trebuchet\" target=\"_blank\">trebuchet</a> (\"please hold still, we need to strap you in\").</p>\n",
       "<p>As they're making the final adjustments, they discover that their calibration document (your puzzle input) has been <em>amended</em> by a very young Elf who was apparently just excited to show off her art skills. Consequently, the Elves are having trouble reading the values on the document.</p>\n",
       "<p>The newly-improved calibration document consists of lines of text; each line originally contained a specific <em>calibration value</em> that the Elves now need to recover. On each line, the calibration value can be found by combining the <em>first digit</em> and the <em>last digit</em> (in that order) to form a single <em>two-digit number</em>.</p>\n",
       "<p>For example:</p>\n",
       "<pre><code>1abc2\n",
       "pqr3stu8vwx\n",
       "a1b2c3d4e5f\n",
       "treb7uchet\n",
       "</code></pre>\n",
       "<p>In this example, the calibration values of these four lines are <code>12</code>, <code>38</code>, <code>15</code>, and <code>77</code>. Adding these together produces <code><em>142</em></code>.</p>\n",
       "<p>Consider your entire calibration document. <em>What is the sum of all of the calibration values?</em></p>\n",
       "</article>"
      ],
      "text/plain": [
       "<IPython.core.display.Markdown object>"
      ]
     },
     "metadata": {},
     "output_type": "display_data"
    }
   ],
   "source": [
    "from common import *\n",
    "\n",
    "show_task(1)"
   ]
  },
  {
   "cell_type": "code",
   "execution_count": 2,
   "metadata": {},
   "outputs": [],
   "source": [
    "lines = get_input_lines(1)"
   ]
  },
  {
   "cell_type": "code",
   "execution_count": 3,
   "metadata": {},
   "outputs": [
    {
     "name": "stdout",
     "output_type": "stream",
     "text": [
      "54597\n"
     ]
    }
   ],
   "source": [
    "sum = 0\n",
    "for line in lines:\n",
    "    first_num = None\n",
    "    last_num = None\n",
    "    for c in line:\n",
    "        if c not in '0123456789':\n",
    "            continue\n",
    "        if first_num is None:\n",
    "            first_num = int(c)\n",
    "        last_num = int(c)\n",
    "    # print(line, first_num, last_num)\n",
    "    sum += first_num * 10 + last_num\n",
    "print(sum)"
   ]
  },
  {
   "cell_type": "code",
   "execution_count": 4,
   "metadata": {},
   "outputs": [
    {
     "data": {
      "text/plain": [
       "\"That's the right answer!  You are \""
      ]
     },
     "execution_count": 4,
     "metadata": {},
     "output_type": "execute_result"
    }
   ],
   "source": [
    "send_result(1, 1, sum)"
   ]
  },
  {
   "cell_type": "code",
   "execution_count": 2,
   "metadata": {},
   "outputs": [
    {
     "data": {
      "text/markdown": [
       "<article class=\"day-desc\"><h2 id=\"part2\">--- Part Two ---</h2><p>Your calculation isn't quite right. It looks like some of the digits are actually <em>spelled out with letters</em>: <code>one</code>, <code>two</code>, <code>three</code>, <code>four</code>, <code>five</code>, <code>six</code>, <code>seven</code>, <code>eight</code>, and <code>nine</code> <em>also</em> count as valid \"digits\".</p>\n",
       "<p>Equipped with this new information, you now need to find the real first and last digit on each line. For example:</p>\n",
       "<pre><code>two1nine\n",
       "eightwothree\n",
       "abcone2threexyz\n",
       "xtwone3four\n",
       "4nineeightseven2\n",
       "zoneight234\n",
       "7pqrstsixteen\n",
       "</code></pre>\n",
       "<p>In this example, the calibration values are <code>29</code>, <code>83</code>, <code>13</code>, <code>24</code>, <code>42</code>, <code>14</code>, and <code>76</code>. Adding these together produces <code><em>281</em></code>.</p>\n",
       "<p><em>What is the sum of all of the calibration values?</em></p>\n",
       "</article>"
      ],
      "text/plain": [
       "<IPython.core.display.Markdown object>"
      ]
     },
     "metadata": {},
     "output_type": "display_data"
    }
   ],
   "source": [
    "show_task(1, 2)"
   ]
  },
  {
   "cell_type": "code",
   "execution_count": 2,
   "metadata": {},
   "outputs": [],
   "source": [
    "lines = get_input_lines(1)"
   ]
  },
  {
   "cell_type": "code",
   "execution_count": 3,
   "metadata": {},
   "outputs": [
    {
     "name": "stdout",
     "output_type": "stream",
     "text": [
      "54504\n"
     ]
    }
   ],
   "source": [
    "sum = 0\n",
    "\n",
    "table = {\n",
    "    ('one', '1'): 1,\n",
    "    ('two', '2'): 2,\n",
    "    ('three', '3'): 3,\n",
    "    ('four', '4'): 4,\n",
    "    ('five', '5'): 5,\n",
    "    ('six', '6'): 6,\n",
    "    ('seven', '7'): 7,\n",
    "    ('eight', '8'): 8,\n",
    "    ('nine', '9'): 9,\n",
    "}\n",
    "\n",
    "for line in lines:\n",
    "    very_first_index: int = len(line)\n",
    "    very_last_index: int = -1\n",
    "    first_num = None\n",
    "    last_num = None\n",
    "    for text_variants, num in table.items():\n",
    "        for text_variant in text_variants:\n",
    "            first_index = line.find(text_variant)\n",
    "            if first_index == -1:\n",
    "                continue\n",
    "            if first_index < very_first_index:\n",
    "                very_first_index = first_index\n",
    "                first_num = num\n",
    "            last_index = line.rfind(text_variant)\n",
    "            if last_index == -1:\n",
    "                continue\n",
    "            if last_index > very_last_index:\n",
    "                very_last_index = last_index\n",
    "                last_num = num\n",
    "    sum += first_num * 10 + last_num\n",
    "print(sum)"
   ]
  },
  {
   "cell_type": "code",
   "execution_count": 4,
   "metadata": {},
   "outputs": [
    {
     "data": {
      "text/plain": [
       "\"You don't seem to be solving the right level.  Did you already complete it? [Return to Day 1]\""
      ]
     },
     "execution_count": 4,
     "metadata": {},
     "output_type": "execute_result"
    }
   ],
   "source": [
    "send_result(1, 2, sum)"
   ]
  },
  {
   "cell_type": "code",
   "execution_count": 5,
   "metadata": {},
   "outputs": [
    {
     "data": {
      "text/plain": [
       "'Both parts of this puzzle are complete! They provide two gold stars: **'"
      ]
     },
     "execution_count": 5,
     "metadata": {},
     "output_type": "execute_result"
    }
   ],
   "source": [
    "get_day_status(1)"
   ]
  },
  {
   "cell_type": "code",
   "execution_count": null,
   "metadata": {},
   "outputs": [],
   "source": []
  }
 ],
 "metadata": {
  "kernelspec": {
   "display_name": "venv",
   "language": "python",
   "name": "python3"
  },
  "language_info": {
   "codemirror_mode": {
    "name": "ipython",
    "version": 3
   },
   "file_extension": ".py",
   "mimetype": "text/x-python",
   "name": "python",
   "nbconvert_exporter": "python",
   "pygments_lexer": "ipython3",
   "version": "3.11.6"
  }
 },
 "nbformat": 4,
 "nbformat_minor": 2
}

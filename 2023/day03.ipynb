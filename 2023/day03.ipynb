{
 "cells": [
  {
   "cell_type": "code",
   "execution_count": 1,
   "metadata": {},
   "outputs": [],
   "source": [
    "from common import *\n",
    "\n",
    "DAY = 3"
   ]
  },
  {
   "cell_type": "code",
   "execution_count": 2,
   "metadata": {},
   "outputs": [
    {
     "data": {
      "text/markdown": [
       "<article class=\"day-desc\"><h2>--- Day 3: Gear Ratios ---</h2><p>You and the Elf eventually reach a <a href=\"https://en.wikipedia.org/wiki/Gondola_lift\" target=\"_blank\">gondola lift</a> station; he says the gondola lift will take you up to the <em>water source</em>, but this is as far as he can bring you. You go inside.</p>\n",
       "<p>It doesn't take long to find the gondolas, but there seems to be a problem: they're not moving.</p>\n",
       "<p>\"Aaah!\"</p>\n",
       "<p>You turn around to see a slightly-greasy Elf with a wrench and a look of surprise. \"Sorry, I wasn't expecting anyone! The gondola lift isn't working right now; it'll still be a while before I can fix it.\" You offer to help.</p>\n",
       "<p>The engineer explains that an engine part seems to be missing from the engine, but nobody can figure out which one. If you can <em>add up all the part numbers</em> in the engine schematic, it should be easy to work out which part is missing.</p>\n",
       "<p>The engine schematic (your puzzle input) consists of a visual representation of the engine. There are lots of numbers and symbols you don't really understand, but apparently <em>any number adjacent to a symbol</em>, even diagonally, is a \"part number\" and should be included in your sum. (Periods (<code>.</code>) do not count as a symbol.)</p>\n",
       "<p>Here is an example engine schematic:</p>\n",
       "<pre><code>467..114..\n",
       "...*......\n",
       "..35..633.\n",
       "......#...\n",
       "617*......\n",
       ".....+.58.\n",
       "..592.....\n",
       "......755.\n",
       "...$.*....\n",
       ".664.598..\n",
       "</code></pre>\n",
       "<p>In this schematic, two numbers are <em>not</em> part numbers because they are not adjacent to a symbol: <code>114</code> (top right) and <code>58</code> (middle right). Every other number is adjacent to a symbol and so <em>is</em> a part number; their sum is <code><em>4361</em></code>.</p>\n",
       "<p>Of course, the actual engine schematic is much larger. <em>What is the sum of all of the part numbers in the engine schematic?</em></p>\n",
       "</article>"
      ],
      "text/plain": [
       "<IPython.core.display.Markdown object>"
      ]
     },
     "metadata": {},
     "output_type": "display_data"
    }
   ],
   "source": [
    "show_task(DAY)"
   ]
  },
  {
   "cell_type": "code",
   "execution_count": 30,
   "metadata": {},
   "outputs": [],
   "source": [
    "lines = get_input_lines(DAY)"
   ]
  },
  {
   "cell_type": "code",
   "execution_count": 38,
   "metadata": {},
   "outputs": [
    {
     "name": "stdout",
     "output_type": "stream",
     "text": [
      "539713\n"
     ]
    }
   ],
   "source": [
    "def is_touched(line, prev_line, next_line, i) -> bool:\n",
    "    siblings = set()\n",
    "\n",
    "    def check_line(current_line, positions, non_nums_only=False):\n",
    "        for pos in positions:\n",
    "            if pos >= 0 and pos < len(current_line):\n",
    "                char = current_line[pos]\n",
    "                if char == '.':\n",
    "                    continue\n",
    "                if non_nums_only and char in '0123456789':\n",
    "                    continue\n",
    "                siblings.add(char)\n",
    "    \n",
    "    check_line(prev_line, [i - 1, i, i + 1], True)\n",
    "    check_line(next_line, [i - 1, i, i + 1], True)\n",
    "    check_line(line, [i - 1, i + 1], True)\n",
    "    return len(siblings) > 0\n",
    "\n",
    "nums = []\n",
    "for line_i, line in enumerate(lines):\n",
    "    next_line = lines[line_i + 1] if line_i + 1 < len(lines) else ''\n",
    "    prev_line = lines[line_i - 1] if line_i > 0 else ''\n",
    "    touched = False\n",
    "    num_str = ''\n",
    "    for i, c in enumerate(line):\n",
    "        if c in '0123456789':\n",
    "            num_str += c\n",
    "            if not touched:\n",
    "                touched = is_touched(line, prev_line, next_line, i)\n",
    "        elif num_str:\n",
    "            if touched:\n",
    "                nums.append(int(num_str))\n",
    "            num_str = ''\n",
    "            touched = False\n",
    "    if num_str:\n",
    "        if touched:\n",
    "            nums.append(int(num_str))\n",
    "        num_str = ''\n",
    "        touched = False\n",
    "\n",
    "\n",
    "num_sum = sum([int(n) for n in nums])\n",
    "print(num_sum)"
   ]
  },
  {
   "cell_type": "code",
   "execution_count": 39,
   "metadata": {},
   "outputs": [
    {
     "data": {
      "text/plain": [
       "\"That's the right answer!  You are one gold star closer to restoring snow operations. [Continue to Part Two] (solved in 30:40)\""
      ]
     },
     "execution_count": 39,
     "metadata": {},
     "output_type": "execute_result"
    }
   ],
   "source": [
    "send_result(DAY, 1, num_sum)"
   ]
  },
  {
   "cell_type": "code",
   "execution_count": 40,
   "metadata": {},
   "outputs": [
    {
     "data": {
      "text/markdown": [
       "<article class=\"day-desc\"><h2 id=\"part2\">--- Part Two ---</h2><p>The engineer finds the missing part and installs it in the engine! As the engine springs to life, you jump in the closest gondola, finally ready to ascend to the water source.</p>\n",
       "<p>You don't seem to be going very fast, though. Maybe something is still wrong? Fortunately, the gondola has a phone labeled \"help\", so you pick it up and the engineer answers.</p>\n",
       "<p>Before you can explain the situation, she suggests that you look out the window. There stands the engineer, holding a phone in one hand and waving with the other. You're going so slowly that you haven't even left the station. You exit the gondola.</p>\n",
       "<p>The missing part wasn't the only issue - one of the gears in the engine is wrong. A <em>gear</em> is any <code>*</code> symbol that is adjacent to <em>exactly two part numbers</em>. Its <em>gear ratio</em> is the result of <span title=\"They're magic gears.\">multiplying</span> those two numbers together.</p>\n",
       "<p>This time, you need to find the gear ratio of every gear and add them all up so that the engineer can figure out which gear needs to be replaced.</p>\n",
       "<p>Consider the same engine schematic again:</p>\n",
       "<pre><code>467..114..\n",
       "...*......\n",
       "..35..633.\n",
       "......#...\n",
       "617*......\n",
       ".....+.58.\n",
       "..592.....\n",
       "......755.\n",
       "...$.*....\n",
       ".664.598..\n",
       "</code></pre>\n",
       "<p>In this schematic, there are <em>two</em> gears. The first is in the top left; it has part numbers <code>467</code> and <code>35</code>, so its gear ratio is <code>16345</code>. The second gear is in the lower right; its gear ratio is <code>451490</code>. (The <code>*</code> adjacent to <code>617</code> is <em>not</em> a gear because it is only adjacent to one part number.) Adding up all of the gear ratios produces <code><em>467835</em></code>.</p>\n",
       "<p><em>What is the sum of all of the gear ratios in your engine schematic?</em></p>\n",
       "</article>"
      ],
      "text/plain": [
       "<IPython.core.display.Markdown object>"
      ]
     },
     "metadata": {},
     "output_type": "display_data"
    }
   ],
   "source": [
    "show_task(DAY, 2)"
   ]
  },
  {
   "cell_type": "code",
   "execution_count": 60,
   "metadata": {},
   "outputs": [],
   "source": [
    "test_lines = '''\n",
    "467..114..\n",
    "...*......\n",
    "..35..633.\n",
    "......#...\n",
    "617*......\n",
    ".....+.58.\n",
    "..592.....\n",
    "......755.\n",
    "...$.*....\n",
    ".664.598..'''.splitlines()"
   ]
  },
  {
   "cell_type": "code",
   "execution_count": 83,
   "metadata": {},
   "outputs": [
    {
     "name": "stdout",
     "output_type": "stream",
     "text": [
      "84159075\n"
     ]
    }
   ],
   "source": [
    "def is_touched_gears(line, prev_line, next_line, line_i, i_start, i_end) -> set[tuple[int, int]]:\n",
    "    gears = set()\n",
    "    output = ''\n",
    "    for i in range(i_start - 1, i_end + 1):\n",
    "        if i < 0 or i >= len(prev_line):\n",
    "            continue\n",
    "        output += prev_line[i]\n",
    "        if prev_line[i] == '*':\n",
    "            gears.add((line_i - 1, i))\n",
    "    \n",
    "    output += ' '\n",
    "\n",
    "    for i in range(i_start - 1, i_end + 1):\n",
    "        if i < 0 or i >= len(next_line):\n",
    "            continue\n",
    "        output += next_line[i]\n",
    "        if next_line[i] == '*':\n",
    "            gears.add((line_i + 1, i))\n",
    "\n",
    "    output += ' '\n",
    "\n",
    "    for i in (i_start - 1, i_end):\n",
    "        if i < 0 or i >= len(line):\n",
    "            continue\n",
    "        output += line[i]\n",
    "        if line[i] == '*':\n",
    "            gears.add((line_i, i))\n",
    "    \n",
    "    output += ' '\n",
    "\n",
    "    # print('=== gears:', gears, line[i_start: i_end], output)\n",
    "    return gears\n",
    "\n",
    "nums_per_gear: dict[tuple[int, int], list[int]] = {}\n",
    "for line_i, line in enumerate(lines):\n",
    "    next_line = lines[line_i + 1] if line_i + 1 < len(lines) else ''\n",
    "    prev_line = lines[line_i - 1] if line_i > 0 else ''\n",
    "\n",
    "    num_str = ''\n",
    "    start_i = None\n",
    "    end_i = None\n",
    "    for i, c in enumerate(line):\n",
    "        if c in '0123456789':\n",
    "            num_str += c\n",
    "            if start_i is None:\n",
    "                start_i = i\n",
    "            continue\n",
    "        if num_str:\n",
    "            end_i = i\n",
    "            gears = is_touched_gears(line, prev_line, next_line, line_i, start_i, end_i)\n",
    "            # print(num_str, gears)\n",
    "            for gear in gears:\n",
    "                if gear not in nums_per_gear:\n",
    "                    nums_per_gear[gear] = []\n",
    "                nums_per_gear[gear].append(int(num_str))\n",
    "            num_str = ''\n",
    "            start_i = None\n",
    "            end_i = None\n",
    "    if num_str:\n",
    "        end_i = i\n",
    "        gears = is_touched_gears(line, prev_line, next_line, line_i, start_i, end_i)\n",
    "        # print(num_str, gears)\n",
    "        for gear in gears:\n",
    "            if gear not in nums_per_gear:\n",
    "                nums_per_gear[gear] = []\n",
    "            nums_per_gear[gear].append(int(num_str))\n",
    "        num_str = ''\n",
    "        start_i = None\n",
    "        end_i = None\n",
    "num_sum = 0\n",
    "for gear, nums in nums_per_gear.items():\n",
    "    if len(nums) == 2:\n",
    "        num_sum += nums[0] * nums[1]\n",
    "\n",
    "# print(nums_per_gear)\n",
    "print(num_sum)"
   ]
  },
  {
   "cell_type": "code",
   "execution_count": 84,
   "metadata": {},
   "outputs": [
    {
     "data": {
      "text/plain": [
       "\"That's the right answer!  You are one gold star closer to restoring snow operations.You have completed Day 3! (solved in 36:57)\""
      ]
     },
     "execution_count": 84,
     "metadata": {},
     "output_type": "execute_result"
    }
   ],
   "source": [
    "send_result(DAY, 2, num_sum)"
   ]
  },
  {
   "cell_type": "code",
   "execution_count": null,
   "metadata": {},
   "outputs": [],
   "source": []
  }
 ],
 "metadata": {
  "kernelspec": {
   "display_name": "venv",
   "language": "python",
   "name": "python3"
  },
  "language_info": {
   "codemirror_mode": {
    "name": "ipython",
    "version": 3
   },
   "file_extension": ".py",
   "mimetype": "text/x-python",
   "name": "python",
   "nbconvert_exporter": "python",
   "pygments_lexer": "ipython3",
   "version": "3.11.6"
  },
  "orig_nbformat": 4
 },
 "nbformat": 4,
 "nbformat_minor": 2
}

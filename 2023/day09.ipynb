{
 "cells": [
  {
   "cell_type": "code",
   "execution_count": 1,
   "metadata": {},
   "outputs": [],
   "source": [
    "from common import *\n",
    "\n",
    "DAY = 9"
   ]
  },
  {
   "cell_type": "code",
   "execution_count": 2,
   "metadata": {},
   "outputs": [
    {
     "data": {
      "text/markdown": [
       "<article class=\"day-desc\"><h2>--- Day 9: Mirage Maintenance ---</h2><p>You ride the camel through the sandstorm and stop where the ghost's maps told you to stop. <span title=\"The sound of a sandstorm slowly settling.\">The sandstorm subsequently subsides, somehow seeing you standing at an <em>oasis</em>!</span></p>\n",
       "<p>The camel goes to get some water and you stretch your neck. As you look up, you discover what must be yet another giant floating island, this one made of metal! That must be where the <em>parts to fix the sand machines</em> come from.</p>\n",
       "<p>There's even a <a href=\"https://en.wikipedia.org/wiki/Hang_gliding\" target=\"_blank\">hang glider</a> partially buried in the sand here; once the sun rises and heats up the sand, you might be able to use the glider and the hot air to get all the way up to the metal island!</p>\n",
       "<p>While you wait for the sun to rise, you admire the oasis hidden here in the middle of Desert Island. It must have a delicate ecosystem; you might as well take some ecological readings while you wait. Maybe you can report any environmental instabilities you find to someone so the oasis can be around for the next sandstorm-worn traveler.</p>\n",
       "<p>You pull out your handy <em>Oasis And Sand Instability Sensor</em> and analyze your surroundings. The OASIS produces a report of many values and how they are changing over time (your puzzle input). Each line in the report contains the <em>history</em> of a single value. For example:</p>\n",
       "<pre><code>0 3 6 9 12 15\n",
       "1 3 6 10 15 21\n",
       "10 13 16 21 30 45\n",
       "</code></pre>\n",
       "<p>To best protect the oasis, your environmental report should include a <em>prediction of the next value</em> in each history. To do this, start by making a new sequence from the <em>difference at each step</em> of your history. If that sequence is <em>not</em> all zeroes, repeat this process, using the sequence you just generated as the input sequence. Once all of the values in your latest sequence are zeroes, you can extrapolate what the next value of the original history should be.</p>\n",
       "<p>In the above dataset, the first history is <code>0 3 6 9 12 15</code>. Because the values increase by <code>3</code> each step, the first sequence of differences that you generate will be <code>3 3 3 3 3</code>. Note that this sequence has one fewer value than the input sequence because at each step it considers two numbers from the input. Since these values aren't <em>all zero</em>, repeat the process: the values differ by <code>0</code> at each step, so the next sequence is <code>0 0 0 0</code>. This means you have enough information to extrapolate the history! Visually, these sequences can be arranged like this:</p>\n",
       "<pre><code>0   3   6   9  12  15\n",
       "  3   3   3   3   3\n",
       "    0   0   0   0\n",
       "</code></pre>\n",
       "<p>To extrapolate, start by adding a new zero to the end of your list of zeroes; because the zeroes represent differences between the two values above them, this also means there is now a placeholder in every sequence above it:</p><p>\n",
       "</p><pre><code>0   3   6   9  12  15   <em>B</em>\n",
       "  3   3   3   3   3   <em>A</em>\n",
       "    0   0   0   0   <em>0</em>\n",
       "</code></pre>\n",
       "<p>You can then start filling in placeholders from the bottom up. <code>A</code> needs to be the result of increasing <code>3</code> (the value to its left) by <code>0</code> (the value below it); this means <code>A</code> must be <code><em>3</em></code>:</p>\n",
       "<pre><code>0   3   6   9  12  15   B\n",
       "  3   3   3   3   <em>3</em>   <em>3</em>\n",
       "    0   0   0   0   <em>0</em>\n",
       "</code></pre>\n",
       "<p>Finally, you can fill in <code>B</code>, which needs to be the result of increasing <code>15</code> (the value to its left) by <code>3</code> (the value below it), or <code><em>18</em></code>:</p>\n",
       "<pre><code>0   3   6   9  12  <em>15</em>  <em>18</em>\n",
       "  3   3   3   3   3   <em>3</em>\n",
       "    0   0   0   0   0\n",
       "</code></pre>\n",
       "<p>So, the next value of the first history is <code><em>18</em></code>.</p>\n",
       "<p>Finding all-zero differences for the second history requires an additional sequence:</p>\n",
       "<pre><code>1   3   6  10  15  21\n",
       "  2   3   4   5   6\n",
       "    1   1   1   1\n",
       "      0   0   0\n",
       "</code></pre>\n",
       "<p>Then, following the same process as before, work out the next value in each sequence from the bottom up:</p>\n",
       "<pre><code>1   3   6  10  15  21  <em>28</em>\n",
       "  2   3   4   5   6   <em>7</em>\n",
       "    1   1   1   1   <em>1</em>\n",
       "      0   0   0   <em>0</em>\n",
       "</code></pre>\n",
       "<p>So, the next value of the second history is <code><em>28</em></code>.</p>\n",
       "<p>The third history requires even more sequences, but its next value can be found the same way:</p>\n",
       "<pre><code>10  13  16  21  30  45  <em>68</em>\n",
       "   3   3   5   9  15  <em>23</em>\n",
       "     0   2   4   6   <em>8</em>\n",
       "       2   2   2   <em>2</em>\n",
       "         0   0   <em>0</em>\n",
       "</code></pre>\n",
       "<p>So, the next value of the third history is <code><em>68</em></code>.</p>\n",
       "<p>If you find the next value for each history in this example and add them together, you get <code><em>114</em></code>.</p>\n",
       "<p>Analyze your OASIS report and extrapolate the next value for each history. <em>What is the sum of these extrapolated values?</em></p>\n",
       "</article>"
      ],
      "text/plain": [
       "<IPython.core.display.Markdown object>"
      ]
     },
     "metadata": {},
     "output_type": "display_data"
    }
   ],
   "source": [
    "show_task(DAY)"
   ]
  },
  {
   "cell_type": "code",
   "execution_count": null,
   "metadata": {},
   "outputs": [],
   "source": [
    "lines = get_test_input_lines(DAY)"
   ]
  },
  {
   "cell_type": "code",
   "execution_count": 13,
   "metadata": {},
   "outputs": [
    {
     "data": {
      "text/plain": [
       "68"
      ]
     },
     "execution_count": 13,
     "metadata": {},
     "output_type": "execute_result"
    }
   ],
   "source": [
    "def calc_next(numbers: list[int]) -> int:\n",
    "    lines = [numbers,]\n",
    "    for i in range(len(numbers) - 1, 0, -1):\n",
    "        new_line = []\n",
    "        for j in range(i):\n",
    "            new_line.append(lines[-1][j + 1] - lines[-1][j])\n",
    "        lines.append(new_line)\n",
    "    return sum([line[-1] for line in lines])\n",
    "\n",
    "calc_next([int(x) for x in '10  13  16  21  30  45'.split()])"
   ]
  },
  {
   "cell_type": "code",
   "execution_count": null,
   "metadata": {},
   "outputs": [],
   "source": [
    "#   10  13  16  21  30  45  [68]\n",
    "#      3   3   5   9  15  [23]\n",
    "#        0   2   4   6   [8]\n",
    "#          2   2   2   [2]\n",
    "#            0   0   [0]\n",
    "#              0   [0]\n"
   ]
  },
  {
   "cell_type": "code",
   "execution_count": 14,
   "metadata": {},
   "outputs": [],
   "source": [
    "lines = get_input_lines(DAY)"
   ]
  },
  {
   "cell_type": "code",
   "execution_count": 16,
   "metadata": {},
   "outputs": [
    {
     "data": {
      "text/plain": [
       "1702218515"
      ]
     },
     "execution_count": 16,
     "metadata": {},
     "output_type": "execute_result"
    }
   ],
   "source": [
    "result = 0\n",
    "for line in lines:\n",
    "    numbers = [int(x) for x in line.split()]\n",
    "    result += calc_next(numbers)\n",
    "result"
   ]
  },
  {
   "cell_type": "code",
   "execution_count": 17,
   "metadata": {},
   "outputs": [
    {
     "data": {
      "text/plain": [
       "\"That's the right answer!  You are one gold star closer to restoring snow operations. [Continue to Part Two] (solved in 17:35)\""
      ]
     },
     "execution_count": 17,
     "metadata": {},
     "output_type": "execute_result"
    }
   ],
   "source": [
    "send_result(DAY, 1, result)"
   ]
  },
  {
   "cell_type": "code",
   "execution_count": 18,
   "metadata": {},
   "outputs": [
    {
     "data": {
      "text/markdown": [
       "<article class=\"day-desc\"><h2 id=\"part2\">--- Part Two ---</h2><p>Of course, it would be nice to have <em>even more history</em> included in your report. Surely it's safe to just <em>extrapolate backwards</em> as well, right?</p>\n",
       "<p>For each history, repeat the process of finding differences until the sequence of differences is entirely zero. Then, rather than adding a zero to the end and filling in the next values of each previous sequence, you should instead add a zero to the <em>beginning</em> of your sequence of zeroes, then fill in new <em>first</em> values for each previous sequence.</p>\n",
       "<p>In particular, here is what the third example history looks like when extrapolating back in time:</p>\n",
       "<pre><code><em>5</em>  10  13  16  21  30  45\n",
       "  <em>5</em>   3   3   5   9  15\n",
       "   <em>-2</em>   0   2   4   6\n",
       "      <em>2</em>   2   2   2\n",
       "        <em>0</em>   0   0\n",
       "</code></pre>\n",
       "<p>Adding the new values on the left side of each sequence from bottom to top eventually reveals the new left-most history value: <code><em>5</em></code>.</p>\n",
       "<p>Doing this for the remaining example data above results in previous values of <code><em>-3</em></code> for the first history and <code><em>0</em></code> for the second history. Adding all three new values together produces <code><em>2</em></code>.</p>\n",
       "<p>Analyze your OASIS report again, this time extrapolating the <em>previous</em> value for each history. <em>What is the sum of these extrapolated values?</em></p>\n",
       "</article>"
      ],
      "text/plain": [
       "<IPython.core.display.Markdown object>"
      ]
     },
     "metadata": {},
     "output_type": "display_data"
    }
   ],
   "source": [
    "show_task(DAY, 2)"
   ]
  },
  {
   "cell_type": "code",
   "execution_count": 41,
   "metadata": {},
   "outputs": [
    {
     "name": "stdout",
     "output_type": "stream",
     "text": [
      "   10   13   16   21   30   45 \n",
      "      3    3    5    9   15 \n",
      "        0    2    4    6 \n",
      "          2    2    2 \n",
      "            0    0 \n",
      "              0 \n"
     ]
    },
    {
     "data": {
      "text/plain": [
       "5"
      ]
     },
     "execution_count": 41,
     "metadata": {},
     "output_type": "execute_result"
    }
   ],
   "source": [
    "def calc_prev(numbers: list[int], show=False) -> int:\n",
    "    lines = [numbers,]\n",
    "    for i in range(len(numbers) - 1, 0, -1):\n",
    "        new_line = []\n",
    "        for j in range(i):\n",
    "            new_line.append(lines[-1][j + 1] - lines[-1][j])\n",
    "        lines.append(new_line)\n",
    "\n",
    "    if show:\n",
    "        for i, line in enumerate(lines):\n",
    "            for j, x in enumerate(line):\n",
    "                if j == 0:\n",
    "                    print(f'  ' * i, end=' ')\n",
    "                print(f'{x:4}', end=' ')\n",
    "            print()\n",
    "\n",
    "    prev = 0\n",
    "    for line in lines[::-1]:\n",
    "        prev = line[0] - prev\n",
    "    return prev\n",
    "\n",
    "calc_prev([int(x) for x in '10  13  16  21  30  45'.split()], True)"
   ]
  },
  {
   "cell_type": "code",
   "execution_count": 42,
   "metadata": {},
   "outputs": [
    {
     "name": "stdout",
     "output_type": "stream",
     "text": [
      "   10   19   48  117  252  484  864 1510 2714 5159 10327 21218 43546 87630 171255 323839 592306 1049131 1803090 3013315 4907320 \n",
      "      9   29   69  135  232  380  646 1204 2445 5168 10891 22328 44084 83625 152584 268467 456825 753959 1210225 1894005 \n",
      "       20   40   66   97  148  266  558 1241 2723 5723 11437 21756 39541 68959 115883 188358 297134 456266 683780 \n",
      "         20   26   31   51  118  292  683 1482 3000 5714 10319 17785 29418 46924 72475 108776 159132 227514 \n",
      "            6    5   20   67  174  391  799 1518 2714 4605 7466 11633 17506 25551 36301 50356 68382 \n",
      "             -1   15   47  107  217  408  719 1196 1891 2861 4167 5873 8045 10750 14055 18026 \n",
      "               16   32   60  110  191  311  477  695  970 1306 1706 2172 2705 3305 3971 \n",
      "                 16   28   50   81  120  166  218  275  336  400  466  533  600  666 \n",
      "                   12   22   31   39   46   52   57   61   64   66   67   67   66 \n",
      "                     10    9    8    7    6    5    4    3    2    1    0   -1 \n",
      "                       -1   -1   -1   -1   -1   -1   -1   -1   -1   -1   -1 \n",
      "                          0    0    0    0    0    0    0    0    0    0 \n",
      "                            0    0    0    0    0    0    0    0    0 \n",
      "                              0    0    0    0    0    0    0    0 \n",
      "                                0    0    0    0    0    0    0 \n",
      "                                  0    0    0    0    0    0 \n",
      "                                    0    0    0    0    0 \n",
      "                                      0    0    0    0 \n",
      "                                        0    0    0 \n",
      "                                          0    0 \n",
      "                                            0 \n"
     ]
    },
    {
     "data": {
      "text/plain": [
       "9"
      ]
     },
     "execution_count": 42,
     "metadata": {},
     "output_type": "execute_result"
    }
   ],
   "source": [
    "calc_prev([int(x) for x in lines[0].split()], True)"
   ]
  },
  {
   "cell_type": "code",
   "execution_count": 43,
   "metadata": {},
   "outputs": [
    {
     "data": {
      "text/plain": [
       "925"
      ]
     },
     "execution_count": 43,
     "metadata": {},
     "output_type": "execute_result"
    }
   ],
   "source": [
    "result = 0\n",
    "for line in lines:\n",
    "    numbers = [int(x) for x in line.split()]\n",
    "    result += calc_prev(numbers)\n",
    "result"
   ]
  },
  {
   "cell_type": "code",
   "execution_count": 44,
   "metadata": {},
   "outputs": [
    {
     "data": {
      "text/plain": [
       "\"That's the right answer!  You are one gold star closer to restoring snow operations.You have completed Day 9! (solved in 17:32)\""
      ]
     },
     "execution_count": 44,
     "metadata": {},
     "output_type": "execute_result"
    }
   ],
   "source": [
    "send_result(DAY, 2, result)"
   ]
  },
  {
   "cell_type": "code",
   "execution_count": null,
   "metadata": {},
   "outputs": [],
   "source": []
  }
 ],
 "metadata": {
  "kernelspec": {
   "display_name": "venv",
   "language": "python",
   "name": "python3"
  },
  "language_info": {
   "codemirror_mode": {
    "name": "ipython",
    "version": 3
   },
   "file_extension": ".py",
   "mimetype": "text/x-python",
   "name": "python",
   "nbconvert_exporter": "python",
   "pygments_lexer": "ipython3",
   "version": "3.11.6"
  },
  "orig_nbformat": 4
 },
 "nbformat": 4,
 "nbformat_minor": 2
}

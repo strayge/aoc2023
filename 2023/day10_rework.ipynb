{
 "cells": [
  {
   "cell_type": "code",
   "execution_count": 1,
   "metadata": {},
   "outputs": [],
   "source": [
    "from common import *\n",
    "\n",
    "DAY = 10\n",
    "lines = get_input_lines(DAY)"
   ]
  },
  {
   "cell_type": "code",
   "execution_count": 2,
   "metadata": {},
   "outputs": [],
   "source": [
    "lines = '''.F----7F7F7F7F-7....\n",
    ".|F--7||||||||FJ....\n",
    ".||.FJ||||||||L7....\n",
    "FJL7L7LJLJ||LJ.L-7..\n",
    "L--J.L7...LJS7F-7L7.\n",
    "....F-J..F7FJ|L7L7L7\n",
    "....L7.F7||L7|.L7L7|\n",
    ".....|FJLJ|FJ|F7|.LJ\n",
    "....FJL-7.||.||||...\n",
    "....L---J.LJ.LJLJ...'''.splitlines()"
   ]
  },
  {
   "cell_type": "code",
   "execution_count": 3,
   "metadata": {},
   "outputs": [],
   "source": [
    "from structures import Map\n",
    "\n",
    "directions = {\n",
    "    (0, -1): '-J7S',\n",
    "    (0, 1): '-LFS',\n",
    "    (-1, 0): '|LJS',\n",
    "    (1, 0): '|7FS',\n",
    "}\n",
    "directions_inv = {(k[0] * -1, k[1] * -1): v for k, v in directions.items()}\n",
    "\n",
    "def is_connected(y: int, x: int, value: int, new_y: int, new_x: int, new_value: int) -> bool:\n",
    "    diff = (new_y - y, new_x - x)\n",
    "    return lines[y][x] in directions[diff] and lines[new_y][new_x] in directions_inv[diff]"
   ]
  },
  {
   "cell_type": "code",
   "execution_count": 4,
   "metadata": {},
   "outputs": [
    {
     "name": "stdout",
     "output_type": "stream",
     "text": [
      " . 59 60 61 62 63 64 69 68 61 60 51 50 43 42 41  .  .  .  . \n",
      " . 58 47 46 45 44 65 70 67 62 59 52 49 44 39 40  .  .  .  . \n",
      " . 57 48  . 42 43 66 69 66 63 58 53 48 45 38 37  .  .  .  . \n",
      "55 56 49 50 41 40 67 68 65 64 57 54 47 46  . 36 35 34  .  . \n",
      "54 53 52 51  . 39 38  .  .  . 56 55  0  1 20 21 22 33 32  . \n",
      " .  .  .  . 35 36 37  .  . 14 13  2  1  2 19 18 23 24 31 30 \n",
      " .  .  .  . 34 33  . 19 18 15 12  3  4  3  . 17 16 25 26 29 \n",
      " .  .  .  .  . 32 21 20 17 16 11  6  5  4  9 10 15  . 27 28 \n",
      " .  .  .  . 30 31 22 23 24  . 10  7  .  5  8 11 14  .  .  . \n",
      " .  .  .  . 29 28 27 26 25  .  9  8  .  6  7 12 13  .  .  . \n"
     ]
    }
   ],
   "source": [
    "dmap = Map(len(lines), len(lines[0]))\n",
    "y, x = Map.from_object(lines).find_value('S')\n",
    "\n",
    "dmap.map[y][x] = 0\n",
    "while dmap.calc_inc_step(condition=is_connected):\n",
    "    pass\n",
    "\n",
    "dmap.show()"
   ]
  },
  {
   "cell_type": "code",
   "execution_count": 5,
   "metadata": {},
   "outputs": [],
   "source": [
    "result = max(max(line) for line in dmap.map)\n",
    "# assert result == 6867"
   ]
  },
  {
   "cell_type": "code",
   "execution_count": 6,
   "metadata": {},
   "outputs": [
    {
     "name": "stdout",
     "output_type": "stream",
     "text": [
      " .  .  .  .  .  .  .  .  .  .  .  .  .  .  .  .  .  .  .  .  .  .  .  .  .  .  .  .  .  .  .  .  .  .  .  .  .  .  .  .  .  . \n",
      " .  .  .  .  .  .  .  .  .  .  .  .  .  .  .  .  .  .  .  .  .  .  .  .  .  .  .  .  .  .  .  .  .  .  .  .  .  .  .  .  .  . \n",
      " .  .  .  . 59 59 60 60 61 61 62 62 63 63 64  . 69 68 68  . 61 60 60  . 51 50 50  . 43 42 42 41 41  .  .  .  .  .  .  .  .  . \n",
      " .  .  .  . 58  .  .  .  .  .  .  .  .  . 64  . 69  . 67  . 61  . 59  . 51  . 49  . 43  .  .  . 40  .  .  .  .  .  .  .  .  . \n",
      " .  .  .  . 58  . 47 46 46 45 45 44 44  . 65  . 70  . 67  . 62  . 59  . 52  . 49  . 44  . 39 39 40  .  .  .  .  .  .  .  .  . \n",
      " .  .  .  . 57  . 47  .  .  .  .  . 43  . 65  . 69  . 66  . 62  . 58  . 52  . 48  . 44  . 38  .  .  .  .  .  .  .  .  .  .  . \n",
      " .  .  .  . 57  . 48  .  .  . 42 42 43  . 66  . 69  . 66  . 63  . 58  . 53  . 48  . 45  . 38 37 37  .  .  .  .  .  .  .  .  . \n",
      " .  .  .  . 56  . 48  .  .  . 41  .  .  . 66  . 68  . 65  . 63  . 57  . 53  . 47  . 45  .  .  . 36  .  .  .  .  .  .  .  .  . \n",
      " .  . 55 55 56  . 49 49 50  . 41 40 40  . 67 67 68  . 65 64 64  . 57  . 54  . 47 46 46  .  .  . 36 35 35 34 34  .  .  .  .  . \n",
      " .  . 54  .  .  .  .  . 50  .  .  . 39  .  .  .  .  .  .  .  .  . 56  . 54  .  .  .  .  .  .  .  .  .  .  . 33  .  .  .  .  . \n",
      " .  . 54 53 53 52 52 51 51  .  .  . 39 38 38  .  .  .  .  .  .  . 56 55 55  .  0  0  1  . 20 20 21 21 22  . 33 32 32  .  .  . \n",
      " .  .  .  .  .  .  .  .  .  .  .  .  .  . 37  .  .  .  .  .  .  .  .  .  .  .  0  .  1  . 19  .  .  . 22  .  .  . 31  .  .  . \n",
      " .  .  .  .  .  .  .  .  .  . 35 35 36 36 37  .  .  .  .  . 14 13 13  .  2  1  1  .  2  . 19 18 18  . 23 23 24  . 31 30 30  . \n",
      " .  .  .  .  .  .  .  .  .  . 34  .  .  .  .  .  .  .  .  . 14  . 12  .  2  .  .  .  2  .  .  . 17  .  .  . 24  .  .  . 29  . \n",
      " .  .  .  .  .  .  .  .  .  . 34 33 33  .  .  . 19 18 18  . 15  . 12  .  3  3  4  .  3  .  .  . 17 16 16  . 25 25 26  . 29  . \n",
      " .  .  .  .  .  .  .  .  .  .  .  . 32  .  .  . 19  . 17  . 15  . 11  .  .  .  4  .  3  .  .  .  .  . 15  .  .  . 26  . 28  . \n",
      " .  .  .  .  .  .  .  .  .  .  .  . 32  . 21 20 20  . 17 16 16  . 11  .  6  5  5  .  4  .  9  9 10  . 15  .  .  . 27 27 28  . \n",
      " .  .  .  .  .  .  .  .  .  .  .  . 31  . 21  .  .  .  .  .  .  . 10  .  6  .  .  .  4  .  8  . 10  . 14  .  .  .  .  .  .  . \n",
      " .  .  .  .  .  .  .  .  .  . 30 30 31  . 22 22 23 23 24  .  .  . 10  .  7  .  .  .  5  .  8  . 11  . 14  .  .  .  .  .  .  . \n",
      " .  .  .  .  .  .  .  .  .  . 29  .  .  .  .  .  .  . 24  .  .  .  9  .  7  .  .  .  5  .  7  . 11  . 13  .  .  .  .  .  .  . \n",
      " .  .  .  .  .  .  .  .  .  . 29 28 28 27 27 26 26 25 25  .  .  .  9  8  8  .  .  .  6  6  7  . 12 12 13  .  .  .  .  .  .  . \n",
      " .  .  .  .  .  .  .  .  .  .  .  .  .  .  .  .  .  .  .  .  .  .  .  .  .  .  .  .  .  .  .  .  .  .  .  .  .  .  .  .  .  . \n"
     ]
    }
   ],
   "source": [
    "def change_coord(x):\n",
    "    return x * 2 + 2\n",
    "\n",
    "pmap = Map(change_coord(dmap.h), change_coord(dmap.w))\n",
    "\n",
    "max_d = max(max(line) for line in dmap.map)\n",
    "start_y, start_x = dmap.find_value(max_d)\n",
    "pmap.map[change_coord(start_y)][change_coord(start_x)] = max_d\n",
    "\n",
    "for y, x, _ in dmap.get_nearest_points_by_value(start_y, start_x, max_d - 1):\n",
    "    pmap.map[change_coord(start_y) + y - start_y][change_coord(start_x) + x - start_x] = dmap.map[y][x]\n",
    "    pmap.map[change_coord(y)][change_coord(x)] = dmap.map[y][x]\n",
    "    while True:\n",
    "        num = dmap.map[y][x]\n",
    "        for new_y, new_x, new_num in dmap.get_nearest_points_by_value(y, x, num - 1):\n",
    "            pmap.map[change_coord(new_y)][change_coord(new_x)] = new_num\n",
    "            pmap.map[change_coord(y) + new_y - y][change_coord(x) + new_x - x] = new_num\n",
    "            y, x = new_y, new_x\n",
    "            break\n",
    "        else:\n",
    "            break\n",
    "\n",
    "pmap.show()"
   ]
  },
  {
   "cell_type": "code",
   "execution_count": 7,
   "metadata": {},
   "outputs": [
    {
     "name": "stdout",
     "output_type": "stream",
     "text": [
      " O  O  O  O  O  O  O  O  O  O  O  O  O  O  O  O  O  O  O  O  O  O  O  O  O  O  O  O  O  O  O  O  O  O  O  O  O  O  O  O  O  O \n",
      " O  O  O  O  O  O  O  O  O  O  O  O  O  O  O  O  O  O  O  O  O  O  O  O  O  O  O  O  O  O  O  O  O  O  O  O  O  O  O  O  O  O \n",
      " O  O  O  O 59 59 60 60 61 61 62 62 63 63 64  O 69 68 68  O 61 60 60  O 51 50 50  O 43 42 42 41 41  O  O  O  O  O  O  O  O  O \n",
      " O  O  O  O 58  .  .  .  .  .  .  .  .  . 64  O 69  . 67  O 61  . 59  O 51  . 49  O 43  .  .  . 40  O  O  O  O  O  O  O  O  O \n",
      " O  O  O  O 58  . 47 46 46 45 45 44 44  . 65  O 70  . 67  O 62  . 59  O 52  . 49  O 44  . 39 39 40  O  O  O  O  O  O  O  O  O \n",
      " O  O  O  O 57  . 47  O  O  O  O  O 43  . 65  O 69  . 66  O 62  . 58  O 52  . 48  O 44  . 38  O  O  O  O  O  O  O  O  O  O  O \n",
      " O  O  O  O 57  . 48  O  O  O 42 42 43  . 66  O 69  . 66  O 63  . 58  O 53  . 48  O 45  . 38 37 37  O  O  O  O  O  O  O  O  O \n",
      " O  O  O  O 56  . 48  O  O  O 41  .  .  . 66  O 68  . 65  O 63  . 57  O 53  . 47  O 45  .  .  . 36  O  O  O  O  O  O  O  O  O \n",
      " O  O 55 55 56  . 49 49 50  O 41 40 40  . 67 67 68  . 65 64 64  . 57  O 54  . 47 46 46  .  .  . 36 35 35 34 34  O  O  O  O  O \n",
      " O  O 54  .  .  .  .  . 50  O  O  O 39  .  .  .  .  .  .  .  .  . 56  O 54  .  .  .  .  .  .  .  .  .  .  . 33  O  O  O  O  O \n",
      " O  O 54 53 53 52 52 51 51  O  O  O 39 38 38  .  .  .  .  .  .  . 56 55 55  .  0  0  1  . 20 20 21 21 22  . 33 32 32  O  O  O \n",
      " O  O  O  O  O  O  O  O  O  O  O  O  O  O 37  .  .  .  .  .  .  .  .  .  .  .  0  O  1  . 19  O  O  O 22  .  .  . 31  O  O  O \n",
      " O  O  O  O  O  O  O  O  O  O 35 35 36 36 37  .  .  .  .  . 14 13 13  .  2  1  1  O  2  . 19 18 18  O 23 23 24  . 31 30 30  O \n",
      " O  O  O  O  O  O  O  O  O  O 34  .  .  .  .  .  .  .  .  . 14  O 12  .  2  O  O  O  2  .  .  . 17  O  O  O 24  .  .  . 29  O \n",
      " O  O  O  O  O  O  O  O  O  O 34 33 33  .  .  . 19 18 18  . 15  O 12  .  3  3  4  O  3  .  .  . 17 16 16  O 25 25 26  . 29  O \n",
      " O  O  O  O  O  O  O  O  O  O  O  O 32  .  .  . 19  O 17  . 15  O 11  .  .  .  4  O  3  .  .  .  .  . 15  O  O  O 26  . 28  O \n",
      " O  O  O  O  O  O  O  O  O  O  O  O 32  . 21 20 20  O 17 16 16  O 11  .  6  5  5  O  4  .  9  9 10  . 15  O  O  O 27 27 28  O \n",
      " O  O  O  O  O  O  O  O  O  O  O  O 31  . 21  O  O  O  O  O  O  O 10  .  6  O  O  O  4  .  8  O 10  . 14  O  O  O  O  O  O  O \n",
      " O  O  O  O  O  O  O  O  O  O 30 30 31  . 22 22 23 23 24  O  O  O 10  .  7  O  O  O  5  .  8  O 11  . 14  O  O  O  O  O  O  O \n",
      " O  O  O  O  O  O  O  O  O  O 29  .  .  .  .  .  .  . 24  O  O  O  9  .  7  O  O  O  5  .  7  O 11  . 13  O  O  O  O  O  O  O \n",
      " O  O  O  O  O  O  O  O  O  O 29 28 28 27 27 26 26 25 25  O  O  O  9  8  8  O  O  O  6  6  7  O 12 12 13  O  O  O  O  O  O  O \n",
      " O  O  O  O  O  O  O  O  O  O  O  O  O  O  O  O  O  O  O  O  O  O  O  O  O  O  O  O  O  O  O  O  O  O  O  O  O  O  O  O  O  O \n"
     ]
    }
   ],
   "source": [
    "pmap.map[0][0] = 'O'\n",
    "\n",
    "while pmap.calc_step(\n",
    "    point_filter=lambda y, x, value: value == 'O',\n",
    "    target_filter=lambda y, x, value, new_y, new_x, new_value: new_value == -1,\n",
    "    target_value='O',\n",
    "):\n",
    "    pass\n",
    "\n",
    "pmap.show()"
   ]
  },
  {
   "cell_type": "code",
   "execution_count": 8,
   "metadata": {},
   "outputs": [],
   "source": [
    "result = 0\n",
    "for y, line in enumerate(pmap.map):\n",
    "    for x, value in enumerate(line):\n",
    "        if value == -1 and x % 2 == 0 and y % 2 == 0:\n",
    "            result += 1\n",
    "# assert result == 595"
   ]
  },
  {
   "cell_type": "code",
   "execution_count": null,
   "metadata": {},
   "outputs": [],
   "source": []
  },
  {
   "cell_type": "code",
   "execution_count": 9,
   "metadata": {},
   "outputs": [
    {
     "name": "stdout",
     "output_type": "stream",
     "text": [
      " . 59 60 61 62 63 64 69 68 61 60 51 50 43 42 41  .  .  .  . \n",
      " . 58 47 46 45 44 65 70 67 62 59 52 49 44 39 40  .  .  .  . \n",
      " . 57 48  . 42 43 66 69 66 63 58 53 48 45 38 37  .  .  .  . \n",
      "55 56 49 50 41 40 67 68 65 64 57 54 47 46  . 36 35 34  .  . \n",
      "54 53 52 51  . 39 38  .  .  . 56 55  0  1 20 21 22 33 32  . \n",
      " .  .  .  . 35 36 37  .  . 14 13  2  1  2 19 18 23 24 31 30 \n",
      " .  .  .  . 34 33  . 19 18 15 12  3  4  3  . 17 16 25 26 29 \n",
      " .  .  .  .  . 32 21 20 17 16 11  6  5  4  9 10 15  . 27 28 \n",
      " .  .  .  . 30 31 22 23 24  . 10  7  .  5  8 11 14  .  .  . \n",
      " .  .  .  . 29 28 27 26 25  .  9  8  .  6  7 12 13  .  .  . \n"
     ]
    }
   ],
   "source": [
    "# alternative solution\n",
    "\n",
    "dmap = Map(len(lines), len(lines[0]))\n",
    "y, x = Map.from_object(lines).find_value('S')\n",
    "\n",
    "dmap.map[y][x] = 0\n",
    "while dmap.calc_inc_step(condition=is_connected):\n",
    "    pass\n",
    "\n",
    "dmap.show()"
   ]
  },
  {
   "cell_type": "code",
   "execution_count": 10,
   "metadata": {},
   "outputs": [
    {
     "name": "stdout",
     "output_type": "stream",
     "text": [
      " I 59 60 61 62 63 64 69 68 61 60 51 50 43 42 41  I  I  I  I \n",
      " I 58 47 46 45 44 65 70 67 62 59 52 49 44 39 40  I  I  I  I \n",
      " I 57 48  I 42 43 66 69 66 63 58 53 48 45 38 37  I  I  I  I \n",
      "55 56 49 50 41 40 67 68 65 64 57 54 47 46  O 36 35 34  I  I \n",
      "54 53 52 51  I 39 38  O  O  O 56 55  0  1 20 21 22 33 32  I \n",
      " I  I  I  I 35 36 37  O  O 14 13  2  1  2 19 18 23 24 31 30 \n",
      " I  I  I  I 34 33  O 19 18 15 12  3  4  3  O 17 16 25 26 29 \n",
      " I  I  I  I  I 32 21 20 17 16 11  6  5  4  9 10 15  I 27 28 \n",
      " I  I  I  I 30 31 22 23 24  I 10  7  I  5  8 11 14  I  I  I \n",
      " I  I  I  I 29 28 27 26 25  I  9  8  I  6  7 12 13  I  I  I \n"
     ]
    }
   ],
   "source": [
    "processed = set()\n",
    "y, x = dmap.find_value(0)\n",
    "rev = False\n",
    "while True:\n",
    "    next_value = dmap.map[y][x] + 1 if not rev else dmap.map[y][x] - 1\n",
    "    if next_value < 0:\n",
    "        break\n",
    "    nearest = list(dmap.get_nearest_points_by_value(y, x, next_value))\n",
    "    if not nearest and not rev:\n",
    "        rev = True\n",
    "        continue\n",
    "    if not nearest:\n",
    "        break\n",
    "    next_y, next_x, _ = nearest[0]\n",
    "    processed.add((next_y, next_x))\n",
    "    y_diff, x_diff = next_y - y, next_x - x\n",
    "    colors_diffs_by_diff = {\n",
    "        (0, -1): [(1, 0), (-1, 0)],\n",
    "        (0, 1): [(-1, 0), (1, 0)],\n",
    "        (-1, 0): [(0, -1), (0, 1)],\n",
    "        (1, 0): [(0, 1), (0, -1)],\n",
    "    }\n",
    "    in_diff, out_diff = colors_diffs_by_diff[(y_diff, x_diff)]\n",
    "    for some_diff, diff_char in ((in_diff, 'I'), (out_diff, 'O')):\n",
    "        for y_color, x_color in ((next_y, next_x), (y, x)):\n",
    "            while True:\n",
    "                y_color += some_diff[0]\n",
    "                x_color += some_diff[1]\n",
    "                if not (0 <= y_color < dmap.h) or not (0 <= x_color < dmap.w):\n",
    "                    break\n",
    "                color_value = dmap.map[y_color][x_color]\n",
    "                if color_value not in (-1, 'I', 'O'):\n",
    "                    break\n",
    "                dmap.map[y_color][x_color] = diff_char\n",
    "    y, x = next_y, next_x\n",
    "\n",
    "dmap.show()"
   ]
  },
  {
   "cell_type": "code",
   "execution_count": 11,
   "metadata": {},
   "outputs": [
    {
     "data": {
      "text/plain": [
       "8"
      ]
     },
     "execution_count": 11,
     "metadata": {},
     "output_type": "execute_result"
    }
   ],
   "source": [
    "counts = {}\n",
    "for char in 'IO':\n",
    "    counts[char] = sum(sum(1 for v in line if v == char) for line in dmap.map)\n",
    "min(counts.values())"
   ]
  },
  {
   "cell_type": "code",
   "execution_count": null,
   "metadata": {},
   "outputs": [],
   "source": []
  }
 ],
 "metadata": {
  "kernelspec": {
   "display_name": "venv",
   "language": "python",
   "name": "python3"
  },
  "language_info": {
   "codemirror_mode": {
    "name": "ipython",
    "version": 3
   },
   "file_extension": ".py",
   "mimetype": "text/x-python",
   "name": "python",
   "nbconvert_exporter": "python",
   "pygments_lexer": "ipython3",
   "version": "3.11.6"
  },
  "orig_nbformat": 4
 },
 "nbformat": 4,
 "nbformat_minor": 2
}

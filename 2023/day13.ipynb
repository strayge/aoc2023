{
 "cells": [
  {
   "cell_type": "code",
   "execution_count": 1,
   "metadata": {},
   "outputs": [],
   "source": [
    "from common import *\n",
    "\n",
    "DAY = 13"
   ]
  },
  {
   "cell_type": "code",
   "execution_count": 2,
   "metadata": {},
   "outputs": [
    {
     "data": {
      "text/markdown": [
       "<article class=\"day-desc\"><h2>--- Day 13: Point of Incidence ---</h2><p>With your help, the hot springs team locates an appropriate spring which launches you neatly and precisely up to the edge of <em>Lava Island</em>.</p>\n",
       "<p>There's just one problem: you don't see any <em>lava</em>.</p>\n",
       "<p>You <em>do</em> see a lot of ash and igneous rock; there are even what look like gray mountains scattered around. After a while, you make your way to a nearby cluster of mountains only to discover that the valley between them is completely full of large <em>mirrors</em>.  Most of the mirrors seem to be aligned in a consistent way; perhaps you should head in that direction?</p>\n",
       "<p>As you move through the valley of mirrors, you find that several of them have fallen from the large metal frames keeping them in place. The mirrors are extremely flat and shiny, and many of the fallen mirrors have lodged into the ash at strange angles. Because the terrain is all one color, it's hard to tell where it's safe to walk or where you're about to run into a mirror.</p>\n",
       "<p>You note down the patterns of ash (<code>.</code>) and rocks (<code>#</code>) that you see as you walk (your puzzle input); perhaps by carefully analyzing these patterns, you can figure out where the mirrors are!</p>\n",
       "<p>For example:</p>\n",
       "<pre><code>#.##..##.\n",
       "..#.##.#.\n",
       "##......#\n",
       "##......#\n",
       "..#.##.#.\n",
       "..##..##.\n",
       "#.#.##.#.\n",
       "\n",
       "#...##..#\n",
       "#....#..#\n",
       "..##..###\n",
       "#####.##.\n",
       "#####.##.\n",
       "..##..###\n",
       "#....#..#\n",
       "</code></pre>\n",
       "<p>To find the reflection in each pattern, you need to find a perfect reflection across either a horizontal line between two rows or across a vertical line between two columns.</p>\n",
       "<p>In the first pattern, the reflection is across a vertical line between two columns; arrows on each of the two columns point at the line between the columns:</p>\n",
       "<pre><code>123456789\n",
       "    &gt;&lt;   \n",
       "#.##..##.\n",
       "..#.##.#.\n",
       "##......#\n",
       "##......#\n",
       "..#.##.#.\n",
       "..##..##.\n",
       "#.#.##.#.\n",
       "    &gt;&lt;   \n",
       "123456789\n",
       "</code></pre>\n",
       "<p>In this pattern, the line of reflection is the vertical line between columns 5 and 6. Because the vertical line is not perfectly in the middle of the pattern, part of the pattern (column 1) has nowhere to reflect onto and can be ignored; every other column has a reflected column within the pattern and must match exactly: column 2 matches column 9, column 3 matches 8, 4 matches 7, and 5 matches 6.</p>\n",
       "<p>The second pattern reflects across a horizontal line instead:</p>\n",
       "<pre><code>1 #...##..# 1\n",
       "2 #....#..# 2\n",
       "3 ..##..### 3\n",
       "4v#####.##.v4\n",
       "5^#####.##.^5\n",
       "6 ..##..### 6\n",
       "7 #....#..# 7\n",
       "</code></pre>\n",
       "<p>This pattern reflects across the horizontal line between rows 4 and 5. Row 1 would reflect with a hypothetical row 8, but since that's not in the pattern, row 1 doesn't need to match anything. The remaining rows match: row 2 matches row 7, row 3 matches row 6, and row 4 matches row 5.</p>\n",
       "<p>To <em>summarize</em> your pattern notes, add up <em>the number of columns</em> to the left of each vertical line of reflection; to that, also add <em>100 multiplied by the number of rows</em> above each horizontal line of reflection. In the above example, the first pattern's vertical line has <code>5</code> columns to its left and the second pattern's horizontal line has <code>4</code> rows above it, a total of <code><em>405</em></code>.</p>\n",
       "<p>Find the line of reflection in each of the patterns in your notes. <em>What number do you get after summarizing all of your notes?</em></p>\n",
       "</article>"
      ],
      "text/plain": [
       "<IPython.core.display.Markdown object>"
      ]
     },
     "metadata": {},
     "output_type": "display_data"
    }
   ],
   "source": [
    "show_task(DAY)"
   ]
  },
  {
   "cell_type": "code",
   "execution_count": 4,
   "metadata": {},
   "outputs": [],
   "source": [
    "from structures import Map"
   ]
  },
  {
   "cell_type": "code",
   "execution_count": 37,
   "metadata": {},
   "outputs": [],
   "source": [
    "lines = get_test_input_lines(DAY)"
   ]
  },
  {
   "cell_type": "code",
   "execution_count": 55,
   "metadata": {},
   "outputs": [],
   "source": [
    "lines = get_input_lines(DAY)"
   ]
  },
  {
   "cell_type": "code",
   "execution_count": 56,
   "metadata": {},
   "outputs": [],
   "source": [
    "maps = []\n",
    "\n",
    "map_lines = []\n",
    "for line in lines:\n",
    "    if not line:\n",
    "        maps.append(Map.from_object(map_lines))\n",
    "        map_lines = []\n",
    "        continue\n",
    "    map_lines.append(line)\n",
    "maps.append(Map.from_object(map_lines))\n"
   ]
  },
  {
   "cell_type": "code",
   "execution_count": 11,
   "metadata": {},
   "outputs": [
    {
     "name": "stdout",
     "output_type": "stream",
     "text": [
      " #  .  #  #  .  .  #  #  . \n",
      " .  .  #  .  #  #  .  #  . \n",
      " #  #  .  .  .  .  .  .  # \n",
      " #  #  .  .  .  .  .  .  # \n",
      " .  .  #  .  #  #  .  #  . \n",
      " .  .  #  #  .  .  #  #  . \n",
      " #  .  #  .  #  #  .  #  . \n",
      "\n",
      " #  .  .  .  #  #  .  .  # \n",
      " #  .  .  .  .  #  .  .  # \n",
      " .  .  #  #  .  .  #  #  # \n",
      " #  #  #  #  #  .  #  #  . \n",
      " #  #  #  #  #  .  #  #  . \n",
      " .  .  #  #  .  .  #  #  # \n",
      " #  .  .  .  .  #  .  .  # \n"
     ]
    }
   ],
   "source": [
    "maps[0].show()\n",
    "print()\n",
    "maps[1].show()"
   ]
  },
  {
   "cell_type": "code",
   "execution_count": 26,
   "metadata": {},
   "outputs": [
    {
     "data": {
      "text/plain": [
       "([], [5])"
      ]
     },
     "execution_count": 26,
     "metadata": {},
     "output_type": "execute_result"
    }
   ],
   "source": [
    "def find_mirrors(map: Map):\n",
    "    mirrors_y = []\n",
    "    mirrors_x = []\n",
    "    for y_mirror_int in range(0, map.h - 1):\n",
    "        y_mirror = y_mirror_int + 0.5\n",
    "        ok = True\n",
    "        for y in range(map.h-1):\n",
    "            for x in range(map.w):\n",
    "                point = map.map[y][x]\n",
    "                my = int((y_mirror - y) * 2 + y)\n",
    "                if my < 0 or my >= map.h:\n",
    "                    continue\n",
    "                mpoint = map.map[my][x]\n",
    "                if point != mpoint:\n",
    "                    ok = False\n",
    "                    break\n",
    "            if not ok:\n",
    "                break\n",
    "        if ok:\n",
    "            mirrors_y.append(y_mirror_int + 1)\n",
    "\n",
    "    for x_mirror_int in range(0, map.w - 1):\n",
    "        x_mirror = x_mirror_int + 0.5\n",
    "        ok = True\n",
    "        for y in range(map.h):\n",
    "            for x in range(map.w-1):\n",
    "                point = map.map[y][x]\n",
    "                mx = int((x_mirror - x) * 2 + x)\n",
    "                if mx < 0 or mx >= map.w:\n",
    "                    continue\n",
    "                mpoint = map.map[y][mx]\n",
    "                if point != mpoint:\n",
    "                    ok = False\n",
    "                    break\n",
    "            if not ok:\n",
    "                break\n",
    "        if ok:\n",
    "            mirrors_x.append(x_mirror_int + 1)\n",
    "\n",
    "    return mirrors_y, mirrors_x\n",
    "\n",
    "find_mirrors(maps[0])"
   ]
  },
  {
   "cell_type": "code",
   "execution_count": 34,
   "metadata": {},
   "outputs": [
    {
     "name": "stdout",
     "output_type": "stream",
     "text": [
      "29130\n"
     ]
    }
   ],
   "source": [
    "result = 0\n",
    "for m in maps:\n",
    "    mirrors_y, mirrors_x = find_mirrors(m)\n",
    "    y = min(mirrors_y) if mirrors_y else 0\n",
    "    x = min(mirrors_x) if mirrors_x else 0\n",
    "    result += y * 100 + x\n",
    "print(result)"
   ]
  },
  {
   "cell_type": "code",
   "execution_count": 35,
   "metadata": {},
   "outputs": [
    {
     "data": {
      "text/plain": [
       "\"That's the right answer!  You are one gold star closer to restoring snow operations. [Continue to Part Two] (solved in 75:00)\""
      ]
     },
     "execution_count": 35,
     "metadata": {},
     "output_type": "execute_result"
    }
   ],
   "source": [
    "send_result(DAY, 1, result)"
   ]
  },
  {
   "cell_type": "code",
   "execution_count": 36,
   "metadata": {},
   "outputs": [
    {
     "data": {
      "text/markdown": [
       "<article class=\"day-desc\"><h2 id=\"part2\">--- Part Two ---</h2><p>You resume walking through the valley of mirrors and - <em>SMACK!</em> - run directly into one. Hopefully <span title=\"Sorry, Nobody saw that.\">nobody</span> was watching, because that must have been pretty embarrassing.</p>\n",
       "<p>Upon closer inspection, you discover that every mirror has exactly one <em>smudge</em>: exactly one <code>.</code> or <code>#</code> should be the opposite type.</p>\n",
       "<p>In each pattern, you'll need to locate and fix the smudge that causes a <em>different reflection line</em> to be valid. (The old reflection line won't necessarily continue being valid after the smudge is fixed.)</p>\n",
       "<p>Here's the above example again:</p>\n",
       "<pre><code>#.##..##.\n",
       "..#.##.#.\n",
       "##......#\n",
       "##......#\n",
       "..#.##.#.\n",
       "..##..##.\n",
       "#.#.##.#.\n",
       "\n",
       "#...##..#\n",
       "#....#..#\n",
       "..##..###\n",
       "#####.##.\n",
       "#####.##.\n",
       "..##..###\n",
       "#....#..#\n",
       "</code></pre>\n",
       "<p>The first pattern's smudge is in the top-left corner. If the top-left <code>#</code> were instead <code>.</code>, it would have a different, horizontal line of reflection:</p>\n",
       "<pre><code>1 ..##..##. 1\n",
       "2 ..#.##.#. 2\n",
       "3v##......#v3\n",
       "4^##......#^4\n",
       "5 ..#.##.#. 5\n",
       "6 ..##..##. 6\n",
       "7 #.#.##.#. 7\n",
       "</code></pre>\n",
       "<p>With the smudge in the top-left corner repaired, a new horizontal line of reflection between rows 3 and 4 now exists. Row 7 has no corresponding reflected row and can be ignored, but every other row matches exactly: row 1 matches row 6, row 2 matches row 5, and row 3 matches row 4.</p>\n",
       "<p>In the second pattern, the smudge can be fixed by changing the fifth symbol on row 2 from <code>.</code> to <code>#</code>:</p>\n",
       "<pre><code>1v#...##..#v1\n",
       "2^#...##..#^2\n",
       "3 ..##..### 3\n",
       "4 #####.##. 4\n",
       "5 #####.##. 5\n",
       "6 ..##..### 6\n",
       "7 #....#..# 7\n",
       "</code></pre>\n",
       "<p>Now, the pattern has a different horizontal line of reflection between rows 1 and 2.</p>\n",
       "<p>Summarize your notes as before, but instead use the new different reflection lines. In this example, the first pattern's new horizontal line has 3 rows above it and the second pattern's new horizontal line has 1 row above it, summarizing to the value <code><em>400</em></code>.</p>\n",
       "<p>In each pattern, fix the smudge and find the different line of reflection. <em>What number do you get after summarizing the new reflection line in each pattern in your notes?</em></p>\n",
       "</article>"
      ],
      "text/plain": [
       "<IPython.core.display.Markdown object>"
      ]
     },
     "metadata": {},
     "output_type": "display_data"
    }
   ],
   "source": [
    "show_task(DAY, 2)"
   ]
  },
  {
   "cell_type": "code",
   "execution_count": 53,
   "metadata": {},
   "outputs": [
    {
     "data": {
      "text/plain": [
       "([3], [])"
      ]
     },
     "execution_count": 53,
     "metadata": {},
     "output_type": "execute_result"
    }
   ],
   "source": [
    "def find_mirrors_v2(map: Map):\n",
    "    mirrors_y = []\n",
    "    mirrors_x = []\n",
    "    for y_mirror_int in range(0, map.h - 1):\n",
    "        y_mirror = y_mirror_int + 0.5\n",
    "        ok = True\n",
    "        pairs = {}\n",
    "        for y1 in range(map.h-1):\n",
    "            y2 = int((y_mirror - y1) * 2 + y1)\n",
    "            if y2 < 0 or y2 >= map.h:\n",
    "                continue\n",
    "            key = tuple(sorted([y1,y2]))\n",
    "            if key not in pairs:\n",
    "                pairs[key] = (map.map[y1], map.map[y2])\n",
    "        diff_count = 0\n",
    "        for key, pair in pairs.items():\n",
    "            for i in range(len(pair[0])):\n",
    "                c1 = pair[0][i]\n",
    "                c2 = pair[1][i]\n",
    "                if c1 != c2:\n",
    "                    diff_count += 1\n",
    "        # print(y_mirror, diff_count)\n",
    "        if diff_count == 1:\n",
    "            mirrors_y.append(y_mirror_int + 1)\n",
    "        \n",
    "    for x_mirror_int in range(0, map.w - 1):\n",
    "        x_mirror = x_mirror_int + 0.5\n",
    "        ok = True\n",
    "        pairs = {}\n",
    "        for x1 in range(map.w-1):\n",
    "            x2 = int((x_mirror - x1) * 2 + x1)\n",
    "            if x2 < 0 or x2 >= map.w:\n",
    "                continue\n",
    "            key = tuple(sorted([x1,x2]))\n",
    "            if key not in pairs:\n",
    "                pairs[key] = ([line[x1] for line in map.map], [line[x2] for line in map.map])\n",
    "        diff_count = 0\n",
    "        for key, pair in pairs.items():\n",
    "            for i in range(len(pair[0])):\n",
    "                c1 = pair[0][i]\n",
    "                c2 = pair[1][i]\n",
    "                if c1 != c2:\n",
    "                    diff_count += 1\n",
    "        # print(x_mirror, diff_count)\n",
    "        if diff_count == 1:\n",
    "            mirrors_x.append(x_mirror_int + 1)\n",
    "\n",
    "    return mirrors_y, mirrors_x\n",
    "\n",
    "find_mirrors_v2(maps[0])"
   ]
  },
  {
   "cell_type": "code",
   "execution_count": 57,
   "metadata": {},
   "outputs": [
    {
     "name": "stdout",
     "output_type": "stream",
     "text": [
      "33438\n"
     ]
    }
   ],
   "source": [
    "result = 0\n",
    "for m in maps:\n",
    "    mirrors_y, mirrors_x = find_mirrors_v2(m)\n",
    "    y = min(mirrors_y) if mirrors_y else 0\n",
    "    x = min(mirrors_x) if mirrors_x else 0\n",
    "    result += y * 100 + x\n",
    "print(result)"
   ]
  },
  {
   "cell_type": "code",
   "execution_count": 58,
   "metadata": {},
   "outputs": [
    {
     "data": {
      "text/plain": [
       "\"That's the right answer!  You are one gold star closer to restoring snow operations.You have completed Day 13! (solved in 23:34)\""
      ]
     },
     "execution_count": 58,
     "metadata": {},
     "output_type": "execute_result"
    }
   ],
   "source": [
    "send_result(DAY, 2, result)"
   ]
  },
  {
   "cell_type": "code",
   "execution_count": null,
   "metadata": {},
   "outputs": [],
   "source": []
  }
 ],
 "metadata": {
  "kernelspec": {
   "display_name": "venv",
   "language": "python",
   "name": "python3"
  },
  "language_info": {
   "codemirror_mode": {
    "name": "ipython",
    "version": 3
   },
   "file_extension": ".py",
   "mimetype": "text/x-python",
   "name": "python",
   "nbconvert_exporter": "python",
   "pygments_lexer": "ipython3",
   "version": "3.11.7"
  },
  "orig_nbformat": 4
 },
 "nbformat": 4,
 "nbformat_minor": 2
}

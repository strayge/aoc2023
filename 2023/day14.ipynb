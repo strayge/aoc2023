{
 "cells": [
  {
   "cell_type": "code",
   "execution_count": 1,
   "metadata": {},
   "outputs": [],
   "source": [
    "from common import *\n",
    "\n",
    "DAY = 14"
   ]
  },
  {
   "cell_type": "code",
   "execution_count": 2,
   "metadata": {},
   "outputs": [
    {
     "data": {
      "text/markdown": [
       "<article class=\"day-desc\"><h2>--- Day 14: Parabolic Reflector Dish ---</h2><p>You reach the place where all of the mirrors were pointing: a massive <a href=\"https://en.wikipedia.org/wiki/Parabolic_reflector\" target=\"_blank\">parabolic reflector dish</a> <span title=\"Why, where do you attach YOUR massive parabolic reflector dishes?\">attached</span> to the side of another large mountain.</p>\n",
       "<p>The dish is made up of many small mirrors, but while the mirrors themselves are roughly in the shape of a parabolic reflector dish, each individual mirror seems to be pointing in slightly the wrong direction. If the dish is meant to focus light, all it's doing right now is sending it in a vague direction.</p>\n",
       "<p>This system must be what provides the energy for the lava! If you focus the reflector dish, maybe you can go where it's pointing and use the light to fix the lava production.</p>\n",
       "<p>Upon closer inspection, the individual mirrors each appear to be connected via an elaborate system of ropes and pulleys to a large metal platform below the dish. The platform is covered in large rocks of various shapes. Depending on their position, the weight of the rocks deforms the platform, and the shape of the platform controls which ropes move and ultimately the focus of the dish.</p>\n",
       "<p>In short: if you move the rocks, you can focus the dish. The platform even has a control panel on the side that lets you <em>tilt</em> it in one of four directions! The rounded rocks (<code>O</code>) will roll when the platform is tilted, while the cube-shaped rocks (<code>#</code>) will stay in place. You note the positions of all of the empty spaces (<code>.</code>) and rocks (your puzzle input). For example:</p>\n",
       "<pre><code>O....#....\n",
       "O.OO#....#\n",
       ".....##...\n",
       "OO.#O....O\n",
       ".O.....O#.\n",
       "O.#..O.#.#\n",
       "..O..#O..O\n",
       ".......O..\n",
       "#....###..\n",
       "#OO..#....\n",
       "</code></pre>\n",
       "<p>Start by tilting the lever so all of the rocks will slide <em>north</em> as far as they will go:</p>\n",
       "<pre><code>OOOO.#.O..\n",
       "OO..#....#\n",
       "OO..O##..O\n",
       "O..#.OO...\n",
       "........#.\n",
       "..#....#.#\n",
       "..O..#.O.O\n",
       "..O.......\n",
       "#....###..\n",
       "#....#....\n",
       "</code></pre>\n",
       "<p>You notice that the support beams along the north side of the platform are <em>damaged</em>; to ensure the platform doesn't collapse, you should calculate the <em>total load</em> on the north support beams.</p>\n",
       "<p>The amount of load caused by a single rounded rock (<code>O</code>) is equal to the number of rows from the rock to the south edge of the platform, including the row the rock is on. (Cube-shaped rocks (<code>#</code>) don't contribute to load.) So, the amount of load caused by each rock in each row is as follows:</p>\n",
       "<pre><code>OOOO.#.O.. 10\n",
       "OO..#....#  9\n",
       "OO..O##..O  8\n",
       "O..#.OO...  7\n",
       "........#.  6\n",
       "..#....#.#  5\n",
       "..O..#.O.O  4\n",
       "..O.......  3\n",
       "#....###..  2\n",
       "#....#....  1\n",
       "</code></pre>\n",
       "<p>The total load is the sum of the load caused by all of the <em>rounded rocks</em>. In this example, the total load is <code><em>136</em></code>.</p>\n",
       "<p>Tilt the platform so that the rounded rocks all roll north. Afterward, <em>what is the total load on the north support beams?</em></p>\n",
       "</article>"
      ],
      "text/plain": [
       "<IPython.core.display.Markdown object>"
      ]
     },
     "metadata": {},
     "output_type": "display_data"
    }
   ],
   "source": [
    "show_task(DAY)"
   ]
  },
  {
   "cell_type": "code",
   "execution_count": 3,
   "metadata": {},
   "outputs": [],
   "source": [
    "lines = get_test_input_lines(DAY, 1, 1)"
   ]
  },
  {
   "cell_type": "code",
   "execution_count": 10,
   "metadata": {},
   "outputs": [],
   "source": [
    "lines = get_input_lines(DAY)"
   ]
  },
  {
   "cell_type": "code",
   "execution_count": 11,
   "metadata": {},
   "outputs": [],
   "source": [
    "from structures import Map\n",
    "map = Map.from_object(lines)\n",
    "# map.show()"
   ]
  },
  {
   "cell_type": "code",
   "execution_count": 12,
   "metadata": {},
   "outputs": [],
   "source": [
    "for y in range(map.h):\n",
    "    for x in range(map.w):\n",
    "        char = map.map[y][x]\n",
    "        if char != 'O':\n",
    "            continue\n",
    "        for new_y in range(y, 0, -1):\n",
    "            char1 = map.map[new_y][x]\n",
    "            char2 = map.map[new_y-1][x]\n",
    "            if char2 != '.':\n",
    "                break\n",
    "            map.map[new_y][x], map.map[new_y-1][x] = char2, char1\n",
    "\n",
    "# map.show()"
   ]
  },
  {
   "cell_type": "code",
   "execution_count": 13,
   "metadata": {},
   "outputs": [
    {
     "name": "stdout",
     "output_type": "stream",
     "text": [
      "108955\n"
     ]
    }
   ],
   "source": [
    "result = 0\n",
    "for i, y in enumerate(range(map.h-1, -1, -1), start=1):\n",
    "    result += map.map[y].count('O') * i\n",
    "print(result)"
   ]
  },
  {
   "cell_type": "code",
   "execution_count": 14,
   "metadata": {},
   "outputs": [
    {
     "data": {
      "text/plain": [
       "\"That's the right answer!  You are one gold star closer to restoring snow operations. [Continue to Part Two] (solved in 15:57)\""
      ]
     },
     "execution_count": 14,
     "metadata": {},
     "output_type": "execute_result"
    }
   ],
   "source": [
    "send_result(DAY, 1, result)"
   ]
  },
  {
   "cell_type": "code",
   "execution_count": 15,
   "metadata": {},
   "outputs": [
    {
     "data": {
      "text/markdown": [
       "<article class=\"day-desc\"><h2 id=\"part2\">--- Part Two ---</h2><p>The parabolic reflector dish deforms, but not in a way that focuses the beam. To do that, you'll need to move the rocks to the edges of the platform. Fortunately, a button on the side of the control panel labeled \"<em>spin cycle</em>\" attempts to do just that!</p>\n",
       "<p>Each <em>cycle</em> tilts the platform four times so that the rounded rocks roll <em>north</em>, then <em>west</em>, then <em>south</em>, then <em>east</em>. After each tilt, the rounded rocks roll as far as they can before the platform tilts in the next direction. After one cycle, the platform will have finished rolling the rounded rocks in those four directions in that order.</p>\n",
       "<p>Here's what happens in the example above after each of the first few cycles:</p>\n",
       "<pre><code>After 1 cycle:\n",
       ".....#....\n",
       "....#...O#\n",
       "...OO##...\n",
       ".OO#......\n",
       ".....OOO#.\n",
       ".O#...O#.#\n",
       "....O#....\n",
       "......OOOO\n",
       "#...O###..\n",
       "#..OO#....\n",
       "\n",
       "After 2 cycles:\n",
       ".....#....\n",
       "....#...O#\n",
       ".....##...\n",
       "..O#......\n",
       ".....OOO#.\n",
       ".O#...O#.#\n",
       "....O#...O\n",
       ".......OOO\n",
       "#..OO###..\n",
       "#.OOO#...O\n",
       "\n",
       "After 3 cycles:\n",
       ".....#....\n",
       "....#...O#\n",
       ".....##...\n",
       "..O#......\n",
       ".....OOO#.\n",
       ".O#...O#.#\n",
       "....O#...O\n",
       ".......OOO\n",
       "#...O###.O\n",
       "#.OOO#...O\n",
       "</code></pre>\n",
       "<p>This process should work if you leave it running long enough, but you're still worried about the north support beams. To make sure they'll survive for a while, you need to calculate the <em>total load</em> on the north support beams after <code>1000000000</code> cycles.</p>\n",
       "<p>In the above example, after <code>1000000000</code> cycles, the total load on the north support beams is <code><em>64</em></code>.</p>\n",
       "<p>Run the spin cycle for <code>1000000000</code> cycles. Afterward, <em>what is the total load on the north support beams?</em></p>\n",
       "</article>"
      ],
      "text/plain": [
       "<IPython.core.display.Markdown object>"
      ]
     },
     "metadata": {},
     "output_type": "display_data"
    }
   ],
   "source": [
    "show_task(DAY, 2)"
   ]
  },
  {
   "cell_type": "code",
   "execution_count": 50,
   "metadata": {},
   "outputs": [],
   "source": [
    "lines = get_input_lines(DAY)\n",
    "# lines = get_test_input_lines(DAY, 1, 1)\n",
    "map = Map.from_object(lines)"
   ]
  },
  {
   "cell_type": "code",
   "execution_count": 28,
   "metadata": {},
   "outputs": [],
   "source": [
    "def tilt_up(map: Map):\n",
    "    for y in range(map.h):\n",
    "        for x in range(map.w):\n",
    "            if map.map[y][x] != 'O':\n",
    "                continue\n",
    "            for new_y in range(y, 0, -1):\n",
    "                char1 = map.map[new_y][x]\n",
    "                char2 = map.map[new_y-1][x]\n",
    "                if char2 != '.':\n",
    "                    break\n",
    "                map.map[new_y][x], map.map[new_y-1][x] = char2, char1\n",
    "\n",
    "def tilt_down(map: Map):\n",
    "    for y in reversed(range(map.h)):\n",
    "        for x in range(map.w):\n",
    "            if map.map[y][x] != 'O':\n",
    "                continue\n",
    "            for new_y in range(y, map.h - 1, 1):\n",
    "                char1 = map.map[new_y][x]\n",
    "                char2 = map.map[new_y+1][x]\n",
    "                if char2 != '.':\n",
    "                    break\n",
    "                map.map[new_y][x], map.map[new_y+1][x] = char2, char1\n",
    "\n",
    "def tilt_left(map: Map):\n",
    "    for y in range(map.h):\n",
    "        for x in range(map.w):\n",
    "            if map.map[y][x] != 'O':\n",
    "                continue\n",
    "            for new_x in range(x, 0, -1):\n",
    "                char1 = map.map[y][new_x]\n",
    "                char2 = map.map[y][new_x-1]\n",
    "                if char2 != '.':\n",
    "                    break\n",
    "                map.map[y][new_x], map.map[y][new_x-1] = char2, char1\n",
    "\n",
    "def tilt_right(map: Map):\n",
    "    for y in range(map.h):\n",
    "        for x in reversed(range(map.w)):\n",
    "            if map.map[y][x] != 'O':\n",
    "                continue\n",
    "            for new_x in range(x, map.w - 1, 1):\n",
    "                char1 = map.map[y][new_x]\n",
    "                char2 = map.map[y][new_x+1]\n",
    "                if char2 != '.':\n",
    "                    break\n",
    "                map.map[y][new_x], map.map[y][new_x+1] = char2, char1\n",
    "\n",
    "def get_map_lines(map: Map) -> str:\n",
    "    return ''.join([''.join(row) for row in map.map])"
   ]
  },
  {
   "cell_type": "code",
   "execution_count": 69,
   "metadata": {},
   "outputs": [
    {
     "name": "stdout",
     "output_type": "stream",
     "text": [
      "repeats: Counter({22: 4})\n",
      "start_num: 106\n",
      "106689\n"
     ]
    }
   ],
   "source": [
    "from collections import Counter\n",
    "\n",
    "map = Map.from_object(lines)\n",
    "\n",
    "maps = {}\n",
    "start_num = None\n",
    "\n",
    "for i in range(200):\n",
    "    tilt_up(map)\n",
    "    tilt_left(map)\n",
    "    tilt_down(map)\n",
    "    tilt_right(map)\n",
    "    maps[i] = get_map_lines(map)\n",
    "    similar = []\n",
    "    for j in range(i-1, -1, -1):\n",
    "        if maps[j] == maps[i]:\n",
    "            similar.append(j)\n",
    "            if start_num is None:\n",
    "                start_num = i\n",
    "similar = similar[::-1]\n",
    "repeats = Counter([similar[i] - similar[i-1] for i in range(1, len(similar))])\n",
    "print(f'repeats: {repeats}')\n",
    "print(f'start_num: {start_num}')\n",
    "\n",
    "tilt_num = (1000000000 - start_num) % repeats.most_common(1)[0][0]\n",
    "map = Map.from_object(lines)\n",
    "for i in range(start_num + tilt_num):\n",
    "    tilt_up(map)\n",
    "    tilt_left(map)\n",
    "    tilt_down(map)\n",
    "    tilt_right(map)\n",
    "\n",
    "result = 0\n",
    "for i, y in enumerate(range(map.h-1, -1, -1), start=1):\n",
    "    result += map.map[y].count('O') * i\n",
    "print(result)"
   ]
  },
  {
   "cell_type": "code",
   "execution_count": 70,
   "metadata": {},
   "outputs": [
    {
     "data": {
      "text/plain": [
       "\"That's the right answer!  You are one gold star closer to restoring snow operations.You have completed Day 14! (solved in 35:12)\""
      ]
     },
     "execution_count": 70,
     "metadata": {},
     "output_type": "execute_result"
    }
   ],
   "source": [
    "send_result(DAY, 2, result)"
   ]
  },
  {
   "cell_type": "code",
   "execution_count": null,
   "metadata": {},
   "outputs": [],
   "source": []
  }
 ],
 "metadata": {
  "kernelspec": {
   "display_name": "venv",
   "language": "python",
   "name": "python3"
  },
  "language_info": {
   "codemirror_mode": {
    "name": "ipython",
    "version": 3
   },
   "file_extension": ".py",
   "mimetype": "text/x-python",
   "name": "python",
   "nbconvert_exporter": "python",
   "pygments_lexer": "ipython3",
   "version": "3.11.7"
  },
  "orig_nbformat": 4
 },
 "nbformat": 4,
 "nbformat_minor": 2
}

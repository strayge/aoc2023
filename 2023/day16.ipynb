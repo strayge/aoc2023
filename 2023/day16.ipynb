{
 "cells": [
  {
   "cell_type": "code",
   "execution_count": 1,
   "metadata": {},
   "outputs": [],
   "source": [
    "from common import *\n",
    "from structures import *\n",
    "\n",
    "DAY = 16"
   ]
  },
  {
   "cell_type": "code",
   "execution_count": 2,
   "metadata": {},
   "outputs": [
    {
     "data": {
      "text/markdown": [
       "<article class=\"day-desc\"><h2>--- Day 16: The Floor Will Be Lava ---</h2><p>With the beam of light completely focused <em>somewhere</em>, the reindeer leads you deeper still into the Lava Production Facility. At some point, you realize that the steel facility walls have been replaced with cave, and the doorways are just cave, and the floor is cave, and you're pretty sure this is actually just a giant cave.</p>\n",
       "<p>Finally, as you approach what must be the heart of the mountain, you see a bright light in a cavern up ahead. There, you discover that the <span title=\"Not anymore, there's a blanket!\">beam</span> of light you so carefully focused is emerging from the cavern wall closest to the facility and pouring all of its energy into a contraption on the opposite side.</p>\n",
       "<p>Upon closer inspection, the contraption appears to be a flat, two-dimensional square grid containing <em>empty space</em> (<code>.</code>), <em>mirrors</em> (<code>/</code> and <code>\\</code>), and <em>splitters</em> (<code>|</code> and <code>-</code>).</p>\n",
       "<p>The contraption is aligned so that most of the beam bounces around the grid, but each tile on the grid converts some of the beam's light into <em>heat</em> to melt the rock in the cavern.</p>\n",
       "<p>You note the layout of the contraption (your puzzle input). For example:</p>\n",
       "<pre><code>.|...\\....\n",
       "|.-.\\.....\n",
       ".....|-...\n",
       "........|.\n",
       "..........\n",
       ".........\\\n",
       "..../.\\\\..\n",
       ".-.-/..|..\n",
       ".|....-|.\\\n",
       "..//.|....\n",
       "</code></pre>\n",
       "<p>The beam enters in the top-left corner from the left and heading to the <em>right</em>. Then, its behavior depends on what it encounters as it moves:</p>\n",
       "<ul>\n",
       "<li>If the beam encounters <em>empty space</em> (<code>.</code>), it continues in the same direction.</li>\n",
       "<li>If the beam encounters a <em>mirror</em> (<code>/</code> or <code>\\</code>), the beam is <em>reflected</em> 90 degrees depending on the angle of the mirror. For instance, a rightward-moving beam that encounters a <code>/</code> mirror would continue <em>upward</em> in the mirror's column, while a rightward-moving beam that encounters a <code>\\</code> mirror would continue <em>downward</em> from the mirror's column.</li>\n",
       "<li>If the beam encounters the <em>pointy end of a splitter</em> (<code>|</code> or <code>-</code>), the beam passes through the splitter as if the splitter were <em>empty space</em>. For instance, a rightward-moving beam that encounters a <code>-</code> splitter would continue in the same direction.</li>\n",
       "<li>If the beam encounters the <em>flat side of a splitter</em> (<code>|</code> or <code>-</code>), the beam is <em>split into two beams</em> going in each of the two directions the splitter's pointy ends are pointing. For instance, a rightward-moving beam that encounters a <code>|</code> splitter would split into two beams: one that continues <em>upward</em> from the splitter's column and one that continues <em>downward</em> from the splitter's column.</li>\n",
       "</ul>\n",
       "<p>Beams do not interact with other beams; a tile can have many beams passing through it at the same time. A tile is <em>energized</em> if that tile has at least one beam pass through it, reflect in it, or split in it.</p>\n",
       "<p>In the above example, here is how the beam of light bounces around the contraption:</p>\n",
       "<pre><code>&gt;|&lt;&lt;&lt;\\....\n",
       "|v-.\\^....\n",
       ".v...|-&gt;&gt;&gt;\n",
       ".v...v^.|.\n",
       ".v...v^...\n",
       ".v...v^..\\\n",
       ".v../2\\\\..\n",
       "&lt;-&gt;-/vv|..\n",
       ".|&lt;&lt;&lt;2-|.\\\n",
       ".v//.|.v..\n",
       "</code></pre>\n",
       "<p>Beams are only shown on empty tiles; arrows indicate the direction of the beams. If a tile contains beams moving in multiple directions, the number of distinct directions is shown instead. Here is the same diagram but instead only showing whether a tile is <em>energized</em> (<code>#</code>) or not (<code>.</code>):</p>\n",
       "<pre><code>######....\n",
       ".#...#....\n",
       ".#...#####\n",
       ".#...##...\n",
       ".#...##...\n",
       ".#...##...\n",
       ".#..####..\n",
       "########..\n",
       ".#######..\n",
       ".#...#.#..\n",
       "</code></pre>\n",
       "<p>Ultimately, in this example, <code><em>46</em></code> tiles become <em>energized</em>.</p>\n",
       "<p>The light isn't energizing enough tiles to produce lava; to debug the contraption, you need to start by analyzing the current situation. With the beam starting in the top-left heading right, <em>how many tiles end up being energized?</em></p>\n",
       "</article>"
      ],
      "text/plain": [
       "<IPython.core.display.Markdown object>"
      ]
     },
     "metadata": {},
     "output_type": "display_data"
    }
   ],
   "source": [
    "show_task(DAY)"
   ]
  },
  {
   "cell_type": "code",
   "execution_count": 57,
   "metadata": {},
   "outputs": [],
   "source": [
    "lines = get_test_input_lines(DAY)"
   ]
  },
  {
   "cell_type": "code",
   "execution_count": 61,
   "metadata": {},
   "outputs": [],
   "source": [
    "lines = get_input_lines(DAY)"
   ]
  },
  {
   "cell_type": "code",
   "execution_count": 70,
   "metadata": {},
   "outputs": [
    {
     "name": "stdout",
     "output_type": "stream",
     "text": [
      "break at 697\n",
      "result 7496\n"
     ]
    }
   ],
   "source": [
    "map = Map.from_object(lines)\n",
    "emap = Map(map.h, map.w)\n",
    "beams = [(0, -1, 0, 1)]\n",
    "processed_lenses: set[tuple[int, int, int, int]] = set()\n",
    "\n",
    "def beam_step(map: Map, emap: Map) -> None:\n",
    "    global beams\n",
    "    new_beams = []\n",
    "    for beam in beams:\n",
    "        y, x, dy, dx = beam\n",
    "        if x != -1 and y != -1 and x != map.w and y != map.h:\n",
    "            emap.map[y][x] = '#'\n",
    "        new_y, new_x = y + dy, x + dx\n",
    "        if new_y < 0 or new_y >= map.h or new_x < 0 or new_x >= map.w:\n",
    "            continue\n",
    "        new_point = map.map[new_y][new_x]\n",
    "        if new_point == '.':\n",
    "            new_beams.append((new_y, new_x, dy, dx))\n",
    "        else:\n",
    "            key = (new_y, new_x, dy, dx)\n",
    "            if key in processed_lenses:\n",
    "                continue\n",
    "            processed_lenses.add(key)\n",
    "\n",
    "        if new_point == '|':\n",
    "            if dx == 0:\n",
    "                new_beams.append((new_y, new_x, dy, dx))\n",
    "                continue\n",
    "            new_beams.append((new_y, new_x, -1, 0))\n",
    "            new_beams.append((new_y, new_x, 1, 0))\n",
    "        elif new_point == '-':\n",
    "            if dy == 0:\n",
    "                new_beams.append((new_y, new_x, dy, dx))\n",
    "                continue\n",
    "            new_beams.append((new_y, new_x, 0, -1))\n",
    "            new_beams.append((new_y, new_x, 0, 1))\n",
    "        elif new_point == '/':\n",
    "            if dx == 0:\n",
    "                new_beams.append((new_y, new_x, 0, -dy))\n",
    "            elif dy == 0:\n",
    "                new_beams.append((new_y, new_x, -dx, 0))\n",
    "        elif new_point == '\\\\':\n",
    "            if dx == 0:\n",
    "                new_beams.append((new_y, new_x, 0, dy))\n",
    "            elif dy == 0:\n",
    "                new_beams.append((new_y, new_x, dx, 0))\n",
    "\n",
    "    beams = new_beams\n",
    "\n",
    "\n",
    "# def show_beams(map: Map, beams: list[tuple[int, int, int, int]]) -> None:\n",
    "#     symbols = {\n",
    "#         (0, 1): '>',\n",
    "#         (0, -1): '<',\n",
    "#         (1, 0): 'v',\n",
    "#         (-1, 0): '^',\n",
    "#     }\n",
    "#     bmap = Map(map.h, map.w)\n",
    "#     for beam in beams:\n",
    "#         y, x, dy, dx = beam\n",
    "#         bmap.map[y][x] = symbols[(dy, dx)]\n",
    "#     bmap.show()\n",
    "\n",
    "\n",
    "for i in range(10000):\n",
    "    beam_step(map, emap)\n",
    "    if not len(beams):\n",
    "        print('break at', i)\n",
    "        break\n",
    "# emap.show()\n",
    "\n",
    "result = sum([1 for row in emap.map for c in row if c == '#'])\n",
    "print('result', result)\n"
   ]
  },
  {
   "cell_type": "code",
   "execution_count": 56,
   "metadata": {},
   "outputs": [
    {
     "data": {
      "text/plain": [
       "7497"
      ]
     },
     "execution_count": 56,
     "metadata": {},
     "output_type": "execute_result"
    }
   ],
   "source": [
    "result"
   ]
  },
  {
   "cell_type": "code",
   "execution_count": 63,
   "metadata": {},
   "outputs": [
    {
     "data": {
      "text/plain": [
       "\"That's the right answer!  You are one gold star closer to restoring snow operations. [Continue to Part Two] (solved in 68:11)\""
      ]
     },
     "execution_count": 63,
     "metadata": {},
     "output_type": "execute_result"
    }
   ],
   "source": [
    "send_result(DAY, 1, result)"
   ]
  },
  {
   "cell_type": "code",
   "execution_count": 64,
   "metadata": {},
   "outputs": [
    {
     "data": {
      "text/markdown": [
       "<article class=\"day-desc\"><h2 id=\"part2\">--- Part Two ---</h2><p>As you try to work out what might be wrong, the reindeer tugs on your shirt and leads you to a nearby control panel. There, a collection of buttons lets you align the contraption so that the beam enters from <em>any edge tile</em> and heading away from that edge. (You can choose either of two directions for the beam if it starts on a corner; for instance, if the beam starts in the bottom-right corner, it can start heading either left or upward.)</p>\n",
       "<p>So, the beam could start on any tile in the top row (heading downward), any tile in the bottom row (heading upward), any tile in the leftmost column (heading right), or any tile in the rightmost column (heading left). To produce lava, you need to find the configuration that <em>energizes as many tiles as possible</em>.</p>\n",
       "<p>In the above example, this can be achieved by starting the beam in the fourth tile from the left in the top row:</p>\n",
       "<pre><code>.|&lt;2&lt;\\....\n",
       "|v-v\\^....\n",
       ".v.v.|-&gt;&gt;&gt;\n",
       ".v.v.v^.|.\n",
       ".v.v.v^...\n",
       ".v.v.v^..\\\n",
       ".v.v/2\\\\..\n",
       "&lt;-2-/vv|..\n",
       ".|&lt;&lt;&lt;2-|.\\\n",
       ".v//.|.v..\n",
       "</code></pre>\n",
       "<p>Using this configuration, <code><em>51</em></code> tiles are energized:</p>\n",
       "<pre><code>.#####....\n",
       ".#.#.#....\n",
       ".#.#.#####\n",
       ".#.#.##...\n",
       ".#.#.##...\n",
       ".#.#.##...\n",
       ".#.#####..\n",
       "########..\n",
       ".#######..\n",
       ".#...#.#..\n",
       "</code></pre>\n",
       "<p>Find the initial beam configuration that energizes the largest number of tiles; <em>how many tiles are energized in that configuration?</em></p>\n",
       "</article>"
      ],
      "text/plain": [
       "<IPython.core.display.Markdown object>"
      ]
     },
     "metadata": {},
     "output_type": "display_data"
    }
   ],
   "source": [
    "show_task(DAY, 2)"
   ]
  },
  {
   "cell_type": "code",
   "execution_count": 71,
   "metadata": {},
   "outputs": [],
   "source": [
    "lines = get_test_input_lines(DAY)"
   ]
  },
  {
   "cell_type": "code",
   "execution_count": 73,
   "metadata": {},
   "outputs": [],
   "source": [
    "lines = get_input_lines(DAY)"
   ]
  },
  {
   "cell_type": "code",
   "execution_count": 74,
   "metadata": {},
   "outputs": [
    {
     "name": "stdout",
     "output_type": "stream",
     "text": [
      "result 7932\n"
     ]
    }
   ],
   "source": [
    "map = Map.from_object(lines)\n",
    "\n",
    "start_points = []\n",
    "for y in range(map.h):\n",
    "    start_points.append((y, -1, 0, 1))\n",
    "    start_points.append((y, map.h, 0, -1))\n",
    "for x in range(map.w):\n",
    "    start_points.append((-1, x, 1, 0))\n",
    "    start_points.append((map.w, x, -1, 0))\n",
    "\n",
    "max_result = 0\n",
    "for start_point in start_points:\n",
    "    emap = Map(map.h, map.w)\n",
    "    beams = [start_point]\n",
    "    processed_lenses: set[tuple[int, int, int, int]] = set()\n",
    "    while True:\n",
    "        beam_step(map, emap)\n",
    "        if not len(beams):\n",
    "            break\n",
    "    current_result = sum([1 for row in emap.map for c in row if c == '#'])\n",
    "    max_result = max(max_result, current_result)\n",
    "print('result', max_result)"
   ]
  },
  {
   "cell_type": "code",
   "execution_count": 75,
   "metadata": {},
   "outputs": [
    {
     "data": {
      "text/plain": [
       "\"That's the right answer!  You are one gold star closer to restoring snow operations.You have completed Day 16! (solved in 07:45)\""
      ]
     },
     "execution_count": 75,
     "metadata": {},
     "output_type": "execute_result"
    }
   ],
   "source": [
    "send_result(DAY, 2, max_result)"
   ]
  },
  {
   "cell_type": "code",
   "execution_count": null,
   "metadata": {},
   "outputs": [],
   "source": []
  }
 ],
 "metadata": {
  "kernelspec": {
   "display_name": "venv",
   "language": "python",
   "name": "python3"
  },
  "language_info": {
   "codemirror_mode": {
    "name": "ipython",
    "version": 3
   },
   "file_extension": ".py",
   "mimetype": "text/x-python",
   "name": "python",
   "nbconvert_exporter": "python",
   "pygments_lexer": "ipython3",
   "version": "3.11.6"
  },
  "orig_nbformat": 4
 },
 "nbformat": 4,
 "nbformat_minor": 2
}

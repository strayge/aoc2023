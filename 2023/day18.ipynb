{
 "cells": [
  {
   "cell_type": "code",
   "execution_count": 1,
   "metadata": {},
   "outputs": [],
   "source": [
    "from common import *\n",
    "from structures import *\n",
    "\n",
    "DAY = 18"
   ]
  },
  {
   "cell_type": "code",
   "execution_count": 2,
   "metadata": {},
   "outputs": [
    {
     "data": {
      "text/markdown": [
       "<article class=\"day-desc\"><h2>--- Day 18: Lavaduct Lagoon ---</h2><p>Thanks to your efforts, the machine parts factory is one of the first factories up and running since the lavafall came back. However, to catch up with the large backlog of parts requests, the factory will also need a <em>large supply of lava</em> for a while; the Elves have already started creating a large lagoon nearby for this purpose.</p>\n",
       "<p>However, they aren't sure the lagoon will be big enough; they've asked you to take a look at the <em>dig plan</em> (your puzzle input). For example:</p>\n",
       "<pre><code>R 6 (#70c710)\n",
       "D 5 (#0dc571)\n",
       "L 2 (#5713f0)\n",
       "D 2 (#d2c081)\n",
       "R 2 (#59c680)\n",
       "D 2 (#411b91)\n",
       "L 5 (#8ceee2)\n",
       "U 2 (#caa173)\n",
       "L 1 (#1b58a2)\n",
       "U 2 (#caa171)\n",
       "R 2 (#7807d2)\n",
       "U 3 (#a77fa3)\n",
       "L 2 (#015232)\n",
       "U 2 (#7a21e3)\n",
       "</code></pre>\n",
       "<p>The digger starts in a 1 meter cube hole in the ground. They then dig the specified number of meters <em>up</em> (<code>U</code>), <em>down</em> (<code>D</code>), <em>left</em> (<code>L</code>), or <em>right</em> (<code>R</code>), clearing full 1 meter cubes as they go. The directions are given as seen from above, so if \"up\" were north, then \"right\" would be east, and so on. Each trench is also listed with <em>the color that the edge of the trench should be painted</em> as an <a href=\"https://en.wikipedia.org/wiki/RGB_color_model#Numeric_representations\" target=\"_blank\">RGB hexadecimal color code</a>.</p>\n",
       "<p>When viewed from above, the above example dig plan would result in the following loop of <em>trench</em> (<code>#</code>) having been dug out from otherwise <em>ground-level terrain</em> (<code>.</code>):</p>\n",
       "<pre><code>#######\n",
       "#.....#\n",
       "###...#\n",
       "..#...#\n",
       "..#...#\n",
       "###.###\n",
       "#...#..\n",
       "##..###\n",
       ".#....#\n",
       ".######\n",
       "</code></pre>\n",
       "<p>At this point, the trench could contain 38 cubic meters of lava. However, this is just the edge of the lagoon; the next step is to <em>dig out the interior</em> so that it is one meter deep as well:</p>\n",
       "<pre><code>#######\n",
       "#######\n",
       "#######\n",
       "..#####\n",
       "..#####\n",
       "#######\n",
       "#####..\n",
       "#######\n",
       ".######\n",
       ".######\n",
       "</code></pre>\n",
       "<p>Now, the lagoon can contain a much more respectable <code><em>62</em></code> cubic meters of lava. While the interior is dug out, the edges are also painted according to the color codes in the dig plan.</p>\n",
       "<p>The Elves are concerned the lagoon won't be large enough; if they follow their dig plan, <em>how many cubic meters of lava could it hold?</em></p>\n",
       "</article>"
      ],
      "text/plain": [
       "<IPython.core.display.Markdown object>"
      ]
     },
     "metadata": {},
     "output_type": "display_data"
    }
   ],
   "source": [
    "show_task(DAY)"
   ]
  },
  {
   "cell_type": "code",
   "execution_count": 132,
   "metadata": {},
   "outputs": [],
   "source": [
    "lines = get_test_input_lines(DAY)"
   ]
  },
  {
   "cell_type": "code",
   "execution_count": 140,
   "metadata": {},
   "outputs": [],
   "source": [
    "lines = get_input_lines(DAY)"
   ]
  },
  {
   "cell_type": "code",
   "execution_count": 141,
   "metadata": {},
   "outputs": [],
   "source": [
    "input_data = []\n",
    "for line in lines:\n",
    "    direction, num, color_str = line.split()\n",
    "    input_data.append((direction, int(num), color_str[2:-1]))\n",
    "# print(input_data)\n",
    "\n",
    "map = Map(270,420)\n",
    "# map.show()"
   ]
  },
  {
   "cell_type": "code",
   "execution_count": 142,
   "metadata": {},
   "outputs": [],
   "source": [
    "delta = {\n",
    "    'D': (1, 0),\n",
    "    'U': (-1, 0),\n",
    "    'L': (0, -1),\n",
    "    'R': (0, 1),\n",
    "}\n",
    "y, x = 50, 20\n",
    "for direction, num, color in input_data:\n",
    "    for i in range(num):\n",
    "        dy, dx = delta[direction]\n",
    "        new_y, new_x = y + dy, x + dx\n",
    "        map.map[new_y][new_x] = '#'\n",
    "        y, x = new_y, new_x\n",
    "\n",
    "# map.show()"
   ]
  },
  {
   "cell_type": "code",
   "execution_count": 143,
   "metadata": {},
   "outputs": [
    {
     "name": "stdout",
     "output_type": "stream",
     "text": [
      "100 81\n",
      "200 128\n",
      "300 226\n",
      "400 163\n",
      "500 63\n",
      "600 94\n"
     ]
    }
   ],
   "source": [
    "map.map[0][0] = 0\n",
    "\n",
    "points = set([(0,0)])\n",
    "i = 0\n",
    "while True:\n",
    "    i += 1\n",
    "    new_points = set()\n",
    "    for y, x in points:\n",
    "        if map.map[y][x] != 0:\n",
    "            continue\n",
    "        for dy, dx in delta.values():\n",
    "            new_y, new_x = y + dy, x + dx\n",
    "            if new_y < 0 or new_y >= map.h or new_x < 0 or new_x >= map.w:\n",
    "                continue\n",
    "            if map.map[new_y][new_x] in ('#', 0):\n",
    "                continue\n",
    "            map.map[new_y][new_x] = 0\n",
    "            new_points.add((new_y, new_x))\n",
    "    points = new_points\n",
    "    if i % 100 == 0:\n",
    "        print(i, len(points))\n",
    "    if len(points) == 0:\n",
    "        break\n",
    "\n",
    "# map.show()"
   ]
  },
  {
   "cell_type": "code",
   "execution_count": 144,
   "metadata": {},
   "outputs": [
    {
     "name": "stdout",
     "output_type": "stream",
     "text": [
      "34329\n"
     ]
    }
   ],
   "source": [
    "result = 0\n",
    "for y in range(map.h):\n",
    "    for x in range(map.w):\n",
    "        if map.map[y][x] != 0:  # in ('#', '.'):\n",
    "            result += 1\n",
    "print(result)"
   ]
  },
  {
   "cell_type": "code",
   "execution_count": 145,
   "metadata": {},
   "outputs": [
    {
     "data": {
      "text/plain": [
       "\"That's the right answer!  You are one gold star closer to restoring snow operations. [Continue to Part Two] (solved in 88:04)\""
      ]
     },
     "execution_count": 145,
     "metadata": {},
     "output_type": "execute_result"
    }
   ],
   "source": [
    "send_result(DAY, 1, result)"
   ]
  },
  {
   "cell_type": "code",
   "execution_count": 146,
   "metadata": {},
   "outputs": [
    {
     "data": {
      "text/markdown": [
       "<article class=\"day-desc\"><h2 id=\"part2\">--- Part Two ---</h2><p>The Elves were right to be concerned; the planned lagoon would be <em>much too small</em>.</p>\n",
       "<p>After a few minutes, someone realizes what happened; someone <em><span title=\"Futuristic sprintf()?\">swapped</span> the color and instruction parameters</em> when producing the dig plan. They don't have time to fix the bug; one of them asks if you can <em>extract the correct instructions</em> from the hexadecimal codes.</p>\n",
       "<p>Each hexadecimal code is <em>six hexadecimal digits</em> long. The first five hexadecimal digits encode the <em>distance in meters</em> as a five-digit hexadecimal number. The last hexadecimal digit encodes the <em>direction to dig</em>: <code>0</code> means <code>R</code>, <code>1</code> means <code>D</code>, <code>2</code> means <code>L</code>, and <code>3</code> means <code>U</code>.</p>\n",
       "<p>So, in the above example, the hexadecimal codes can be converted into the true instructions:</p>\n",
       "<ul>\n",
       "<li><code>#70c710</code> = <code>R 461937</code></li>\n",
       "<li><code>#0dc571</code> = <code>D 56407</code></li>\n",
       "<li><code>#5713f0</code> = <code>R 356671</code></li>\n",
       "<li><code>#d2c081</code> = <code>D 863240</code></li>\n",
       "<li><code>#59c680</code> = <code>R 367720</code></li>\n",
       "<li><code>#411b91</code> = <code>D 266681</code></li>\n",
       "<li><code>#8ceee2</code> = <code>L 577262</code></li>\n",
       "<li><code>#caa173</code> = <code>U 829975</code></li>\n",
       "<li><code>#1b58a2</code> = <code>L 112010</code></li>\n",
       "<li><code>#caa171</code> = <code>D 829975</code></li>\n",
       "<li><code>#7807d2</code> = <code>L 491645</code></li>\n",
       "<li><code>#a77fa3</code> = <code>U 686074</code></li>\n",
       "<li><code>#015232</code> = <code>L 5411</code></li>\n",
       "<li><code>#7a21e3</code> = <code>U 500254</code></li>\n",
       "</ul>\n",
       "<p>Digging out this loop and its interior produces a lagoon that can hold an impressive <code><em>952408144115</em></code> cubic meters of lava.</p>\n",
       "<p>Convert the hexadecimal color codes into the correct instructions; if the Elves follow this new dig plan, <em>how many cubic meters of lava could the lagoon hold?</em></p>\n",
       "</article>"
      ],
      "text/plain": [
       "<IPython.core.display.Markdown object>"
      ]
     },
     "metadata": {},
     "output_type": "display_data"
    }
   ],
   "source": [
    "show_task(DAY, 2)"
   ]
  },
  {
   "cell_type": "code",
   "execution_count": 147,
   "metadata": {},
   "outputs": [],
   "source": [
    "lines = get_test_input_lines(DAY)"
   ]
  },
  {
   "cell_type": "code",
   "execution_count": 203,
   "metadata": {},
   "outputs": [],
   "source": [
    "lines = get_input_lines(DAY)"
   ]
  },
  {
   "cell_type": "code",
   "execution_count": 206,
   "metadata": {},
   "outputs": [
    {
     "name": "stdout",
     "output_type": "stream",
     "text": [
      "42617884105420 126394998 42617947302920.0\n",
      "42617947302920\n"
     ]
    }
   ],
   "source": [
    "input_data = []\n",
    "direction2map = {\n",
    "    '0': 'R',\n",
    "    '1': 'D',\n",
    "    '2': 'L',\n",
    "    '3': 'U',\n",
    "}\n",
    "for line in lines:\n",
    "    direction, num, color_str = line.split()\n",
    "    num2_str = color_str[2:-2]\n",
    "    direction2_str = color_str[-2]\n",
    "    direction2 = direction2map[direction2_str]\n",
    "    num2 = int(num2_str, 16)\n",
    "    input_data.append((direction2, num2))\n",
    "\n",
    "square = 0\n",
    "perimeter = 0\n",
    "plus = False\n",
    "y, x = 0, 0\n",
    "for i, (direction, num) in enumerate(input_data):\n",
    "    dy, dx = delta[direction]\n",
    "    new_y, new_x = y + dy * num, x + dx * num\n",
    "    perimeter += abs(dy * num) + abs(dx * num)\n",
    "    s = new_y * new_x\n",
    "    if plus:\n",
    "        square += s\n",
    "    else:\n",
    "        square -= s\n",
    "    # print(f'{direction} {num=:8} {new_y=:8} {new_x=:8} {s=:14} {perimeter=:8} {square=:15}')\n",
    "\n",
    "    plus = not plus\n",
    "    y, x = new_y, new_x\n",
    "\n",
    "print(square, perimeter, square + perimeter / 2 + 1)\n",
    "result = int(square + perimeter / 2 + 1)\n",
    "print(result)\n"
   ]
  },
  {
   "cell_type": "code",
   "execution_count": 207,
   "metadata": {},
   "outputs": [
    {
     "data": {
      "text/plain": [
       "\"That's the right answer!  You are one gold star closer to restoring snow operations.You have completed Day 18! (solved in 74:19)\""
      ]
     },
     "execution_count": 207,
     "metadata": {},
     "output_type": "execute_result"
    }
   ],
   "source": [
    "send_result(DAY, 2, result)"
   ]
  },
  {
   "cell_type": "code",
   "execution_count": null,
   "metadata": {},
   "outputs": [],
   "source": []
  }
 ],
 "metadata": {
  "kernelspec": {
   "display_name": "venv",
   "language": "python",
   "name": "python3"
  },
  "language_info": {
   "codemirror_mode": {
    "name": "ipython",
    "version": 3
   },
   "file_extension": ".py",
   "mimetype": "text/x-python",
   "name": "python",
   "nbconvert_exporter": "python",
   "pygments_lexer": "ipython3",
   "version": "3.11.7"
  },
  "orig_nbformat": 4
 },
 "nbformat": 4,
 "nbformat_minor": 2
}

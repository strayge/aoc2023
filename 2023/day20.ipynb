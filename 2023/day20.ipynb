{
 "cells": [
  {
   "cell_type": "code",
   "execution_count": 1,
   "metadata": {},
   "outputs": [],
   "source": [
    "from common import *\n",
    "from structures import *\n",
    "\n",
    "DAY = 20"
   ]
  },
  {
   "cell_type": "code",
   "execution_count": 2,
   "metadata": {},
   "outputs": [
    {
     "data": {
      "text/markdown": [
       "<article class=\"day-desc\"><h2>--- Day 20: Pulse Propagation ---</h2><p>With your help, the Elves manage to find the right parts and fix all of the machines. Now, they just need to send the command to boot up the machines and get the sand flowing again.</p>\n",
       "<p>The machines are far apart and wired together with long <em>cables</em>. The cables don't connect to the machines directly, but rather to communication <em>modules</em> attached to the machines that perform various initialization tasks and also act as communication relays.</p>\n",
       "<p>Modules communicate using <em>pulses</em>. Each pulse is either a <em>high pulse</em> or a <em>low pulse</em>. When a module sends a pulse, it sends that type of pulse to each module in its list of <em>destination modules</em>.</p>\n",
       "<p>There are several different types of modules:</p>\n",
       "<p><em>Flip-flop</em> modules (prefix <code>%</code>) are either <em>on</em> or <em>off</em>; they are initially <em>off</em>. If a flip-flop module receives a high pulse, it is ignored and nothing happens. However, if a flip-flop module receives a low pulse, it <em>flips between on and off</em>. If it was off, it turns on and sends a high pulse. If it was on, it turns off and sends a low pulse.</p>\n",
       "<p><em>Conjunction</em> modules (prefix <code>&amp;</code>) <em>remember</em> the type of the most recent pulse received from <em>each</em> of their connected input modules; they initially default to remembering a <em>low pulse</em> for each input. When a pulse is received, the conjunction module first updates its memory for that input. Then, if it remembers <em>high pulses</em> for all inputs, it sends a <em>low pulse</em>; otherwise, it sends a <em>high pulse</em>.</p>\n",
       "<p>There is a single <em>broadcast module</em> (named <code>broadcaster</code>). When it receives a pulse, it sends the same pulse to all of its destination modules.</p>\n",
       "<p>Here at Desert Machine Headquarters, there is a module with a single button on it called, aptly, the <em>button module</em>. When you push the button, a single <em>low pulse</em> is sent directly to the <code>broadcaster</code> module.</p>\n",
       "<p>After pushing the button, you must wait until all pulses have been delivered and fully handled before pushing it again. Never push the button if modules are still processing pulses.</p>\n",
       "<p>Pulses are always processed <em>in the order they are sent</em>. So, if a pulse is sent to modules <code>a</code>, <code>b</code>, and <code>c</code>, and then module <code>a</code> processes its pulse and sends more pulses, the pulses sent to modules <code>b</code> and <code>c</code> would have to be handled first.</p>\n",
       "<p>The module configuration (your puzzle input) lists each module. The name of the module is preceded by a symbol identifying its type, if any. The name is then followed by an arrow and a list of its destination modules. For example:</p>\n",
       "<pre><code>broadcaster -&gt; a, b, c\n",
       "%a -&gt; b\n",
       "%b -&gt; c\n",
       "%c -&gt; inv\n",
       "&amp;inv -&gt; a\n",
       "</code></pre>\n",
       "<p>In this module configuration, the broadcaster has three destination modules named <code>a</code>, <code>b</code>, and <code>c</code>. Each of these modules is a flip-flop module (as indicated by the <code>%</code> prefix). <code>a</code> outputs to <code>b</code> which outputs to <code>c</code> which outputs to another module named <code>inv</code>. <code>inv</code> is a conjunction module (as indicated by the <code>&amp;</code> prefix) which, because it has only one input, acts like an <span title=\"This puzzle originally had a separate inverter module type until I realized it was just a worse conjunction module.\">inverter</span> (it sends the opposite of the pulse type it receives); it outputs to <code>a</code>.</p>\n",
       "<p>By pushing the button once, the following pulses are sent:</p>\n",
       "<pre><code>button -low-&gt; broadcaster\n",
       "broadcaster -low-&gt; a\n",
       "broadcaster -low-&gt; b\n",
       "broadcaster -low-&gt; c\n",
       "a -high-&gt; b\n",
       "b -high-&gt; c\n",
       "c -high-&gt; inv\n",
       "inv -low-&gt; a\n",
       "a -low-&gt; b\n",
       "b -low-&gt; c\n",
       "c -low-&gt; inv\n",
       "inv -high-&gt; a\n",
       "</code></pre>\n",
       "<p>After this sequence, the flip-flop modules all end up <em>off</em>, so pushing the button again repeats the same sequence.</p>\n",
       "<p>Here's a more interesting example:</p>\n",
       "<pre><code>broadcaster -&gt; a\n",
       "%a -&gt; inv, con\n",
       "&amp;inv -&gt; b\n",
       "%b -&gt; con\n",
       "&amp;con -&gt; output\n",
       "</code></pre>\n",
       "<p>This module configuration includes the <code>broadcaster</code>, two flip-flops (named <code>a</code> and <code>b</code>), a single-input conjunction module (<code>inv</code>), a multi-input conjunction module (<code>con</code>), and an untyped module named <code>output</code> (for testing purposes). The multi-input conjunction module <code>con</code> watches the two flip-flop modules and, if they're both on, sends a <em>low pulse</em> to the <code>output</code> module.</p>\n",
       "<p>Here's what happens if you push the button once:</p>\n",
       "<pre><code>button -low-&gt; broadcaster\n",
       "broadcaster -low-&gt; a\n",
       "a -high-&gt; inv\n",
       "a -high-&gt; con\n",
       "inv -low-&gt; b\n",
       "con -high-&gt; output\n",
       "b -high-&gt; con\n",
       "con -low-&gt; output\n",
       "</code></pre>\n",
       "<p>Both flip-flops turn on and a low pulse is sent to <code>output</code>! However, now that both flip-flops are on and <code>con</code> remembers a high pulse from each of its two inputs, pushing the button a second time does something different:</p>\n",
       "<pre><code>button -low-&gt; broadcaster\n",
       "broadcaster -low-&gt; a\n",
       "a -low-&gt; inv\n",
       "a -low-&gt; con\n",
       "inv -high-&gt; b\n",
       "con -high-&gt; output\n",
       "</code></pre>\n",
       "<p>Flip-flop <code>a</code> turns off! Now, <code>con</code> remembers a low pulse from module <code>a</code>, and so it sends only a high pulse to <code>output</code>.</p>\n",
       "<p>Push the button a third time:</p>\n",
       "<pre><code>button -low-&gt; broadcaster\n",
       "broadcaster -low-&gt; a\n",
       "a -high-&gt; inv\n",
       "a -high-&gt; con\n",
       "inv -low-&gt; b\n",
       "con -low-&gt; output\n",
       "b -low-&gt; con\n",
       "con -high-&gt; output\n",
       "</code></pre>\n",
       "<p>This time, flip-flop <code>a</code> turns on, then flip-flop <code>b</code> turns off. However, before <code>b</code> can turn off, the pulse sent to <code>con</code> is handled first, so it <em>briefly remembers all high pulses</em> for its inputs and sends a low pulse to <code>output</code>. After that, flip-flop <code>b</code> turns off, which causes <code>con</code> to update its state and send a high pulse to <code>output</code>.</p>\n",
       "<p>Finally, with <code>a</code> on and <code>b</code> off, push the button a fourth time:</p>\n",
       "<pre><code>button -low-&gt; broadcaster\n",
       "broadcaster -low-&gt; a\n",
       "a -low-&gt; inv\n",
       "a -low-&gt; con\n",
       "inv -high-&gt; b\n",
       "con -high-&gt; output\n",
       "</code></pre>\n",
       "<p>This completes the cycle: <code>a</code> turns off, causing <code>con</code> to remember only low pulses and restoring all modules to their original states.</p>\n",
       "<p>To get the cables warmed up, the Elves have pushed the button <code>1000</code> times. How many pulses got sent as a result (including the pulses sent by the button itself)?</p>\n",
       "<p>In the first example, the same thing happens every time the button is pushed: <code>8</code> low pulses and <code>4</code> high pulses are sent. So, after pushing the button <code>1000</code> times, <code>8000</code> low pulses and <code>4000</code> high pulses are sent. Multiplying these together gives <code><em>32000000</em></code>.</p>\n",
       "<p>In the second example, after pushing the button <code>1000</code> times, <code>4250</code> low pulses and <code>2750</code> high pulses are sent. Multiplying these together gives <code><em>11687500</em></code>.</p>\n",
       "<p>Consult your module configuration; determine the number of low pulses and high pulses that would be sent after pushing the button <code>1000</code> times, waiting for all pulses to be fully handled after each push of the button. <em>What do you get if you multiply the total number of low pulses sent by the total number of high pulses sent?</em></p>\n",
       "</article>"
      ],
      "text/plain": [
       "<IPython.core.display.Markdown object>"
      ]
     },
     "metadata": {},
     "output_type": "display_data"
    }
   ],
   "source": [
    "show_task(DAY)"
   ]
  },
  {
   "cell_type": "code",
   "execution_count": 82,
   "metadata": {},
   "outputs": [],
   "source": [
    "lines = '''broadcaster -> a\n",
    "%a -> inv, con\n",
    "&inv -> b\n",
    "%b -> con\n",
    "&con -> output'''.splitlines()"
   ]
  },
  {
   "cell_type": "code",
   "execution_count": 85,
   "metadata": {},
   "outputs": [],
   "source": [
    "lines = get_input_lines(DAY)"
   ]
  },
  {
   "cell_type": "code",
   "execution_count": 86,
   "metadata": {},
   "outputs": [],
   "source": [
    "modules = {}\n",
    "for line in lines:\n",
    "    name, outputs_str = line.split(' -> ', 1)\n",
    "    outputs = outputs_str.split(', ')\n",
    "    mod_type = ''\n",
    "    if name[0] in '%&':\n",
    "        mod_type = name[0]\n",
    "        name = name[1:]\n",
    "    modules[name] = (mod_type, outputs)\n"
   ]
  },
  {
   "cell_type": "code",
   "execution_count": 95,
   "metadata": {},
   "outputs": [
    {
     "name": "stdout",
     "output_type": "stream",
     "text": [
      "16908 43222\n",
      "730797576\n"
     ]
    }
   ],
   "source": [
    "from queue import Queue\n",
    "\n",
    "\n",
    "low_pulses, high_pulses = 0, 0\n",
    "states = {}\n",
    "\n",
    "# initial state\n",
    "for name, (mod_type, outputs) in modules.items():\n",
    "    if mod_type == '%':\n",
    "        states[name] = 0\n",
    "    elif mod_type == '&':\n",
    "        states[name] = {}\n",
    "        for name2, (mod_type2, outputs2) in modules.items():\n",
    "            if name in outputs2:\n",
    "                states[name][name2] = 0\n",
    "\n",
    "queue = Queue()\n",
    "\n",
    "def process(prev_name: str, name: str, value: int, deep: int = 0) -> None:\n",
    "    global low_pulses, high_pulses\n",
    "    if value:\n",
    "        high_pulses += 1\n",
    "    else:\n",
    "        low_pulses += 1\n",
    "\n",
    "    if name not in modules:\n",
    "        # if name in ('rk', 'cd', 'zf', 'qx') and value == 1:\n",
    "        #     raise ValueError(f'{name} is 1')\n",
    "        # print(f'process {value} into non-exists {name}')\n",
    "        return\n",
    "\n",
    "    mod_type, outputs = modules[name]\n",
    "    # print(f'process {value} into {mod_type}{name}')\n",
    "    if mod_type == '':\n",
    "        for output in outputs:\n",
    "            queue.put((name, output, value, deep + 1))\n",
    "    elif mod_type == '%':\n",
    "        if value == 1:\n",
    "            pass\n",
    "        else:\n",
    "            states[name] = 1 if states[name] == 0 else 0\n",
    "            for output in outputs:\n",
    "                queue.put((name, output, states[name], deep + 1))\n",
    "    elif mod_type == '&':\n",
    "        and_states = states[name]\n",
    "        and_states[prev_name] = value\n",
    "        if all(and_states.values()):\n",
    "            for output in outputs:\n",
    "                queue.put((name, output, 0, deep + 1))\n",
    "        else:\n",
    "            for output in outputs:\n",
    "                queue.put((name, output, 1, deep + 1))\n",
    "\n",
    "for i in range(1000):\n",
    "    # print(f'iteration {i}')\n",
    "    queue.put(('button', 'broadcaster', 0, 0))\n",
    "    while not queue.empty():\n",
    "        from_name, name, value, deep = queue.get()\n",
    "        process(from_name, name, value, deep)\n",
    "\n",
    "print(low_pulses, high_pulses)\n",
    "result = low_pulses * high_pulses\n",
    "print(result)"
   ]
  },
  {
   "cell_type": "code",
   "execution_count": 88,
   "metadata": {},
   "outputs": [
    {
     "data": {
      "text/plain": [
       "\"That's the right answer!  You are one gold star closer to restoring snow operations. [Continue to Part Two] (solved in 111:51)\""
      ]
     },
     "execution_count": 88,
     "metadata": {},
     "output_type": "execute_result"
    }
   ],
   "source": [
    "send_result(DAY, 1, result)"
   ]
  },
  {
   "cell_type": "code",
   "execution_count": 89,
   "metadata": {},
   "outputs": [
    {
     "data": {
      "text/markdown": [
       "<article class=\"day-desc\"><h2 id=\"part2\">--- Part Two ---</h2><p>The final machine responsible for moving the sand down to Island Island has a module attached named <code>rx</code>. The machine turns on when a <em>single low pulse</em> is sent to <code>rx</code>.</p>\n",
       "<p>Reset all modules to their default states. Waiting for all pulses to be fully handled after each button press, <em>what is the fewest number of button presses required to deliver a single low pulse to the module named <code>rx</code>?</em></p>\n",
       "</article>"
      ],
      "text/plain": [
       "<IPython.core.display.Markdown object>"
      ]
     },
     "metadata": {},
     "output_type": "display_data"
    }
   ],
   "source": [
    "show_task(DAY, 2)"
   ]
  },
  {
   "cell_type": "code",
   "execution_count": null,
   "metadata": {},
   "outputs": [],
   "source": [
    "lines = get_test_input_lines(DAY)"
   ]
  },
  {
   "cell_type": "code",
   "execution_count": null,
   "metadata": {},
   "outputs": [],
   "source": [
    "lines = get_input_lines(DAY)"
   ]
  },
  {
   "cell_type": "code",
   "execution_count": null,
   "metadata": {},
   "outputs": [],
   "source": []
  },
  {
   "cell_type": "code",
   "execution_count": null,
   "metadata": {},
   "outputs": [],
   "source": []
  },
  {
   "cell_type": "code",
   "execution_count": null,
   "metadata": {},
   "outputs": [],
   "source": []
  },
  {
   "cell_type": "code",
   "execution_count": null,
   "metadata": {},
   "outputs": [],
   "source": []
  },
  {
   "cell_type": "code",
   "execution_count": null,
   "metadata": {},
   "outputs": [],
   "source": [
    "send_result(DAY, 2, result)"
   ]
  }
 ],
 "metadata": {
  "kernelspec": {
   "display_name": "venv",
   "language": "python",
   "name": "python3"
  },
  "language_info": {
   "codemirror_mode": {
    "name": "ipython",
    "version": 3
   },
   "file_extension": ".py",
   "mimetype": "text/x-python",
   "name": "python",
   "nbconvert_exporter": "python",
   "pygments_lexer": "ipython3",
   "version": "3.11.7"
  },
  "orig_nbformat": 4
 },
 "nbformat": 4,
 "nbformat_minor": 2
}

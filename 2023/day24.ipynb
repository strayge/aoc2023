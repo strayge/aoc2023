{
 "cells": [
  {
   "cell_type": "code",
   "execution_count": 1,
   "metadata": {},
   "outputs": [],
   "source": [
    "from common import *\n",
    "from structures import *\n",
    "\n",
    "DAY = 24"
   ]
  },
  {
   "cell_type": "code",
   "execution_count": 2,
   "metadata": {},
   "outputs": [
    {
     "data": {
      "text/markdown": [
       "<article class=\"day-desc\"><h2>--- Day 24: Never Tell Me The Odds ---</h2><p>It seems like something is going wrong with the snow-making process. Instead of forming snow, the water that's been absorbed into the air seems to be forming <a href=\"https://en.wikipedia.org/wiki/Hail\" target=\"_blank\">hail</a>!</p>\n",
       "<p>Maybe there's something you can do to break up the hailstones?</p>\n",
       "<p>Due to strong, probably-magical winds, the hailstones are all flying through the air in perfectly linear trajectories. You make a note of each hailstone's <em>position</em> and <em>velocity</em> (your puzzle input). For example:</p>\n",
       "<pre><code>19, 13, 30 @ -2,  1, -2\n",
       "18, 19, 22 @ -1, -1, -2\n",
       "20, 25, 34 @ -2, -2, -4\n",
       "12, 31, 28 @ -1, -2, -1\n",
       "20, 19, 15 @  1, -5, -3\n",
       "</code></pre>\n",
       "<p>Each line of text corresponds to the position and velocity of a single hailstone. The positions indicate where the hailstones are <em>right now</em> (at time <code>0</code>). The velocities are constant and indicate exactly how far each hailstone will move in <em>one nanosecond</em>.</p>\n",
       "<p>Each line of text uses the format <code>px py pz @ vx vy vz</code>. For instance, the hailstone specified by <code>20, 19, 15 @  1, -5, -3</code> has initial X position <code>20</code>, Y position <code>19</code>, Z position <code>15</code>, X velocity <code>1</code>, Y velocity <code>-5</code>, and Z velocity <code>-3</code>. After one nanosecond, the hailstone would be at <code>21, 14, 12</code>.</p>\n",
       "<p>Perhaps you won't have to do anything. How likely are the hailstones to collide with each other and smash into tiny ice crystals?</p>\n",
       "<p>To estimate this, consider only the X and Y axes; <em>ignore the Z axis</em>. Looking <em>forward in time</em>, how many of the hailstones' <em>paths</em> will intersect within a test area? (The hailstones themselves don't have to collide, just test for intersections between the paths they will trace.)</p>\n",
       "<p>In this example, look for intersections that happen with an X and Y position each at least <code>7</code> and at most <code>27</code>; in your actual data, you'll need to check a much larger test area. Comparing all pairs of hailstones' future paths produces the following results:</p>\n",
       "<pre><code>Hailstone A: 19, 13, 30 @ -2, 1, -2\n",
       "Hailstone B: 18, 19, 22 @ -1, -1, -2\n",
       "Hailstones' paths will cross <em>inside</em> the test area (at x=14.333, y=15.333).\n",
       "\n",
       "Hailstone A: 19, 13, 30 @ -2, 1, -2\n",
       "Hailstone B: 20, 25, 34 @ -2, -2, -4\n",
       "Hailstones' paths will cross <em>inside</em> the test area (at x=11.667, y=16.667).\n",
       "\n",
       "Hailstone A: 19, 13, 30 @ -2, 1, -2\n",
       "Hailstone B: 12, 31, 28 @ -1, -2, -1\n",
       "Hailstones' paths will cross outside the test area (at x=6.2, y=19.4).\n",
       "\n",
       "Hailstone A: 19, 13, 30 @ -2, 1, -2\n",
       "Hailstone B: 20, 19, 15 @ 1, -5, -3\n",
       "Hailstones' paths crossed in the past for hailstone A.\n",
       "\n",
       "Hailstone A: 18, 19, 22 @ -1, -1, -2\n",
       "Hailstone B: 20, 25, 34 @ -2, -2, -4\n",
       "Hailstones' paths are parallel; they never intersect.\n",
       "\n",
       "Hailstone A: 18, 19, 22 @ -1, -1, -2\n",
       "Hailstone B: 12, 31, 28 @ -1, -2, -1\n",
       "Hailstones' paths will cross outside the test area (at x=-6, y=-5).\n",
       "\n",
       "Hailstone A: 18, 19, 22 @ -1, -1, -2\n",
       "Hailstone B: 20, 19, 15 @ 1, -5, -3\n",
       "Hailstones' paths crossed in the past for both hailstones.\n",
       "\n",
       "Hailstone A: 20, 25, 34 @ -2, -2, -4\n",
       "Hailstone B: 12, 31, 28 @ -1, -2, -1\n",
       "Hailstones' paths will cross outside the test area (at x=-2, y=3).\n",
       "\n",
       "Hailstone A: 20, 25, 34 @ -2, -2, -4\n",
       "Hailstone B: 20, 19, 15 @ 1, -5, -3\n",
       "Hailstones' paths crossed in the past for hailstone B.\n",
       "\n",
       "Hailstone A: 12, 31, 28 @ -1, -2, -1\n",
       "Hailstone B: 20, 19, 15 @ 1, -5, -3\n",
       "Hailstones' paths crossed in the past for both hailstones.\n",
       "</code></pre>\n",
       "<p>So, in this example, <code><em>2</em></code> hailstones' future paths cross inside the boundaries of the test area.</p>\n",
       "<p>However, you'll need to search a much larger test area if you want to see if any hailstones might collide. Look for intersections that happen with an X and Y position each at least <code>200000000000000</code> and at most <code>400000000000000</code>. Disregard the Z axis entirely.</p>\n",
       "<p>Considering only the X and Y axes, check all pairs of hailstones' future paths for intersections. <em>How many of these intersections occur within the test area?</em></p>\n",
       "</article>"
      ],
      "text/plain": [
       "<IPython.core.display.Markdown object>"
      ]
     },
     "metadata": {},
     "output_type": "display_data"
    }
   ],
   "source": [
    "show_task(DAY)"
   ]
  },
  {
   "cell_type": "code",
   "execution_count": 7,
   "metadata": {},
   "outputs": [],
   "source": [
    "lines = '''19, 13, 30 @ -2,  1, -2\n",
    "18, 19, 22 @ -1, -1, -2\n",
    "20, 25, 34 @ -2, -2, -4\n",
    "12, 31, 28 @ -1, -2, -1\n",
    "20, 19, 15 @  1, -5, -3'''.splitlines()"
   ]
  },
  {
   "cell_type": "code",
   "execution_count": null,
   "metadata": {},
   "outputs": [],
   "source": [
    "lines = get_input_lines(DAY)"
   ]
  },
  {
   "cell_type": "code",
   "execution_count": 10,
   "metadata": {},
   "outputs": [],
   "source": [
    "rays = []\n",
    "for line in lines:\n",
    "    nums = [int(x) for x in line.replace(' @ ', ', ').split(',')]\n",
    "    rays.append((nums[0], nums[1], nums[2], nums[3], nums[4], nums[5]))\n"
   ]
  },
  {
   "cell_type": "code",
   "execution_count": 23,
   "metadata": {},
   "outputs": [
    {
     "name": "stdout",
     "output_type": "stream",
     "text": [
      "rays (19, 13, 30, -2, 1, -2) (18, 19, 22, -1, -1, -2)\n",
      "  ok xm=1.0, ym=3.0\n",
      "rays (19, 13, 30, -2, 1, -2) (20, 25, 34, -2, -2, -4)\n",
      "  exit x1 != x2\n",
      "rays (19, 13, 30, -2, 1, -2) (12, 31, 28, -1, -2, -1)\n",
      "  ok xm=7.0, ym=6.0\n",
      "rays (19, 13, 30, -2, 1, -2) (20, 19, 15, 1, -5, -3)\n",
      "  ok xm=-0.3, ym=1.0\n",
      "rays (18, 19, 22, -1, -1, -2) (20, 25, 34, -2, -2, -4)\n",
      "  ok xm=2.0, ym=6.0\n",
      "rays (18, 19, 22, -1, -1, -2) (12, 31, 28, -1, -2, -1)\n",
      "  exit x1 != x2\n",
      "rays (18, 19, 22, -1, -1, -2) (20, 19, 15, 1, -5, -3)\n",
      "  ok xm=-1.0, ym=0.0\n",
      "rays (20, 25, 34, -2, -2, -4) (12, 31, 28, -1, -2, -1)\n",
      "  exit y1 != y2\n",
      "rays (20, 25, 34, -2, -2, -4) (20, 19, 15, 1, -5, -3)\n",
      "  ok xm=-0.0, ym=-2.0\n",
      "rays (12, 31, 28, -1, -2, -1) (20, 19, 15, 1, -5, -3)\n",
      "  ok xm=-4.0, ym=-4.0\n",
      "0\n"
     ]
    }
   ],
   "source": [
    "from itertools import combinations\n",
    "\n",
    "def intersect(ray1, ray2, min_pos: int = 7, max_pos: int = 27) -> bool:\n",
    "    print('rays', ray1, ray2)\n",
    "    x1, y1, z1, dx1, dy1, dz1 = ray1\n",
    "    x2, y2, z2, dx2, dy2, dz2 = ray2\n",
    "    if dx1 == dx2:\n",
    "        if x1 != x2:\n",
    "            print('  exit x1 != x2')\n",
    "            return False\n",
    "        xm = min_pos\n",
    "    else:\n",
    "        xm = (x2 - x1) / (dx1 - dx2)\n",
    "\n",
    "    if dy1 == dy2:\n",
    "        if y1 != y2:\n",
    "            print('  exit y1 != y2')\n",
    "            return False\n",
    "        ym = min_pos\n",
    "    else:\n",
    "        ym = (y2 - y1) / (dy1 - dy2)\n",
    "\n",
    "    print(f'  ok {xm=:.1f}, {ym=:.1f}')\n",
    "    if min_pos <= xm <= max_pos and min_pos <= ym <= max_pos:\n",
    "        return True\n",
    "    return False\n",
    "\n",
    "counter = 0\n",
    "for ray1, ray2 in combinations(rays, 2):\n",
    "    if intersect(ray1, ray2):\n",
    "        counter += 1\n",
    "\n",
    "print(counter)"
   ]
  },
  {
   "cell_type": "code",
   "execution_count": null,
   "metadata": {},
   "outputs": [],
   "source": []
  },
  {
   "cell_type": "code",
   "execution_count": null,
   "metadata": {},
   "outputs": [],
   "source": []
  },
  {
   "cell_type": "code",
   "execution_count": null,
   "metadata": {},
   "outputs": [],
   "source": [
    "send_result(DAY, 1, result)"
   ]
  },
  {
   "cell_type": "code",
   "execution_count": null,
   "metadata": {},
   "outputs": [],
   "source": [
    "show_task(DAY, 2)"
   ]
  },
  {
   "cell_type": "code",
   "execution_count": null,
   "metadata": {},
   "outputs": [],
   "source": [
    "lines = get_test_input_lines(DAY)"
   ]
  },
  {
   "cell_type": "code",
   "execution_count": null,
   "metadata": {},
   "outputs": [],
   "source": [
    "lines = get_input_lines(DAY)"
   ]
  },
  {
   "cell_type": "code",
   "execution_count": null,
   "metadata": {},
   "outputs": [],
   "source": []
  },
  {
   "cell_type": "code",
   "execution_count": null,
   "metadata": {},
   "outputs": [],
   "source": []
  },
  {
   "cell_type": "code",
   "execution_count": null,
   "metadata": {},
   "outputs": [],
   "source": []
  },
  {
   "cell_type": "code",
   "execution_count": null,
   "metadata": {},
   "outputs": [],
   "source": []
  },
  {
   "cell_type": "code",
   "execution_count": null,
   "metadata": {},
   "outputs": [],
   "source": [
    "send_result(DAY, 2, result)"
   ]
  }
 ],
 "metadata": {
  "kernelspec": {
   "display_name": "venv",
   "language": "python",
   "name": "python3"
  },
  "language_info": {
   "codemirror_mode": {
    "name": "ipython",
    "version": 3
   },
   "file_extension": ".py",
   "mimetype": "text/x-python",
   "name": "python",
   "nbconvert_exporter": "python",
   "pygments_lexer": "ipython3",
   "version": "3.11.10"
  },
  "orig_nbformat": 4
 },
 "nbformat": 4,
 "nbformat_minor": 2
}

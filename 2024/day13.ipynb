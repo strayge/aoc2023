{
 "cells": [
  {
   "cell_type": "code",
   "execution_count": 1,
   "metadata": {},
   "outputs": [],
   "source": [
    "from common import *\n",
    "from structures import *\n",
    "\n",
    "DAY = 13"
   ]
  },
  {
   "cell_type": "code",
   "execution_count": 2,
   "metadata": {},
   "outputs": [
    {
     "data": {
      "text/markdown": [
       "<article class=\"day-desc\"><h2>--- Day 13: Claw Contraption ---</h2><p>Next up: the <a href=\"/2020/day/24\">lobby</a> of a resort on a tropical island. The Historians take a moment to admire the hexagonal floor tiles before spreading out.</p>\n",
       "<p>Fortunately, it looks like the resort has a new <a href=\"https://en.wikipedia.org/wiki/Amusement_arcade\">arcade</a>! Maybe you can win some prizes from the <a href=\"https://en.wikipedia.org/wiki/Claw_machine\" target=\"_blank\">claw machines</a>?</p>\n",
       "<p>The claw machines here are a little unusual. Instead of a joystick or directional buttons to control the claw, these machines have two buttons labeled <code>A</code> and <code>B</code>. Worse, you can't just put in a token and play; it costs <em>3 tokens</em> to push the <code>A</code> button and <em>1 token</em> to push the <code>B</code> button.</p>\n",
       "<p>With a little experimentation, you figure out that each machine's buttons are configured to move the claw a specific amount to the <em>right</em> (along the <code>X</code> axis) and a specific amount <em>forward</em> (along the <code>Y</code> axis) each time that button is pressed.</p>\n",
       "<p>Each machine contains one <em>prize</em>; to win the prize, the claw must be positioned <em>exactly</em> above the prize on both the <code>X</code> and <code>Y</code> axes.</p>\n",
       "<p>You wonder: what is the smallest number of tokens you would have to spend to win as many prizes as possible? You assemble a list of every machine's button behavior and prize location (your puzzle input). For example:</p>\n",
       "<pre><code>Button A: X+94, Y+34\n",
       "Button B: X+22, Y+67\n",
       "Prize: X=8400, Y=5400\n",
       "\n",
       "Button A: X+26, Y+66\n",
       "Button B: X+67, Y+21\n",
       "Prize: X=12748, Y=12176\n",
       "\n",
       "Button A: X+17, Y+86\n",
       "Button B: X+84, Y+37\n",
       "Prize: X=7870, Y=6450\n",
       "\n",
       "Button A: X+69, Y+23\n",
       "Button B: X+27, Y+71\n",
       "Prize: X=18641, Y=10279\n",
       "</code></pre>\n",
       "<p>This list describes the button configuration and prize location of four different claw machines.</p>\n",
       "<p>For now, consider just the first claw machine in the list:</p>\n",
       "<ul>\n",
       "<li>Pushing the machine's <code>A</code> button would move the claw <code>94</code> units along the <code>X</code> axis and <code>34</code> units along the <code>Y</code> axis.</li>\n",
       "<li>Pushing the <code>B</code> button would move the claw <code>22</code> units along the <code>X</code> axis and <code>67</code> units along the <code>Y</code> axis.</li>\n",
       "<li>The prize is located at <code>X=8400</code>, <code>Y=5400</code>; this means that from the claw's initial position, it would need to move exactly <code>8400</code> units along the <code>X</code> axis and exactly <code>5400</code> units along the <code>Y</code> axis to be perfectly aligned with the prize in this machine.</li>\n",
       "</ul>\n",
       "<p>The cheapest way to win the prize is by pushing the <code>A</code> button <code>80</code> times and the <code>B</code> button <code>40</code> times. This would line up the claw along the <code>X</code> axis (because <code>80*94 + 40*22 = 8400</code>) and along the <code>Y</code> axis (because <code>80*34 + 40*67 = 5400</code>). Doing this would cost <code>80*3</code> tokens for the <span title=\"Half A presses are not allowed.\"><code>A</code> presses</span> and <code>40*1</code> for the <code>B</code> presses, a total of <code><em>280</em></code> tokens.</p>\n",
       "<p>For the second and fourth claw machines, there is no combination of A and B presses that will ever win a prize.</p>\n",
       "<p>For the third claw machine, the cheapest way to win the prize is by pushing the <code>A</code> button <code>38</code> times and the <code>B</code> button <code>86</code> times. Doing this would cost a total of <code><em>200</em></code> tokens.</p>\n",
       "<p>So, the most prizes you could possibly win is two; the minimum tokens you would have to spend to win all (two) prizes is <code><em>480</em></code>.</p>\n",
       "<p>You estimate that each button would need to be pressed <em>no more than <code>100</code> times</em> to win a prize. How else would someone be expected to play?</p>\n",
       "<p>Figure out how to win as many prizes as possible. <em>What is the fewest tokens you would have to spend to win all possible prizes?</em></p>\n",
       "</article>"
      ],
      "text/plain": [
       "<IPython.core.display.Markdown object>"
      ]
     },
     "metadata": {},
     "output_type": "display_data"
    }
   ],
   "source": [
    "show_task(DAY)"
   ]
  },
  {
   "cell_type": "code",
   "execution_count": 3,
   "metadata": {},
   "outputs": [],
   "source": [
    "lines = get_test_input_lines(DAY)"
   ]
  },
  {
   "cell_type": "code",
   "execution_count": 22,
   "metadata": {},
   "outputs": [],
   "source": [
    "lines = get_input_lines(DAY)"
   ]
  },
  {
   "cell_type": "code",
   "execution_count": 23,
   "metadata": {},
   "outputs": [],
   "source": [
    "data = []\n",
    "for i in range(0, len(lines), 4):\n",
    "    line1_parts = lines[i].split(' ')\n",
    "    line2_parts = lines[i + 1].split(' ')\n",
    "    line3_parts = lines[i + 2].split(' ')\n",
    "    button_a = int(line1_parts[2][1:-1]), int(line1_parts[3][1:])\n",
    "    button_b = int(line2_parts[2][1:-1]), int(line2_parts[3][1:])\n",
    "    prize = int(line3_parts[1][2:-1]), int(line3_parts[2][2:])\n",
    "    # print(button_a, button_b, prize)\n",
    "    data.append((button_a, button_b, prize))"
   ]
  },
  {
   "cell_type": "code",
   "execution_count": 20,
   "metadata": {},
   "outputs": [
    {
     "name": "stdout",
     "output_type": "stream",
     "text": [
      "Case 1: (80.0, 40.0)\n",
      "Case 2: (141.4045407636739, 135.3952528379773)\n",
      "Case 3: (38.0, 86.0)\n",
      "Case 4: (244.5016362786349, 65.56989247311827)\n"
     ]
    }
   ],
   "source": [
    "def calculate(btn1, btn2, target):\n",
    "    x1, y1 = btn1\n",
    "    x2, y2 = btn2\n",
    "    tx, ty = target\n",
    "    b = (x1*ty - y1*tx) / (x1*y2 - x2*y1)\n",
    "    a = (tx - b*x2) / x1\n",
    "    return a, b\n",
    "\n",
    "for i, (btn1, btn2, target) in enumerate(data):\n",
    "    print(f\"Case {i + 1}: {calculate(btn1, btn2, target)}\")"
   ]
  },
  {
   "cell_type": "code",
   "execution_count": 24,
   "metadata": {},
   "outputs": [
    {
     "name": "stdout",
     "output_type": "stream",
     "text": [
      "25751.0\n"
     ]
    }
   ],
   "source": [
    "result = 0\n",
    "for btn1, btn2, target in data:\n",
    "    a, b = calculate(btn1, btn2, target)\n",
    "    if a.is_integer() and b.is_integer():\n",
    "        result += a * 3 + b * 1\n",
    "print(result)"
   ]
  },
  {
   "cell_type": "code",
   "execution_count": 25,
   "metadata": {},
   "outputs": [
    {
     "data": {
      "text/plain": [
       "\"That's the right answer!  You are one gold star closer to finding the Chief Historian. [Continue to Part Two] (solved in 26:38)\""
      ]
     },
     "execution_count": 25,
     "metadata": {},
     "output_type": "execute_result"
    }
   ],
   "source": [
    "send_result(DAY, 1, int(result))"
   ]
  },
  {
   "cell_type": "code",
   "execution_count": 26,
   "metadata": {},
   "outputs": [
    {
     "data": {
      "text/markdown": [
       "<article class=\"day-desc\"><h2 id=\"part2\">--- Part Two ---</h2><p>As you go to win the first prize, you discover that the claw is nowhere near where you expected it would be. Due to a unit conversion error in your measurements, the position of every prize is actually <code>10000000000000</code> higher on both the <code>X</code> and <code>Y</code> axis!</p>\n",
       "<p>Add <code>10000000000000</code> to the <code>X</code> and <code>Y</code> position of every prize. After making this change, the example above would now look like this:</p>\n",
       "<pre><code>Button A: X+94, Y+34\n",
       "Button B: X+22, Y+67\n",
       "Prize: X=10000000008400, Y=10000000005400\n",
       "\n",
       "Button A: X+26, Y+66\n",
       "Button B: X+67, Y+21\n",
       "Prize: X=10000000012748, Y=10000000012176\n",
       "\n",
       "Button A: X+17, Y+86\n",
       "Button B: X+84, Y+37\n",
       "Prize: X=10000000007870, Y=10000000006450\n",
       "\n",
       "Button A: X+69, Y+23\n",
       "Button B: X+27, Y+71\n",
       "Prize: X=10000000018641, Y=10000000010279\n",
       "</code></pre>\n",
       "<p>Now, it is only possible to win a prize on the second and fourth claw machines. Unfortunately, it will take <em>many more than <code>100</code> presses</em> to do so.</p>\n",
       "<p>Using the corrected prize coordinates, figure out how to win as many prizes as possible. <em>What is the fewest tokens you would have to spend to win all possible prizes?</em></p>\n",
       "</article>"
      ],
      "text/plain": [
       "<IPython.core.display.Markdown object>"
      ]
     },
     "metadata": {},
     "output_type": "display_data"
    }
   ],
   "source": [
    "show_task(DAY, 2)"
   ]
  },
  {
   "cell_type": "code",
   "execution_count": null,
   "metadata": {},
   "outputs": [],
   "source": [
    "lines = get_input_lines(DAY)"
   ]
  },
  {
   "cell_type": "code",
   "execution_count": 27,
   "metadata": {},
   "outputs": [
    {
     "name": "stdout",
     "output_type": "stream",
     "text": [
      "108528956728655.0\n"
     ]
    }
   ],
   "source": [
    "def calculate(btn1, btn2, target):\n",
    "    x1, y1 = btn1\n",
    "    x2, y2 = btn2\n",
    "    tx, ty = target\n",
    "    tx += 10000000000000\n",
    "    ty += 10000000000000\n",
    "    b = (x1*ty - y1*tx) / (x1*y2 - x2*y1)\n",
    "    a = (tx - b*x2) / x1\n",
    "    return a, b\n",
    "\n",
    "result = 0\n",
    "for btn1, btn2, target in data:\n",
    "    a, b = calculate(btn1, btn2, target)\n",
    "    if a.is_integer() and b.is_integer():\n",
    "        result += a * 3 + b * 1\n",
    "print(result)"
   ]
  },
  {
   "cell_type": "code",
   "execution_count": 28,
   "metadata": {},
   "outputs": [
    {
     "data": {
      "text/plain": [
       "\"That's the right answer!  You are one gold star closer to finding the Chief Historian.You have completed Day 13! (solved in 01:52)\""
      ]
     },
     "execution_count": 28,
     "metadata": {},
     "output_type": "execute_result"
    }
   ],
   "source": [
    "send_result(DAY, 2, int(result))"
   ]
  },
  {
   "cell_type": "code",
   "execution_count": null,
   "metadata": {},
   "outputs": [],
   "source": []
  }
 ],
 "metadata": {
  "kernelspec": {
   "display_name": "aoc2023",
   "language": "python",
   "name": "python3"
  },
  "language_info": {
   "codemirror_mode": {
    "name": "ipython",
    "version": 3
   },
   "file_extension": ".py",
   "mimetype": "text/x-python",
   "name": "python",
   "nbconvert_exporter": "python",
   "pygments_lexer": "ipython3",
   "version": "3.12.4"
  },
  "orig_nbformat": 4
 },
 "nbformat": 4,
 "nbformat_minor": 2
}

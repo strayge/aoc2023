{
 "cells": [
  {
   "cell_type": "code",
   "execution_count": 1,
   "metadata": {},
   "outputs": [],
   "source": [
    "from common import *\n",
    "from structures import *\n",
    "\n",
    "DAY = 14"
   ]
  },
  {
   "cell_type": "code",
   "execution_count": 2,
   "metadata": {},
   "outputs": [
    {
     "data": {
      "text/markdown": [
       "<article class=\"day-desc\"><h2>--- Day 14: Restroom Redoubt ---</h2><p>One of The Historians needs to use the bathroom; fortunately, you know there's a bathroom near an unvisited location on their list, and so you're all quickly teleported directly to the lobby of Easter Bunny Headquarters.</p>\n",
       "<p>Unfortunately, EBHQ seems to have \"improved\" bathroom security <em>again</em> after your last <a href=\"/2016/day/2\">visit</a>. The area outside the bathroom is swarming with robots!</p>\n",
       "<p>To get The Historian safely to the bathroom, you'll need a way to predict where the robots will be in the future. Fortunately, they all seem to be moving on the tile floor in predictable <em>straight lines</em>.</p>\n",
       "<p>You make a list (your puzzle input) of all of the robots' current <em>positions</em> (<code>p</code>) and <em>velocities</em> (<code>v</code>), one robot per line. For example:</p>\n",
       "<pre><code>p=0,4 v=3,-3\n",
       "p=6,3 v=-1,-3\n",
       "p=10,3 v=-1,2\n",
       "p=2,0 v=2,-1\n",
       "p=0,0 v=1,3\n",
       "p=3,0 v=-2,-2\n",
       "p=7,6 v=-1,-3\n",
       "p=3,0 v=-1,-2\n",
       "p=9,3 v=2,3\n",
       "p=7,3 v=-1,2\n",
       "p=2,4 v=2,-3\n",
       "p=9,5 v=-3,-3\n",
       "</code></pre>\n",
       "<p>Each robot's position is given as <code>p=x,y</code> where <code>x</code> represents the number of tiles the robot is from the left wall and <code>y</code> represents the number of tiles from the top wall (when viewed from above). So, a position of <code>p=0,0</code> means the robot is all the way in the top-left corner.</p>\n",
       "<p>Each robot's velocity is given as <code>v=x,y</code> where <code>x</code> and <code>y</code> are given in <em>tiles per second</em>. Positive <code>x</code> means the robot is moving to the <em>right</em>, and positive <code>y</code> means the robot is moving <em>down</em>. So, a velocity of <code>v=1,-2</code> means that each second, the robot moves <code>1</code> tile to the right and <code>2</code> tiles up.</p>\n",
       "<p>The robots outside the actual bathroom are in a space which is <code>101</code> tiles wide and <code>103</code> tiles tall (when viewed from above). However, in this example, the robots are in a space which is only <code>11</code> tiles wide and <code>7</code> tiles tall.</p>\n",
       "<p>The robots are good at navigating over/under each other (due to a combination of springs, extendable legs, and quadcopters), so they can share the same tile and don't interact with each other. Visually, the number of robots on each tile in this example looks like this:</p>\n",
       "<pre><code>1.12.......\n",
       "...........\n",
       "...........\n",
       "......11.11\n",
       "1.1........\n",
       ".........1.\n",
       ".......1...\n",
       "</code></pre>\n",
       "<p>These robots have a unique feature for maximum bathroom security: they can <em>teleport</em>. When a robot would run into an edge of the space they're in, they instead <em>teleport to the other side</em>, effectively wrapping around the edges. Here is what robot <code>p=2,4 v=2,-3</code> does for the first few seconds:</p>\n",
       "<pre><code>Initial state:\n",
       "...........\n",
       "...........\n",
       "...........\n",
       "...........\n",
       "..1........\n",
       "...........\n",
       "...........\n",
       "\n",
       "After 1 second:\n",
       "...........\n",
       "....1......\n",
       "...........\n",
       "...........\n",
       "...........\n",
       "...........\n",
       "...........\n",
       "\n",
       "After 2 seconds:\n",
       "...........\n",
       "...........\n",
       "...........\n",
       "...........\n",
       "...........\n",
       "......1....\n",
       "...........\n",
       "\n",
       "After 3 seconds:\n",
       "...........\n",
       "...........\n",
       "........1..\n",
       "...........\n",
       "...........\n",
       "...........\n",
       "...........\n",
       "\n",
       "After 4 seconds:\n",
       "...........\n",
       "...........\n",
       "...........\n",
       "...........\n",
       "...........\n",
       "...........\n",
       "..........1\n",
       "\n",
       "After 5 seconds:\n",
       "...........\n",
       "...........\n",
       "...........\n",
       ".1.........\n",
       "...........\n",
       "...........\n",
       "...........\n",
       "</code></pre>\n",
       "<p>The Historian can't wait much longer, so you don't have to simulate the robots for very long. Where will the robots be after <code>100</code> seconds?</p>\n",
       "<p>In the above example, the number of robots on each tile after 100 seconds has elapsed looks like this:</p>\n",
       "<pre><code>......2..1.\n",
       "...........\n",
       "1..........\n",
       ".11........\n",
       ".....1.....\n",
       "...12......\n",
       ".1....1....\n",
       "</code></pre>\n",
       "<p>To determine the safest area, count the <em>number of robots in each quadrant</em> after 100 seconds. Robots that are exactly in the middle (horizontally or vertically) don't count as being in any quadrant, so the only relevant robots are:</p>\n",
       "<pre><code>..... 2..1.\n",
       "..... .....\n",
       "1.... .....\n",
       "           \n",
       "..... .....\n",
       "...12 .....\n",
       ".1... 1....\n",
       "</code></pre>\n",
       "<p>In this example, the quadrants contain <code>1</code>, <code>3</code>, <code>4</code>, and <code>1</code> robot. Multiplying these together gives a total <em>safety factor</em> of <code><em>12</em></code>.</p>\n",
       "<p>Predict the motion of the robots in your list within a space which is <code>101</code> tiles wide and <code>103</code> tiles tall. <em>What will the safety factor be after exactly 100 seconds have elapsed?</em></p>\n",
       "</article>"
      ],
      "text/plain": [
       "<IPython.core.display.Markdown object>"
      ]
     },
     "metadata": {},
     "output_type": "display_data"
    }
   ],
   "source": [
    "show_task(DAY)"
   ]
  },
  {
   "cell_type": "code",
   "execution_count": 7,
   "metadata": {},
   "outputs": [],
   "source": [
    "lines = '''p=0,4 v=3,-3\n",
    "p=6,3 v=-1,-3\n",
    "p=10,3 v=-1,2\n",
    "p=2,0 v=2,-1\n",
    "p=0,0 v=1,3\n",
    "p=3,0 v=-2,-2\n",
    "p=7,6 v=-1,-3\n",
    "p=3,0 v=-1,-2\n",
    "p=9,3 v=2,3\n",
    "p=7,3 v=-1,2\n",
    "p=2,4 v=2,-3\n",
    "p=9,5 v=-3,-3'''.splitlines()"
   ]
  },
  {
   "cell_type": "code",
   "execution_count": 22,
   "metadata": {},
   "outputs": [],
   "source": [
    "lines = get_input_lines(DAY)"
   ]
  },
  {
   "cell_type": "code",
   "execution_count": 8,
   "metadata": {},
   "outputs": [
    {
     "data": {
      "text/plain": [
       "['p=0,4 v=3,-3',\n",
       " 'p=6,3 v=-1,-3',\n",
       " 'p=10,3 v=-1,2',\n",
       " 'p=2,0 v=2,-1',\n",
       " 'p=0,0 v=1,3',\n",
       " 'p=3,0 v=-2,-2',\n",
       " 'p=7,6 v=-1,-3',\n",
       " 'p=3,0 v=-1,-2',\n",
       " 'p=9,3 v=2,3',\n",
       " 'p=7,3 v=-1,2',\n",
       " 'p=2,4 v=2,-3',\n",
       " 'p=9,5 v=-3,-3']"
      ]
     },
     "execution_count": 8,
     "metadata": {},
     "output_type": "execute_result"
    }
   ],
   "source": [
    "lines"
   ]
  },
  {
   "cell_type": "code",
   "execution_count": 37,
   "metadata": {},
   "outputs": [],
   "source": [
    "# width = 11\n",
    "# height = 7\n",
    "width = 101\n",
    "height = 103\n",
    "initial = []\n",
    "for line in lines:\n",
    "    part1, part2 = line.split(' ')\n",
    "    p_nums = part1.split('=')[1].split(',')\n",
    "    v_nums = part2.split('=')[1].split(',')\n",
    "    p = int(p_nums[0]), int(p_nums[1])\n",
    "    v = int(v_nums[0]), int(v_nums[1])\n",
    "    initial.append((p, v))"
   ]
  },
  {
   "cell_type": "code",
   "execution_count": 24,
   "metadata": {},
   "outputs": [
    {
     "name": "stdout",
     "output_type": "stream",
     "text": [
      "dict_values([132, 111, 131, 119])\n"
     ]
    },
    {
     "data": {
      "text/plain": [
       "228410028"
      ]
     },
     "execution_count": 24,
     "metadata": {},
     "output_type": "execute_result"
    }
   ],
   "source": [
    "from collections import defaultdict\n",
    "\n",
    "\n",
    "steps = 100\n",
    "counts = defaultdict(int)\n",
    "wmid = width // 2\n",
    "hmid = height // 2\n",
    "for p, v in initial:\n",
    "    px, py = p\n",
    "    vx, vy = v\n",
    "    x = (px + vx * steps) % width\n",
    "    y = (py + vy * steps) % height\n",
    "    # print(x, y)\n",
    "    if x == wmid or y == hmid:\n",
    "        continue\n",
    "    counts[(x > wmid, y > hmid)] += 1\n",
    "print(counts.values())\n",
    "result = 1\n",
    "for v in counts.values():\n",
    "    result *= v\n",
    "result"
   ]
  },
  {
   "cell_type": "code",
   "execution_count": 25,
   "metadata": {},
   "outputs": [
    {
     "data": {
      "text/plain": [
       "\"That's the right answer!  You are one gold star closer to finding the Chief Historian. [Continue to Part Two] (solved in 18:45)\""
      ]
     },
     "execution_count": 25,
     "metadata": {},
     "output_type": "execute_result"
    }
   ],
   "source": [
    "send_result(DAY, 1, result)"
   ]
  },
  {
   "cell_type": "code",
   "execution_count": 26,
   "metadata": {},
   "outputs": [
    {
     "data": {
      "text/markdown": [
       "<article class=\"day-desc\"><h2 id=\"part2\">--- Part Two ---</h2><p>During the bathroom break, someone notices that these robots seem awfully similar to ones built and used at the North Pole. If they're the same type of robots, they should have a hard-coded <span title=\"This puzzle was originally going to be about the motion of space rocks in a fictitious arcade game called Meteoroids, but we just had an arcade puzzle.\">Easter egg</span>: very rarely, most of the robots should arrange themselves into <em>a picture of a Christmas tree</em>.</p>\n",
       "<p><em>What is the fewest number of seconds that must elapse for the robots to display the Easter egg?</em></p>\n",
       "</article>"
      ],
      "text/plain": [
       "<IPython.core.display.Markdown object>"
      ]
     },
     "metadata": {},
     "output_type": "display_data"
    }
   ],
   "source": [
    "show_task(DAY, 2)"
   ]
  },
  {
   "cell_type": "code",
   "execution_count": null,
   "metadata": {},
   "outputs": [],
   "source": [
    "\n",
    "for i in range(1, 301):\n",
    "    m = Map(h=height, w=width)\n",
    "    for p, v in initial:\n",
    "        px, py = p\n",
    "        vx, vy = v\n",
    "        x = (px + vx * i) % width\n",
    "        y = (py + vy * i) % height\n",
    "        m[y][x] = '#'\n",
    "    print()\n",
    "    print(i)\n",
    "    m.show()"
   ]
  },
  {
   "cell_type": "code",
   "execution_count": 45,
   "metadata": {},
   "outputs": [
    {
     "name": "stdout",
     "output_type": "stream",
     "text": [
      "8258 292\n",
      "18661 292\n"
     ]
    }
   ],
   "source": [
    "for steps in range(1, 20000):\n",
    "    m = Map(h=height, w=width)\n",
    "    for p, v in initial:\n",
    "        px, py = p\n",
    "        vx, vy = v\n",
    "        x = (px + vx * steps) % width\n",
    "        y = (py + vy * steps) % height\n",
    "        m[y][x] = '#'\n",
    "    counter = 0\n",
    "    for y in range(height//3, height//3*2):\n",
    "        for x in range(width//3, width//3*2):\n",
    "            if m[y][x] == '#':\n",
    "                counter += 1\n",
    "    # m.show()\n",
    "    if counter >= 150:\n",
    "        print(steps, counter)"
   ]
  },
  {
   "cell_type": "code",
   "execution_count": 50,
   "metadata": {},
   "outputs": [
    {
     "name": "stdout",
     "output_type": "stream",
     "text": [
      ". . . # . # . . . . . . . . . . . . . . # . . . . . . . . . . . . \n",
      ". . . . . # . . . . . . . . . . . . . # # # . . . . . . . . . . . \n",
      ". . . . . # . . . . . . . . . . . . # # # # # . . . . . . . . . . \n",
      ". . . . . # . . . . . . . . . . . # # # # # # # . . . . . . . . . \n",
      ". . . . . # . . . . . . . . . . # # # # # # # # # . . . . . . . . \n",
      ". . . . . # . . . . . . . . . . . . # # # # # . . . . . . . . . . \n",
      ". . . . . # . . . . . . . . . . . # # # # # # # . . . . . . . . . \n",
      ". . . . . # . . . . . . . . . . # # # # # # # # # . . . . . . . . \n",
      ". . . . . # . . . . . . . . . # # # # # # # # # # # . . . . . . . \n",
      ". . . . . # . . . . . . . . # # # # # # # # # # # # # . . . . . . \n",
      ". . . . . # . . . . . . . . . . # # # # # # # # # . . . . . . . . \n",
      ". # . . . # . . . . . . . . . # # # # # # # # # # # . . . . . . . \n",
      ". . . . . # . . . . . . . . # # # # # # # # # # # # # . . . . . . \n",
      ". . . . . # . . . . . . . # # # # # # # # # # # # # # # . . . . . \n",
      ". . . . . # . . . . . . # # # # # # # # # # # # # # # # # . . . . \n",
      ". . . . . # . . . . . . . . # # # # # # # # # # # # # . . . . . . \n",
      ". . . . . # . . . . . . . # # # # # # # # # # # # # # # . . . . . \n",
      ". # . . . # . . . . . . # # # # # # # # # # # # # # # # # . . . . \n",
      ". . . . . # . . . . . # # # # # # # # # # # # # # # # # # # . . . \n",
      ". . . . . # . . . . # # # # # # # # # # # # # # # # # # # # # . . \n",
      ". . . . . # . . . . . . . . . . . . . # # # . . . . . . . . . . . \n",
      ". . . . . # . . . . . . . . . . . . . # # # . . . . . . . . . . . \n",
      ". . . . . # . . . . . . . . . . . . . # # # . . . . . . . . . . . \n",
      ". . . . . # . . . . . . . . . . . . . . . . . . . . . . . . . . . \n",
      ". . . . . # . . . . . . . . . . . . . . . . . . . . . . . . . . . \n",
      ". . . . . # . . . . . . . . . . . . . . . . . . . . . . . . . . . \n",
      "# . . . . # . . . . . . . . . . . . . . . . . . . . . . . . . . . \n",
      ". . . . . # # # # # # # # # # # # # # # # # # # # # # # # # # # # \n",
      ". . . . . . . . . . . . . . . . . . . . . . . . . . . . . . . . . \n",
      ". . . . . . . . . . . . . . . . . . . . . . . . . . . . . . . . . \n",
      ". . . . . . . . . . . # . . . . . . . . . . . . . . . . . . . . . \n",
      ". . . . . . . . . . . . . . . . . . . . . # . . . . . . . . . . . \n",
      ". . . . . . . . . . . . . . . . . . . . . . . . . . . . . # . . . \n",
      ". . . . . . . . . . . . . . . . . . . . . . . . . . # . . . . . . \n"
     ]
    }
   ],
   "source": [
    "steps = 8258\n",
    "m = Map(h=height, w=width)\n",
    "for p, v in initial:\n",
    "    px, py = p\n",
    "    vx, vy = v\n",
    "    x = (px + vx * steps) % width\n",
    "    y = (py + vy * steps) % height\n",
    "    m[y][x] = '#'\n",
    "for y in range(height//3, height//3*2):\n",
    "    line = ''\n",
    "    for x in range(width//3, width//3*2):\n",
    "        line += '# ' if m[y][x] == '#' else '. '\n",
    "    print(line)"
   ]
  },
  {
   "cell_type": "code",
   "execution_count": null,
   "metadata": {},
   "outputs": [],
   "source": []
  },
  {
   "cell_type": "code",
   "execution_count": 48,
   "metadata": {},
   "outputs": [
    {
     "data": {
      "text/plain": [
       "\"That's the right answer!  You are one gold star closer to finding the Chief Historian.You have completed Day 14! (solved in 25:28)\""
      ]
     },
     "execution_count": 48,
     "metadata": {},
     "output_type": "execute_result"
    }
   ],
   "source": [
    "send_result(DAY, 2, 8258)"
   ]
  },
  {
   "cell_type": "code",
   "execution_count": null,
   "metadata": {},
   "outputs": [],
   "source": []
  }
 ],
 "metadata": {
  "kernelspec": {
   "display_name": "venv",
   "language": "python",
   "name": "python3"
  },
  "language_info": {
   "codemirror_mode": {
    "name": "ipython",
    "version": 3
   },
   "file_extension": ".py",
   "mimetype": "text/x-python",
   "name": "python",
   "nbconvert_exporter": "python",
   "pygments_lexer": "ipython3",
   "version": "3.11.10"
  },
  "orig_nbformat": 4
 },
 "nbformat": 4,
 "nbformat_minor": 2
}

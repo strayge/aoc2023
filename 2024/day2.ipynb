{
 "cells": [
  {
   "cell_type": "code",
   "execution_count": 4,
   "metadata": {},
   "outputs": [],
   "source": [
    "from common import *\n",
    "from structures import *\n",
    "\n",
    "DAY = 2"
   ]
  },
  {
   "cell_type": "code",
   "execution_count": 5,
   "metadata": {},
   "outputs": [
    {
     "data": {
      "text/markdown": [
       "<article class=\"day-desc\"><h2>--- Day 2: Red-Nosed Reports ---</h2><p>Fortunately, the first location The Historians want to search isn't a long walk from the Chief Historian's office.</p>\n",
       "<p>While the <a href=\"/2015/day/19\">Red-Nosed Reindeer nuclear fusion/fission plant</a> appears to contain no sign of the Chief Historian, the engineers there run up to you as soon as they see you. Apparently, they <em>still</em> talk about the time Rudolph was saved through molecular synthesis from a single electron.</p>\n",
       "<p>They're quick to add that - since you're already here - they'd really appreciate your help analyzing some unusual data from the Red-Nosed reactor. You turn to check if The Historians are waiting for you, but they seem to have already divided into groups that are currently searching every corner of the facility. You offer to help with the unusual data.</p>\n",
       "<p>The unusual data (your puzzle input) consists of many <em>reports</em>, one report per line. Each report is a list of numbers called <em>levels</em> that are separated by spaces. For example:</p>\n",
       "<pre><code>7 6 4 2 1\n",
       "1 2 7 8 9\n",
       "9 7 6 2 1\n",
       "1 3 2 4 5\n",
       "8 6 4 4 1\n",
       "1 3 6 7 9\n",
       "</code></pre>\n",
       "<p>This example data contains six reports each containing five levels.</p>\n",
       "<p>The engineers are trying to figure out which reports are <em>safe</em>. The Red-Nosed reactor safety systems can only tolerate levels that are either gradually increasing or gradually decreasing. So, a report only counts as safe if both of the following are true:</p>\n",
       "<ul>\n",
       "<li>The levels are either <em>all increasing</em> or <em>all decreasing</em>.</li>\n",
       "<li>Any two adjacent levels differ by <em>at least one</em> and <em>at most three</em>.</li>\n",
       "</ul>\n",
       "<p>In the example above, the reports can be found safe or unsafe by checking those rules:</p>\n",
       "<ul>\n",
       "<li><code>7 6 4 2 1</code>: <em>Safe</em> because the levels are all decreasing by 1 or 2.</li>\n",
       "<li><code>1 2 7 8 9</code>: <em>Unsafe</em> because <code>2 7</code> is an increase of 5.</li>\n",
       "<li><code>9 7 6 2 1</code>: <em>Unsafe</em> because <code>6 2</code> is a decrease of 4.</li>\n",
       "<li><code>1 3 2 4 5</code>: <em>Unsafe</em> because <code>1 3</code> is increasing but <code>3 2</code> is decreasing.</li>\n",
       "<li><code>8 6 4 4 1</code>: <em>Unsafe</em> because <code>4 4</code> is neither an increase or a decrease.</li>\n",
       "<li><code>1 3 6 7 9</code>: <em>Safe</em> because the levels are all increasing by 1, 2, or 3.</li>\n",
       "</ul>\n",
       "<p>So, in this example, <code><em>2</em></code> reports are <em>safe</em>.</p>\n",
       "<p>Analyze the unusual data from the engineers. <em>How many reports are safe?</em></p>\n",
       "</article>"
      ],
      "text/plain": [
       "<IPython.core.display.Markdown object>"
      ]
     },
     "metadata": {},
     "output_type": "display_data"
    }
   ],
   "source": [
    "show_task(DAY)"
   ]
  },
  {
   "cell_type": "code",
   "execution_count": 6,
   "metadata": {},
   "outputs": [],
   "source": [
    "lines = get_test_input_lines(DAY)"
   ]
  },
  {
   "cell_type": "code",
   "execution_count": 14,
   "metadata": {},
   "outputs": [],
   "source": [
    "lines = get_input_lines(DAY)"
   ]
  },
  {
   "cell_type": "code",
   "execution_count": 15,
   "metadata": {},
   "outputs": [],
   "source": [
    "nums = []\n",
    "for line in lines:\n",
    "    line_nums = []\n",
    "    for num in line.split():\n",
    "        line_nums.append(int(num))\n",
    "    nums.append(line_nums)\n",
    "# nums"
   ]
  },
  {
   "cell_type": "code",
   "execution_count": 16,
   "metadata": {},
   "outputs": [
    {
     "data": {
      "text/plain": [
       "314"
      ]
     },
     "execution_count": 16,
     "metadata": {},
     "output_type": "execute_result"
    }
   ],
   "source": [
    "result = 0\n",
    "for num_list in nums:\n",
    "    increase = None\n",
    "    for i in range(1, len(num_list)):\n",
    "        num1 = num_list[i - 1]\n",
    "        num2 = num_list[i]\n",
    "        if num1 == num2:\n",
    "            break\n",
    "        if increase is None:\n",
    "            increase = num2 > num1\n",
    "        if (increase and (num2 < num1)) or (not increase and (num2 > num1)):\n",
    "            break\n",
    "        if abs(num1 - num2) > 3:\n",
    "            break\n",
    "    else:\n",
    "        # print(num_list)\n",
    "        result += 1\n",
    "result"
   ]
  },
  {
   "cell_type": "code",
   "execution_count": 17,
   "metadata": {},
   "outputs": [
    {
     "data": {
      "text/plain": [
       "\"That's the right answer!  You are one gold star closer to finding the Chief Historian. [Continue to Part Two] (solved in 09:05)\""
      ]
     },
     "execution_count": 17,
     "metadata": {},
     "output_type": "execute_result"
    }
   ],
   "source": [
    "send_result(DAY, 1, result)"
   ]
  },
  {
   "cell_type": "code",
   "execution_count": 18,
   "metadata": {},
   "outputs": [
    {
     "data": {
      "text/markdown": [
       "<article class=\"day-desc\"><h2 id=\"part2\">--- Part Two ---</h2><p>The engineers are surprised by the low number of safe reports until they realize they forgot to tell you about the <span title=\"I need to get one of these!\">Problem Dampener</span>.</p>\n",
       "<p>The Problem Dampener is a reactor-mounted module that lets the reactor safety systems <em>tolerate a single bad level</em> in what would otherwise be a safe report. It's like the bad level never happened!</p>\n",
       "<p>Now, the same rules apply as before, except if removing a single level from an unsafe report would make it safe, the report instead counts as safe.</p>\n",
       "<p>More of the above example's reports are now safe:</p>\n",
       "<ul>\n",
       "<li><code>7 6 4 2 1</code>: <em>Safe</em> without removing any level.</li>\n",
       "<li><code>1 2 7 8 9</code>: <em>Unsafe</em> regardless of which level is removed.</li>\n",
       "<li><code>9 7 6 2 1</code>: <em>Unsafe</em> regardless of which level is removed.</li>\n",
       "<li><code>1 <em>3</em> 2 4 5</code>: <em>Safe</em> by removing the second level, <code>3</code>.</li>\n",
       "<li><code>8 6 <em>4</em> 4 1</code>: <em>Safe</em> by removing the third level, <code>4</code>.</li>\n",
       "<li><code>1 3 6 7 9</code>: <em>Safe</em> without removing any level.</li>\n",
       "</ul>\n",
       "<p>Thanks to the Problem Dampener, <code><em>4</em></code> reports are actually <em>safe</em>!</p>\n",
       "<p>Update your analysis by handling situations where the Problem Dampener can remove a single level from unsafe reports. <em>How many reports are now safe?</em></p>\n",
       "</article>"
      ],
      "text/plain": [
       "<IPython.core.display.Markdown object>"
      ]
     },
     "metadata": {},
     "output_type": "display_data"
    }
   ],
   "source": [
    "show_task(DAY, 2)"
   ]
  },
  {
   "cell_type": "code",
   "execution_count": 51,
   "metadata": {},
   "outputs": [],
   "source": [
    "lines = get_test_input_lines(DAY)"
   ]
  },
  {
   "cell_type": "code",
   "execution_count": 53,
   "metadata": {},
   "outputs": [],
   "source": [
    "lines = get_input_lines(DAY)"
   ]
  },
  {
   "cell_type": "code",
   "execution_count": 54,
   "metadata": {},
   "outputs": [
    {
     "data": {
      "text/plain": [
       "369"
      ]
     },
     "execution_count": 54,
     "metadata": {},
     "output_type": "execute_result"
    }
   ],
   "source": [
    "nums = []\n",
    "for line in lines:\n",
    "    line_nums = []\n",
    "    for num in line.split():\n",
    "        line_nums.append(int(num))\n",
    "    nums.append(line_nums)\n",
    "\n",
    "def check(num_list):\n",
    "    increase = None\n",
    "    for i in range(1, len(num_list)):\n",
    "        num1 = num_list[i - 1]\n",
    "        num2 = num_list[i]\n",
    "        if num1 == num2:\n",
    "            return i\n",
    "        if increase is None:\n",
    "            increase = num2 > num1\n",
    "        if (increase and (num2 < num1)) or (not increase and (num2 > num1)):\n",
    "            return i\n",
    "        if abs(num1 - num2) > 3:\n",
    "            return i\n",
    "    return None\n",
    "\n",
    "\n",
    "result = 0\n",
    "for num_list in nums:\n",
    "    error_pos = check(num_list)\n",
    "    if error_pos is None:\n",
    "        result += 1\n",
    "        continue\n",
    "\n",
    "    new_nums1 = num_list[:error_pos] + num_list[error_pos + 1:]\n",
    "    assert len(new_nums1) == len(num_list) - 1\n",
    "    error_pos = check(new_nums1)\n",
    "    if error_pos is None:\n",
    "        result += 1\n",
    "        continue\n",
    "\n",
    "    new_nums2 = num_list[:error_pos - 1] + num_list[error_pos:]\n",
    "    assert len(new_nums2) == len(num_list) - 1\n",
    "    error_pos = check(new_nums2)\n",
    "    if error_pos is None:\n",
    "        result += 1\n",
    "        continue\n",
    "\n",
    "result"
   ]
  },
  {
   "cell_type": "code",
   "execution_count": 56,
   "metadata": {},
   "outputs": [
    {
     "data": {
      "text/plain": [
       "373"
      ]
     },
     "execution_count": 56,
     "metadata": {},
     "output_type": "execute_result"
    }
   ],
   "source": [
    "result = 0\n",
    "for num_list in nums:\n",
    "    lists = [num_list]\n",
    "    for i in range(len(num_list)):\n",
    "        new_list = num_list[:i] + num_list[i + 1:]\n",
    "        lists.append(new_list)\n",
    "\n",
    "    for new_list in lists:\n",
    "        if check(new_list) is None:\n",
    "            result += 1\n",
    "            break\n",
    "\n",
    "result"
   ]
  },
  {
   "cell_type": "code",
   "execution_count": 57,
   "metadata": {},
   "outputs": [
    {
     "data": {
      "text/plain": [
       "\"That's the right answer!  You are one gold star closer to finding the Chief Historian.You have completed Day 2! (solved in 1434:29)\""
      ]
     },
     "execution_count": 57,
     "metadata": {},
     "output_type": "execute_result"
    }
   ],
   "source": [
    "send_result(DAY, 2, result)"
   ]
  },
  {
   "cell_type": "code",
   "execution_count": null,
   "metadata": {},
   "outputs": [],
   "source": []
  }
 ],
 "metadata": {
  "kernelspec": {
   "display_name": "venv",
   "language": "python",
   "name": "python3"
  },
  "language_info": {
   "codemirror_mode": {
    "name": "ipython",
    "version": 3
   },
   "file_extension": ".py",
   "mimetype": "text/x-python",
   "name": "python",
   "nbconvert_exporter": "python",
   "pygments_lexer": "ipython3",
   "version": "3.11.10"
  },
  "orig_nbformat": 4
 },
 "nbformat": 4,
 "nbformat_minor": 2
}

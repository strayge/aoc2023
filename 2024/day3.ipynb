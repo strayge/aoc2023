{
 "cells": [
  {
   "cell_type": "code",
   "execution_count": 1,
   "metadata": {},
   "outputs": [],
   "source": [
    "from common import *\n",
    "from structures import *\n",
    "\n",
    "DAY = 3"
   ]
  },
  {
   "cell_type": "code",
   "execution_count": 2,
   "metadata": {},
   "outputs": [
    {
     "data": {
      "text/markdown": [
       "<article class=\"day-desc\"><h2>--- Day 3: Mull It Over ---</h2><p>\"Our computers are having issues, so I have no idea if we have any Chief Historians <span title=\"There's a spot reserved for Chief Historians between the green toboggans and the red toboggans. They've never actually had any Chief Historians in stock, but it's best to be prepared.\">in stock</span>! You're welcome to check the warehouse, though,\" says the mildly flustered shopkeeper at the <a href=\"/2020/day/2\">North Pole Toboggan Rental Shop</a>. The Historians head out to take a look.</p>\n",
       "<p>The shopkeeper turns to you. \"Any chance you can see why our computers are having issues again?\"</p>\n",
       "<p>The computer appears to be trying to run a program, but its memory (your puzzle input) is <em>corrupted</em>. All of the instructions have been jumbled up!</p>\n",
       "<p>It seems like the goal of the program is just to <em>multiply some numbers</em>. It does that with instructions like <code>mul(X,Y)</code>, where <code>X</code> and <code>Y</code> are each 1-3 digit numbers. For instance, <code>mul(44,46)</code> multiplies <code>44</code> by <code>46</code> to get a result of <code>2024</code>. Similarly, <code>mul(123,4)</code> would multiply <code>123</code> by <code>4</code>.</p>\n",
       "<p>However, because the program's memory has been corrupted, there are also many invalid characters that should be <em>ignored</em>, even if they look like part of a <code>mul</code> instruction. Sequences like <code>mul(4*</code>, <code>mul(6,9!</code>, <code>?(12,34)</code>, or <code>mul ( 2 , 4 )</code> do <em>nothing</em>.</p>\n",
       "<p>For example, consider the following section of corrupted memory:</p>\n",
       "<pre><code>x<em>mul(2,4)</em>%&amp;mul[3,7]!@^do_not_<em>mul(5,5)</em>+mul(32,64]then(<em>mul(11,8)mul(8,5)</em>)</code></pre>\n",
       "<p>Only the four highlighted sections are real <code>mul</code> instructions. Adding up the result of each instruction produces <code><em>161</em></code> (<code>2*4 + 5*5 + 11*8 + 8*5</code>).</p>\n",
       "<p>Scan the corrupted memory for uncorrupted <code>mul</code> instructions. <em>What do you get if you add up all of the results of the multiplications?</em></p>\n",
       "</article>"
      ],
      "text/plain": [
       "<IPython.core.display.Markdown object>"
      ]
     },
     "metadata": {},
     "output_type": "display_data"
    }
   ],
   "source": [
    "show_task(DAY)"
   ]
  },
  {
   "cell_type": "code",
   "execution_count": 3,
   "metadata": {},
   "outputs": [],
   "source": [
    "lines = ['xmul(2,4)%&mul[3,7]!@^do_not_mul(5,5)+mul(32,64]then(mul(11,8)mul(8,5))']"
   ]
  },
  {
   "cell_type": "code",
   "execution_count": 6,
   "metadata": {},
   "outputs": [],
   "source": [
    "lines = get_input_lines(DAY)"
   ]
  },
  {
   "cell_type": "code",
   "execution_count": 16,
   "metadata": {},
   "outputs": [
    {
     "data": {
      "text/plain": [
       "171183089"
      ]
     },
     "execution_count": 16,
     "metadata": {},
     "output_type": "execute_result"
    }
   ],
   "source": [
    "import re\n",
    "\n",
    "groups = re.findall(r'(mul\\((\\d+),(\\d+)\\))', '\\n'.join(lines))\n",
    "\n",
    "result = 0\n",
    "for expr, a, b in groups:\n",
    "    # print(expr, a, b)\n",
    "    if len(a) > 3 or len(b) > 3:\n",
    "        print('skip')\n",
    "        continue\n",
    "    result += int(a) * int(b)\n",
    "\n",
    "result"
   ]
  },
  {
   "cell_type": "code",
   "execution_count": 17,
   "metadata": {},
   "outputs": [
    {
     "data": {
      "text/plain": [
       "\"That's the right answer!  You are one gold star closer to finding the Chief Historian. [Continue to Part Two] (solved in 05:45)\""
      ]
     },
     "execution_count": 17,
     "metadata": {},
     "output_type": "execute_result"
    }
   ],
   "source": [
    "send_result(DAY, 1, result)"
   ]
  },
  {
   "cell_type": "code",
   "execution_count": 18,
   "metadata": {},
   "outputs": [
    {
     "data": {
      "text/markdown": [
       "<article class=\"day-desc\"><h2 id=\"part2\">--- Part Two ---</h2><p>As you scan through the corrupted memory, you notice that some of the conditional statements are also still intact. If you handle some of the uncorrupted conditional statements in the program, you might be able to get an even more accurate result.</p>\n",
       "<p>There are two new instructions you'll need to handle:</p>\n",
       "<ul>\n",
       "<li>The <code>do()</code> instruction <em>enables</em> future <code>mul</code> instructions.</li>\n",
       "<li>The <code>don't()</code> instruction <em>disables</em> future <code>mul</code> instructions.</li>\n",
       "</ul>\n",
       "<p>Only the <em>most recent</em> <code>do()</code> or <code>don't()</code> instruction applies. At the beginning of the program, <code>mul</code> instructions are <em>enabled</em>.</p>\n",
       "<p>For example:</p>\n",
       "<pre><code>x<em>mul(2,4)</em>&amp;mul[3,7]!^<em>don't()</em>_mul(5,5)+mul(32,64](mul(11,8)un<em>do()</em>?<em>mul(8,5)</em>)</code></pre>\n",
       "<p>This corrupted memory is similar to the example from before, but this time the <code>mul(5,5)</code> and <code>mul(11,8)</code> instructions are <em>disabled</em> because there is a <code>don't()</code> instruction before them. The other <code>mul</code> instructions function normally, including the one at the end that gets re-<em>enabled</em> by a <code>do()</code> instruction.</p>\n",
       "<p>This time, the sum of the results is <code><em>48</em></code> (<code>2*4 + 8*5</code>).</p>\n",
       "<p>Handle the new instructions; <em>what do you get if you add up all of the results of just the enabled multiplications?</em></p>\n",
       "</article>"
      ],
      "text/plain": [
       "<IPython.core.display.Markdown object>"
      ]
     },
     "metadata": {},
     "output_type": "display_data"
    }
   ],
   "source": [
    "show_task(DAY, 2)"
   ]
  },
  {
   "cell_type": "code",
   "execution_count": 24,
   "metadata": {},
   "outputs": [],
   "source": [
    "lines = [\"xmul(2,4)&mul[3,7]!^don't()_mul(5,5)+mul(32,64](mul(11,8)undo()?mul(8,5))\"]"
   ]
  },
  {
   "cell_type": "code",
   "execution_count": 43,
   "metadata": {},
   "outputs": [],
   "source": [
    "lines = get_input_lines(DAY)"
   ]
  },
  {
   "cell_type": "code",
   "execution_count": 44,
   "metadata": {},
   "outputs": [
    {
     "data": {
      "text/plain": [
       "63866497"
      ]
     },
     "execution_count": 44,
     "metadata": {},
     "output_type": "execute_result"
    }
   ],
   "source": [
    "import re\n",
    "\n",
    "muls = list(re.finditer(r'(mul)\\((\\d+),(\\d+)\\)', '\\n'.join(lines)))\n",
    "on = list(re.finditer(r'(do)\\(\\)', '\\n'.join(lines)))\n",
    "off = list(re.finditer(r\"(don)'t\\(\\)\", '\\n'.join(lines)))\n",
    "\n",
    "result = 0\n",
    "enabled = True\n",
    "for match in sorted(muls + on + off, key=lambda x: x.start()):\n",
    "    groups = match.groups()\n",
    "    command = groups[0]\n",
    "    if command == 'mul':\n",
    "        if enabled:\n",
    "            result += int(groups[1]) * int(groups[2])\n",
    "    elif command == 'do':\n",
    "        enabled = True\n",
    "    elif command == 'don':\n",
    "        enabled = False\n",
    "\n",
    "result"
   ]
  },
  {
   "cell_type": "code",
   "execution_count": 45,
   "metadata": {},
   "outputs": [
    {
     "data": {
      "text/plain": [
       "\"That's the right answer!  You are one gold star closer to finding the Chief Historian.You have completed Day 3! (solved in 12:15)\""
      ]
     },
     "execution_count": 45,
     "metadata": {},
     "output_type": "execute_result"
    }
   ],
   "source": [
    "send_result(DAY, 2, result)"
   ]
  },
  {
   "cell_type": "code",
   "execution_count": null,
   "metadata": {},
   "outputs": [],
   "source": []
  }
 ],
 "metadata": {
  "kernelspec": {
   "display_name": "aoc2023",
   "language": "python",
   "name": "python3"
  },
  "language_info": {
   "codemirror_mode": {
    "name": "ipython",
    "version": 3
   },
   "file_extension": ".py",
   "mimetype": "text/x-python",
   "name": "python",
   "nbconvert_exporter": "python",
   "pygments_lexer": "ipython3",
   "version": "3.12.4"
  },
  "orig_nbformat": 4
 },
 "nbformat": 4,
 "nbformat_minor": 2
}

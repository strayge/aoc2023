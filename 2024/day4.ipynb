{
 "cells": [
  {
   "cell_type": "code",
   "execution_count": 1,
   "metadata": {},
   "outputs": [],
   "source": [
    "from common import *\n",
    "from structures import *\n",
    "\n",
    "DAY = 4"
   ]
  },
  {
   "cell_type": "code",
   "execution_count": 2,
   "metadata": {},
   "outputs": [
    {
     "data": {
      "text/markdown": [
       "<article class=\"day-desc\"><h2>--- Day 4: Ceres Search ---</h2><p>\"Looks like the Chief's not here. Next!\" One of The Historians pulls out a device and pushes the only button on it. After a brief flash, you recognize the interior of the <a href=\"/2019/day/10\">Ceres monitoring station</a>!</p>\n",
       "<p>As the search for the Chief continues, a small Elf who lives on the station tugs on your shirt; she'd like to know if you could help her with her <em>word search</em> (your puzzle input). She only has to find one word: <code>XMAS</code>.</p>\n",
       "<p>This word search allows words to be horizontal, vertical, diagonal, written backwards, or even overlapping other words. It's a little unusual, though, as you don't merely need to find one instance of <code>XMAS</code> - you need to find <em>all of them</em>. Here are a few ways <code>XMAS</code> might appear, where irrelevant characters have been replaced with <code>.</code>:</p><p>\n",
       "</p><pre><code>..X...\n",
       ".SAMX.\n",
       ".A..A.\n",
       "XMAS.S\n",
       ".X....\n",
       "</code></pre>\n",
       "<p>The actual word search will be full of letters instead. For example:</p>\n",
       "<pre><code>MMMSXXMASM\n",
       "MSAMXMSMSA\n",
       "AMXSXMAAMM\n",
       "MSAMASMSMX\n",
       "XMASAMXAMM\n",
       "XXAMMXXAMA\n",
       "SMSMSASXSS\n",
       "SAXAMASAAA\n",
       "MAMMMXMMMM\n",
       "MXMXAXMASX\n",
       "</code></pre>\n",
       "<p>In this word search, <code>XMAS</code> occurs a total of <code><em>18</em></code> times; here's the same word search again, but where letters not involved in any <code>XMAS</code> have been replaced with <code>.</code>:</p>\n",
       "<pre><code>....XXMAS.\n",
       ".SAMXMS...\n",
       "...S..A...\n",
       "..A.A.MS.X\n",
       "XMASAMX.MM\n",
       "X.....XA.A\n",
       "S.S.S.S.SS\n",
       ".A.A.A.A.A\n",
       "..M.M.M.MM\n",
       ".X.X.XMASX\n",
       "</code></pre>\n",
       "<p>Take a look at the little Elf's word search. <em>How many times does <code>XMAS</code> appear?</em></p>\n",
       "</article>"
      ],
      "text/plain": [
       "<IPython.core.display.Markdown object>"
      ]
     },
     "metadata": {},
     "output_type": "display_data"
    }
   ],
   "source": [
    "show_task(DAY)"
   ]
  },
  {
   "cell_type": "code",
   "execution_count": 3,
   "metadata": {},
   "outputs": [],
   "source": [
    "lines = get_test_input_lines(DAY)"
   ]
  },
  {
   "cell_type": "code",
   "execution_count": 25,
   "metadata": {},
   "outputs": [],
   "source": [
    "lines = get_input_lines(DAY)"
   ]
  },
  {
   "cell_type": "code",
   "execution_count": 26,
   "metadata": {},
   "outputs": [],
   "source": [
    "width = len(lines[0])\n",
    "height = len(lines)\n",
    "\n",
    "horizontal = lines[:]\n",
    "\n",
    "vertical = []\n",
    "for x in range(width):\n",
    "    line = ''\n",
    "    for y in range(height):\n",
    "        line += lines[y][x]\n",
    "    vertical.append(line)\n",
    "\n",
    "diagonals = []\n",
    "\n",
    "# top left to bottom right\n",
    "for start_x in range(width):\n",
    "    line = ''\n",
    "    for x in range(start_x, width):\n",
    "        y = x - start_x\n",
    "        if y >= height:\n",
    "            break\n",
    "        line += lines[y][x]\n",
    "    diagonals.append(line)\n",
    "\n",
    "# top right to bottom left\n",
    "for start_x in range(width):\n",
    "    line = ''\n",
    "    for x in range(start_x, -1, -1):\n",
    "        y = start_x - x\n",
    "        if y >= height:\n",
    "            break\n",
    "        line += lines[y][x]\n",
    "    diagonals.append(line)\n",
    "\n",
    "# bottom left to top right\n",
    "for start_x in range(1, width):\n",
    "    line = ''\n",
    "    for x in range(start_x, width):\n",
    "        y = height - 1 - (x - start_x)\n",
    "        if y < 0:\n",
    "            break\n",
    "        line += lines[y][x]\n",
    "    diagonals.append(line)\n",
    "\n",
    "# bottom right to top left\n",
    "for start_x in range(width-1):\n",
    "    line = ''\n",
    "    for x in range(start_x, -1, -1):\n",
    "        y = height - 1 - (start_x - x)\n",
    "        if y < 0:\n",
    "            break\n",
    "        line += lines[y][x]\n",
    "    diagonals.append(line)\n",
    "\n",
    "# diagonals"
   ]
  },
  {
   "cell_type": "code",
   "execution_count": 27,
   "metadata": {},
   "outputs": [
    {
     "data": {
      "text/plain": [
       "2447"
      ]
     },
     "execution_count": 27,
     "metadata": {},
     "output_type": "execute_result"
    }
   ],
   "source": [
    "result = sum([line.count('XMAS') + line.count('SAMX') for line in horizontal + vertical + diagonals])\n",
    "result"
   ]
  },
  {
   "cell_type": "code",
   "execution_count": 28,
   "metadata": {},
   "outputs": [
    {
     "data": {
      "text/plain": [
       "\"That's the right answer!  You are one gold star closer to finding the Chief Historian. [Continue to Part Two] (solved in 28:07)\""
      ]
     },
     "execution_count": 28,
     "metadata": {},
     "output_type": "execute_result"
    }
   ],
   "source": [
    "send_result(DAY, 1, result)"
   ]
  },
  {
   "cell_type": "code",
   "execution_count": 3,
   "metadata": {},
   "outputs": [
    {
     "data": {
      "text/markdown": [
       "<article class=\"day-desc\"><h2 id=\"part2\">--- Part Two ---</h2><p>The Elf looks quizzically at you. Did you misunderstand the assignment?</p>\n",
       "<p>Looking for the instructions, you flip over the word search to find that this isn't actually an <code><em>XMAS</em></code> puzzle; it's an <span title=\"This part originally involved searching for something else, but this joke was too dumb to pass up.\"><code><em>X-MAS</em></code></span> puzzle in which you're supposed to find two <code>MAS</code> in the shape of an <code>X</code>. One way to achieve that is like this:</p>\n",
       "<pre><code>M.S\n",
       ".A.\n",
       "M.S\n",
       "</code></pre>\n",
       "<p>Irrelevant characters have again been replaced with <code>.</code> in the above diagram. Within the <code>X</code>, each <code>MAS</code> can be written forwards or backwards.</p>\n",
       "<p>Here's the same example from before, but this time all of the <code>X-MAS</code>es have been kept instead:</p>\n",
       "<pre><code>.M.S......\n",
       "..A..MSMS.\n",
       ".M.S.MAA..\n",
       "..A.ASMSM.\n",
       ".M.S.M....\n",
       "..........\n",
       "S.S.S.S.S.\n",
       ".A.A.A.A..\n",
       "M.M.M.M.M.\n",
       "..........\n",
       "</code></pre>\n",
       "<p>In this example, an <code>X-MAS</code> appears <code><em>9</em></code> times.</p>\n",
       "<p>Flip the word search from the instructions back over to the word search side and try again. <em>How many times does an <code>X-MAS</code> appear?</em></p>\n",
       "</article>"
      ],
      "text/plain": [
       "<IPython.core.display.Markdown object>"
      ]
     },
     "metadata": {},
     "output_type": "display_data"
    }
   ],
   "source": [
    "show_task(DAY, 2)"
   ]
  },
  {
   "cell_type": "code",
   "execution_count": 35,
   "metadata": {},
   "outputs": [],
   "source": [
    "lines = get_test_input_lines(DAY)"
   ]
  },
  {
   "cell_type": "code",
   "execution_count": 46,
   "metadata": {},
   "outputs": [],
   "source": [
    "lines = get_input_lines(DAY)"
   ]
  },
  {
   "cell_type": "code",
   "execution_count": 47,
   "metadata": {},
   "outputs": [],
   "source": [
    "map = Map.from_object(lines)\n",
    "# map.show()"
   ]
  },
  {
   "cell_type": "code",
   "execution_count": 50,
   "metadata": {},
   "outputs": [
    {
     "name": "stdout",
     "output_type": "stream",
     "text": [
      "double\n",
      "double\n",
      "double\n",
      "double\n"
     ]
    },
    {
     "data": {
      "text/plain": [
       "1890"
      ]
     },
     "execution_count": 50,
     "metadata": {},
     "output_type": "execute_result"
    }
   ],
   "source": [
    "positions = [\n",
    "    (-1, 0), (1, 0),\n",
    "    (0, -1), (0, 1),\n",
    "    (-1, -1), (1, 1),\n",
    "    (-1, 1), (1, -1),\n",
    "]\n",
    "\n",
    "result = 0\n",
    "for x in range(1, map.width - 1):\n",
    "    for y in range(1, map.height - 1):\n",
    "        if map[y][x] != 'A':\n",
    "            continue\n",
    "        pair_values: list[str] = []\n",
    "        values = [map[y + pos[1]][x + pos[0]] for pos in positions]\n",
    "        lines = [''.join(sorted([values[i], values[i+1]])) for i in range(0, 8, 2)]\n",
    "        if lines[0] == lines[1] == 'MS' or lines[2] == lines[3] == 'MS':\n",
    "            result += 1\n",
    "            # print(x, y, values, lines)\n",
    "        if lines[0] == lines[1] == 'MS' and lines[2] == lines[3] == 'MS':\n",
    "            print('double')\n",
    "result"
   ]
  },
  {
   "cell_type": "code",
   "execution_count": null,
   "metadata": {},
   "outputs": [
    {
     "data": {
      "text/plain": [
       "\"That's not the right answer; your answer is too high.  Curiously, it's the right answer for someone else; you might be logged in to the wrong account or just unlucky. In any case, you need to be using your puzzle input. (solved in 32:26)\""
      ]
     },
     "execution_count": 51,
     "metadata": {},
     "output_type": "execute_result"
    }
   ],
   "source": [
    "# 1890\n",
    "send_result(DAY, 2, result)"
   ]
  },
  {
   "cell_type": "code",
   "execution_count": null,
   "metadata": {},
   "outputs": [],
   "source": []
  }
 ],
 "metadata": {
  "kernelspec": {
   "display_name": "venv",
   "language": "python",
   "name": "python3"
  },
  "language_info": {
   "codemirror_mode": {
    "name": "ipython",
    "version": 3
   },
   "file_extension": ".py",
   "mimetype": "text/x-python",
   "name": "python",
   "nbconvert_exporter": "python",
   "pygments_lexer": "ipython3",
   "version": "3.11.10"
  },
  "orig_nbformat": 4
 },
 "nbformat": 4,
 "nbformat_minor": 2
}

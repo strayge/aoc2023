{
 "cells": [
  {
   "cell_type": "code",
   "execution_count": 1,
   "metadata": {},
   "outputs": [],
   "source": [
    "from common import *\n",
    "from structures import *\n",
    "\n",
    "DAY = 5"
   ]
  },
  {
   "cell_type": "code",
   "execution_count": 2,
   "metadata": {},
   "outputs": [
    {
     "data": {
      "text/markdown": [
       "<article class=\"day-desc\"><h2>--- Day 5: Print Queue ---</h2><p>Satisfied with their search on Ceres, the squadron of scholars suggests subsequently scanning the <span title=\"Specifically, the surely-stationary stationery stacks.\">stationery</span> stacks of sub-basement 17.</p>\n",
       "<p>The North Pole printing department is busier than ever this close to Christmas, and while The Historians continue their search of this historically significant facility, an Elf operating a <a href=\"/2017/day/1\">very familiar printer</a> beckons you over.</p>\n",
       "<p>The Elf must recognize you, because they waste no time explaining that the new <em>sleigh launch safety manual</em> updates won't print correctly. Failure to update the safety manuals would be dire indeed, so you offer your services.</p>\n",
       "<p>Safety protocols clearly indicate that new pages for the safety manuals must be printed in a <em>very specific order</em>. The notation <code>X|Y</code> means that if both page number <code>X</code> and page number <code>Y</code> are to be produced as part of an update, page number <code>X</code> <em>must</em> be printed at some point before page number <code>Y</code>.</p>\n",
       "<p>The Elf has for you both the <em>page ordering rules</em> and the <em>pages to produce in each update</em> (your puzzle input), but can't figure out whether each update has the pages in the right order.</p>\n",
       "<p>For example:</p>\n",
       "<pre><code>47|53\n",
       "97|13\n",
       "97|61\n",
       "97|47\n",
       "75|29\n",
       "61|13\n",
       "75|53\n",
       "29|13\n",
       "97|29\n",
       "53|29\n",
       "61|53\n",
       "97|53\n",
       "61|29\n",
       "47|13\n",
       "75|47\n",
       "97|75\n",
       "47|61\n",
       "75|61\n",
       "47|29\n",
       "75|13\n",
       "53|13\n",
       "\n",
       "75,47,61,53,29\n",
       "97,61,53,29,13\n",
       "75,29,13\n",
       "75,97,47,61,53\n",
       "61,13,29\n",
       "97,13,75,29,47\n",
       "</code></pre>\n",
       "<p>The first section specifies the <em>page ordering rules</em>, one per line. The first rule, <code>47|53</code>, means that if an update includes both page number 47 and page number 53, then page number 47 <em>must</em> be printed at some point before page number 53. (47 doesn't necessarily need to be <em>immediately</em> before 53; other pages are allowed to be between them.)</p>\n",
       "<p>The second section specifies the page numbers of each <em>update</em>. Because most safety manuals are different, the pages needed in the updates are different too. The first update, <code>75,47,61,53,29</code>, means that the update consists of page numbers 75, 47, 61, 53, and 29.</p>\n",
       "<p>To get the printers going as soon as possible, start by identifying <em>which updates are already in the right order</em>.</p>\n",
       "<p>In the above example, the first update (<code>75,47,61,53,29</code>) is in the right order:</p>\n",
       "<ul>\n",
       "<li><code>75</code> is correctly first because there are rules that put each other page after it: <code>75|47</code>, <code>75|61</code>, <code>75|53</code>, and <code>75|29</code>.</li>\n",
       "<li><code>47</code> is correctly second because 75 must be before it (<code>75|47</code>) and every other page must be after it according to <code>47|61</code>, <code>47|53</code>, and <code>47|29</code>.</li>\n",
       "<li><code>61</code> is correctly in the middle because 75 and 47 are before it (<code>75|61</code> and <code>47|61</code>) and 53 and 29 are after it (<code>61|53</code> and <code>61|29</code>).</li>\n",
       "<li><code>53</code> is correctly fourth because it is before page number 29 (<code>53|29</code>).</li>\n",
       "<li><code>29</code> is the only page left and so is correctly last.</li>\n",
       "</ul>\n",
       "<p>Because the first update does not include some page numbers, the ordering rules involving those missing page numbers are ignored.</p>\n",
       "<p>The second and third updates are also in the correct order according to the rules. Like the first update, they also do not include every page number, and so only some of the ordering rules apply - within each update, the ordering rules that involve missing page numbers are not used.</p>\n",
       "<p>The fourth update, <code>75,97,47,61,53</code>, is <em>not</em> in the correct order: it would print 75 before 97, which violates the rule <code>97|75</code>.</p>\n",
       "<p>The fifth update, <code>61,13,29</code>, is also <em>not</em> in the correct order, since it breaks the rule <code>29|13</code>.</p>\n",
       "<p>The last update, <code>97,13,75,29,47</code>, is <em>not</em> in the correct order due to breaking several rules.</p>\n",
       "<p>For some reason, the Elves also need to know the <em>middle page number</em> of each update being printed. Because you are currently only printing the correctly-ordered updates, you will need to find the middle page number of each correctly-ordered update. In the above example, the correctly-ordered updates are:</p>\n",
       "<pre><code>75,47,<em>61</em>,53,29\n",
       "97,61,<em>53</em>,29,13\n",
       "75,<em>29</em>,13\n",
       "</code></pre>\n",
       "<p>These have middle page numbers of <code>61</code>, <code>53</code>, and <code>29</code> respectively. Adding these page numbers together gives <code><em>143</em></code>.</p>\n",
       "<p>Of course, you'll need to be careful: the actual list of <em>page ordering rules</em> is bigger and more complicated than the above example.</p>\n",
       "<p>Determine which updates are already in the correct order. <em>What do you get if you add up the middle page number from those correctly-ordered updates?</em></p>\n",
       "</article>"
      ],
      "text/plain": [
       "<IPython.core.display.Markdown object>"
      ]
     },
     "metadata": {},
     "output_type": "display_data"
    }
   ],
   "source": [
    "show_task(DAY)"
   ]
  },
  {
   "cell_type": "code",
   "execution_count": 7,
   "metadata": {},
   "outputs": [],
   "source": [
    "lines = get_test_input_lines(DAY)"
   ]
  },
  {
   "cell_type": "code",
   "execution_count": 13,
   "metadata": {},
   "outputs": [],
   "source": [
    "lines = get_input_lines(DAY)"
   ]
  },
  {
   "cell_type": "code",
   "execution_count": 14,
   "metadata": {},
   "outputs": [],
   "source": [
    "from collections import defaultdict\n",
    "rules_after = defaultdict(list)\n",
    "rules_before = defaultdict(list)\n",
    "\n",
    "\n",
    "divider = lines.index('')\n",
    "for line in lines[:divider]:\n",
    "    parts = line.split('|')\n",
    "    num1, num2 = int(parts[0]), int(parts[1])\n",
    "    rules_before[num2].append(num1)\n",
    "    rules_after[num1].append(num2)\n",
    "\n",
    "rule_lines = []\n",
    "for line in lines[divider+1:]:\n",
    "    nums = []\n",
    "    for part in line.split(','):\n",
    "        nums.append(int(part))\n",
    "    rule_lines.append(nums)\n",
    "\n",
    "# print(rules_before)\n",
    "# print(rules_after)\n",
    "# print(rule_lines)"
   ]
  },
  {
   "cell_type": "code",
   "execution_count": 16,
   "metadata": {},
   "outputs": [
    {
     "name": "stdout",
     "output_type": "stream",
     "text": [
      "6260\n"
     ]
    }
   ],
   "source": [
    "correct_rules = []\n",
    "for rule_line in rule_lines:\n",
    "    ok = True\n",
    "    for i in range(len(rule_line)):\n",
    "        num = rule_line[i]\n",
    "        before = rule_line[:i]\n",
    "        after = rule_line[i+1:]\n",
    "        for b in before:\n",
    "            if b in rules_after[num]:\n",
    "                ok = False\n",
    "                break\n",
    "        for a in after:\n",
    "            if a in rules_before[num]:\n",
    "                ok = False\n",
    "                break\n",
    "        if not ok:\n",
    "            break\n",
    "    if ok:\n",
    "        # print(rule_line)\n",
    "        correct_rules.append(rule_line)\n",
    "\n",
    "    result = 0\n",
    "    for rule in correct_rules:\n",
    "        result += rule[len(rule) // 2]\n",
    "\n",
    "print(result)"
   ]
  },
  {
   "cell_type": "code",
   "execution_count": 17,
   "metadata": {},
   "outputs": [
    {
     "data": {
      "text/plain": [
       "\"That's the right answer!  You are one gold star closer to finding the Chief Historian. [Continue to Part Two] (solved in 16:22)\""
      ]
     },
     "execution_count": 17,
     "metadata": {},
     "output_type": "execute_result"
    }
   ],
   "source": [
    "send_result(DAY, 1, result)"
   ]
  },
  {
   "cell_type": "code",
   "execution_count": 18,
   "metadata": {},
   "outputs": [
    {
     "data": {
      "text/markdown": [
       "<article class=\"day-desc\"><h2 id=\"part2\">--- Part Two ---</h2><p>While the Elves get to work printing the correctly-ordered updates, you have a little time to fix the rest of them.</p>\n",
       "<p>For each of the <em>incorrectly-ordered updates</em>, use the page ordering rules to put the page numbers in the right order. For the above example, here are the three incorrectly-ordered updates and their correct orderings:</p>\n",
       "<ul>\n",
       "<li><code>75,97,47,61,53</code> becomes <code>97,75,<em>47</em>,61,53</code>.</li>\n",
       "<li><code>61,13,29</code> becomes <code>61,<em>29</em>,13</code>.</li>\n",
       "<li><code>97,13,75,29,47</code> becomes <code>97,75,<em>47</em>,29,13</code>.</li>\n",
       "</ul>\n",
       "<p>After taking <em>only the incorrectly-ordered updates</em> and ordering them correctly, their middle page numbers are <code>47</code>, <code>29</code>, and <code>47</code>. Adding these together produces <code><em>123</em></code>.</p>\n",
       "<p>Find the updates which are not in the correct order. <em>What do you get if you add up the middle page numbers after correctly ordering just those updates?</em></p>\n",
       "</article>"
      ],
      "text/plain": [
       "<IPython.core.display.Markdown object>"
      ]
     },
     "metadata": {},
     "output_type": "display_data"
    }
   ],
   "source": [
    "show_task(DAY, 2)"
   ]
  },
  {
   "cell_type": "code",
   "execution_count": 20,
   "metadata": {},
   "outputs": [],
   "source": [
    "lines = get_test_input_lines(DAY)"
   ]
  },
  {
   "cell_type": "code",
   "execution_count": 27,
   "metadata": {},
   "outputs": [],
   "source": [
    "lines = get_input_lines(DAY)"
   ]
  },
  {
   "cell_type": "code",
   "execution_count": 28,
   "metadata": {},
   "outputs": [],
   "source": [
    "from collections import defaultdict\n",
    "rules_after = defaultdict(list)\n",
    "rules_before = defaultdict(list)\n",
    "\n",
    "\n",
    "divider = lines.index('')\n",
    "for line in lines[:divider]:\n",
    "    parts = line.split('|')\n",
    "    num1, num2 = int(parts[0]), int(parts[1])\n",
    "    rules_before[num2].append(num1)\n",
    "    rules_after[num1].append(num2)\n",
    "\n",
    "rule_lines = []\n",
    "for line in lines[divider+1:]:\n",
    "    nums = []\n",
    "    for part in line.split(','):\n",
    "        nums.append(int(part))\n",
    "    rule_lines.append(nums)\n",
    "\n",
    "# print(rules_after)\n",
    "# print(rules_before)"
   ]
  },
  {
   "cell_type": "code",
   "execution_count": 29,
   "metadata": {},
   "outputs": [
    {
     "name": "stdout",
     "output_type": "stream",
     "text": [
      "5346\n"
     ]
    }
   ],
   "source": [
    "from functools import cmp_to_key\n",
    "\n",
    "\n",
    "def compare(a, b):\n",
    "    if a in rules_after[b] or b in rules_before[a]:\n",
    "        # a > b\n",
    "        return 1\n",
    "    if a in rules_before[b] or b in rules_after[a]:\n",
    "        # a < b\n",
    "        return -1\n",
    "    return 0\n",
    "\n",
    "result = 0\n",
    "for line in rule_lines:\n",
    "    new_line = sorted(line, key=cmp_to_key(compare))\n",
    "    # print(line, new_line, line == new_line)\n",
    "    if line == new_line:\n",
    "        # skip correct lines\n",
    "        continue\n",
    "    mid_value = new_line[len(new_line) // 2]\n",
    "    result += mid_value\n",
    "\n",
    "print(result)"
   ]
  },
  {
   "cell_type": "code",
   "execution_count": 30,
   "metadata": {},
   "outputs": [
    {
     "data": {
      "text/plain": [
       "\"That's the right answer!  You are one gold star closer to finding the Chief Historian.You have completed Day 5! (solved in 191:42)\""
      ]
     },
     "execution_count": 30,
     "metadata": {},
     "output_type": "execute_result"
    }
   ],
   "source": [
    "send_result(DAY, 2, result)"
   ]
  },
  {
   "cell_type": "code",
   "execution_count": null,
   "metadata": {},
   "outputs": [],
   "source": []
  }
 ],
 "metadata": {
  "kernelspec": {
   "display_name": "venv",
   "language": "python",
   "name": "python3"
  },
  "language_info": {
   "codemirror_mode": {
    "name": "ipython",
    "version": 3
   },
   "file_extension": ".py",
   "mimetype": "text/x-python",
   "name": "python",
   "nbconvert_exporter": "python",
   "pygments_lexer": "ipython3",
   "version": "3.11.10"
  },
  "orig_nbformat": 4
 },
 "nbformat": 4,
 "nbformat_minor": 2
}

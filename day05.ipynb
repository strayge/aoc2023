{
 "cells": [
  {
   "cell_type": "code",
   "execution_count": 1,
   "metadata": {},
   "outputs": [],
   "source": [
    "from common import *\n",
    "\n",
    "DAY = 5"
   ]
  },
  {
   "cell_type": "code",
   "execution_count": 2,
   "metadata": {},
   "outputs": [
    {
     "data": {
      "text/markdown": [
       "<article class=\"day-desc\"><h2>--- Day 5: If You Give A Seed A Fertilizer ---</h2><p>You take the boat and find the gardener right where you were told he would be: managing a giant \"garden\" that looks more to you like a farm.</p>\n",
       "<p>\"A water source? Island Island <em>is</em> the water source!\" You point out that Snow Island isn't receiving any water.</p>\n",
       "<p>\"Oh, we had to stop the water because we <em>ran out of sand</em> to <a href=\"https://en.wikipedia.org/wiki/Sand_filter\" target=\"_blank\">filter</a> it with! Can't make snow with dirty water. Don't worry, I'm sure we'll get more sand soon; we only turned off the water a few days... weeks... oh no.\" His face sinks into a look of horrified realization.</p>\n",
       "<p>\"I've been so busy making sure everyone here has food that I completely forgot to check why we stopped getting more sand! There's a ferry leaving soon that is headed over in that direction - it's much faster than your boat. Could you please go check it out?\"</p>\n",
       "<p>You barely have time to agree to this request when he brings up another. \"While you wait for the ferry, maybe you can help us with our <em>food production problem</em>. The latest Island Island <a href=\"https://en.wikipedia.org/wiki/Almanac\" target=\"_blank\">Almanac</a> just arrived and we're having trouble making sense of it.\"</p>\n",
       "<p>The almanac (your puzzle input) lists all of the seeds that need to be planted. It also lists what type of soil to use with each kind of seed, what type of fertilizer to use with each kind of soil, what type of water to use with each kind of fertilizer, and so on. Every type of seed, soil, fertilizer and so on is identified with a number, but numbers are reused by each category - that is, soil <code>123</code> and fertilizer <code>123</code> aren't necessarily related to each other.</p>\n",
       "<p>For example:</p>\n",
       "<pre><code>seeds: 79 14 55 13\n",
       "\n",
       "seed-to-soil map:\n",
       "50 98 2\n",
       "52 50 48\n",
       "\n",
       "soil-to-fertilizer map:\n",
       "0 15 37\n",
       "37 52 2\n",
       "39 0 15\n",
       "\n",
       "fertilizer-to-water map:\n",
       "49 53 8\n",
       "0 11 42\n",
       "42 0 7\n",
       "57 7 4\n",
       "\n",
       "water-to-light map:\n",
       "88 18 7\n",
       "18 25 70\n",
       "\n",
       "light-to-temperature map:\n",
       "45 77 23\n",
       "81 45 19\n",
       "68 64 13\n",
       "\n",
       "temperature-to-humidity map:\n",
       "0 69 1\n",
       "1 0 69\n",
       "\n",
       "humidity-to-location map:\n",
       "60 56 37\n",
       "56 93 4\n",
       "</code></pre>\n",
       "<p>The almanac starts by listing which seeds need to be planted: seeds <code>79</code>, <code>14</code>, <code>55</code>, and <code>13</code>.</p>\n",
       "<p>The rest of the almanac contains a list of <em>maps</em> which describe how to convert numbers from a <em>source category</em> into numbers in a <em>destination category</em>. That is, the section that starts with <code>seed-to-soil map:</code> describes how to convert a <em>seed number</em> (the source) to a <em>soil number</em> (the destination). This lets the gardener and his team know which soil to use with which seeds, which water to use with which fertilizer, and so on.</p>\n",
       "<p>Rather than list every source number and its corresponding destination number one by one, the maps describe entire <em>ranges</em> of numbers that can be converted. Each line within a map contains <span title=\"Don't blame me for the weird order. Blame LXC container.conf UID mappings.\">three numbers</span>: the <em>destination range start</em>, the <em>source range start</em>, and the <em>range length</em>.</p>\n",
       "<p>Consider again the example <code>seed-to-soil map</code>:</p>\n",
       "<pre><code>50 98 2\n",
       "52 50 48\n",
       "</code></pre>\n",
       "<p>The first line has a <em>destination range start</em> of <code>50</code>, a <em>source range start</em> of <code>98</code>, and a <em>range length</em> of <code>2</code>. This line means that the source range starts at <code>98</code> and contains two values: <code>98</code> and <code>99</code>. The destination range is the same length, but it starts at <code>50</code>, so its two values are <code>50</code> and <code>51</code>. With this information, you know that seed number <code>98</code> corresponds to soil number <code>50</code> and that seed number <code>99</code> corresponds to soil number <code>51</code>.</p>\n",
       "<p>The second line means that the source range starts at <code>50</code> and contains <code>48</code> values: <code>50</code>, <code>51</code>, ..., <code>96</code>, <code>97</code>. This corresponds to a destination range starting at <code>52</code> and also containing <code>48</code> values: <code>52</code>, <code>53</code>, ..., <code>98</code>, <code>99</code>. So, seed number <code>53</code> corresponds to soil number <code>55</code>.</p>\n",
       "<p>Any source numbers that <em>aren't mapped</em> correspond to the <em>same</em> destination number. So, seed number <code>10</code> corresponds to soil number <code>10</code>.</p>\n",
       "<p>So, the entire list of seed numbers and their corresponding soil numbers looks like this:</p>\n",
       "<pre><code>seed  soil\n",
       "0     0\n",
       "1     1\n",
       "...   ...\n",
       "48    48\n",
       "49    49\n",
       "50    52\n",
       "51    53\n",
       "...   ...\n",
       "96    98\n",
       "97    99\n",
       "98    50\n",
       "99    51\n",
       "</code></pre>\n",
       "<p>With this map, you can look up the soil number required for each initial seed number:</p>\n",
       "<ul>\n",
       "<li>Seed number <code>79</code> corresponds to soil number <code>81</code>.</li>\n",
       "<li>Seed number <code>14</code> corresponds to soil number <code>14</code>.</li>\n",
       "<li>Seed number <code>55</code> corresponds to soil number <code>57</code>.</li>\n",
       "<li>Seed number <code>13</code> corresponds to soil number <code>13</code>.</li>\n",
       "</ul>\n",
       "<p>The gardener and his team want to get started as soon as possible, so they'd like to know the closest location that needs a seed. Using these maps, find <em>the lowest location number that corresponds to any of the initial seeds</em>. To do this, you'll need to convert each seed number through other categories until you can find its corresponding <em>location number</em>. In this example, the corresponding types are:</p>\n",
       "<ul>\n",
       "<li>Seed <code>79</code>, soil <code>81</code>, fertilizer <code>81</code>, water <code>81</code>, light <code>74</code>, temperature <code>78</code>, humidity <code>78</code>, <em>location <code>82</code></em>.</li>\n",
       "<li>Seed <code>14</code>, soil <code>14</code>, fertilizer <code>53</code>, water <code>49</code>, light <code>42</code>, temperature <code>42</code>, humidity <code>43</code>, <em>location <code>43</code></em>.</li>\n",
       "<li>Seed <code>55</code>, soil <code>57</code>, fertilizer <code>57</code>, water <code>53</code>, light <code>46</code>, temperature <code>82</code>, humidity <code>82</code>, <em>location <code>86</code></em>.</li>\n",
       "<li>Seed <code>13</code>, soil <code>13</code>, fertilizer <code>52</code>, water <code>41</code>, light <code>34</code>, temperature <code>34</code>, humidity <code>35</code>, <em>location <code>35</code></em>.</li>\n",
       "</ul>\n",
       "<p>So, the lowest location number in this example is <code><em>35</em></code>.</p>\n",
       "<p><em>What is the lowest location number that corresponds to any of the initial seed numbers?</em></p>\n",
       "</article>"
      ],
      "text/plain": [
       "<IPython.core.display.Markdown object>"
      ]
     },
     "metadata": {},
     "output_type": "display_data"
    }
   ],
   "source": [
    "show_task(DAY)"
   ]
  },
  {
   "cell_type": "code",
   "execution_count": 137,
   "metadata": {},
   "outputs": [],
   "source": [
    "lines = get_test_input_lines(DAY)"
   ]
  },
  {
   "cell_type": "code",
   "execution_count": 5,
   "metadata": {},
   "outputs": [],
   "source": [
    "lines = get_input_lines(DAY)"
   ]
  },
  {
   "cell_type": "code",
   "execution_count": 6,
   "metadata": {},
   "outputs": [],
   "source": [
    "import re\n",
    "\n",
    "options = {}\n",
    "\n",
    "seeds = [int(x) for x in lines[0].split(': ')[1].split(' ')]\n",
    "src_name, dst_name = None, None\n",
    "for line in lines[2:]:\n",
    "    if not line:\n",
    "        continue\n",
    "    if '-to-' in line:\n",
    "        src_name, dst_name = re.match(r'(\\w+)-to-(\\w+) map:', line).groups()\n",
    "        continue\n",
    "    numbers = [int(x) for x in line.split(' ')]\n",
    "    dst_start, src_start, range_len = numbers\n",
    "    key = (src_name, dst_name)\n",
    "    if key not in options:\n",
    "        options[key] = []\n",
    "    options[(src_name, dst_name)].append((dst_start, src_start, range_len))"
   ]
  },
  {
   "cell_type": "code",
   "execution_count": 149,
   "metadata": {},
   "outputs": [],
   "source": [
    "def get_option(src_name, dst_name, src_value):\n",
    "    key = (src_name, dst_name)\n",
    "    tuples = options[key]\n",
    "    for dst_start, src_start, range_len in tuples:\n",
    "        if src_value >= src_start and src_value < src_start + range_len:\n",
    "            delta = dst_start - src_start\n",
    "            return src_value + delta\n",
    "    return src_value\n",
    "\n",
    "seed_info = {}\n",
    "for seed in seeds:\n",
    "    new = False\n",
    "    seed_info[seed] = {}\n",
    "    seed_info[seed]['seed'] = seed\n",
    "    while True:\n",
    "        new = False\n",
    "        for key in options.keys():\n",
    "            src_name, dst_name = key\n",
    "            if dst_name in seed_info[seed]:\n",
    "                continue\n",
    "            if src_name in seed_info[seed]:\n",
    "                src_value = seed_info[seed][src_name]\n",
    "                seed_info[seed][dst_name] = get_option(src_name, dst_name, src_value)\n",
    "                new = True\n",
    "        if not new:\n",
    "            break\n",
    "\n",
    "# seed_info"
   ]
  },
  {
   "cell_type": "code",
   "execution_count": 83,
   "metadata": {},
   "outputs": [
    {
     "data": {
      "text/plain": [
       "199602917"
      ]
     },
     "execution_count": 83,
     "metadata": {},
     "output_type": "execute_result"
    }
   ],
   "source": [
    "locations = [seed_info[seed]['location'] for seed in seed_info.keys()]\n",
    "result = min(locations)\n",
    "result"
   ]
  },
  {
   "cell_type": "code",
   "execution_count": 60,
   "metadata": {},
   "outputs": [
    {
     "data": {
      "text/plain": [
       "\"That's the right answer!  You are one gold star closer to restoring snow operations. [Continue to Part Two] (solved in 44:57)\""
      ]
     },
     "execution_count": 60,
     "metadata": {},
     "output_type": "execute_result"
    }
   ],
   "source": [
    "send_result(DAY, 1, result)"
   ]
  },
  {
   "cell_type": "code",
   "execution_count": 2,
   "metadata": {},
   "outputs": [
    {
     "data": {
      "text/markdown": [
       "<article class=\"day-desc\"><h2 id=\"part2\">--- Part Two ---</h2><p>Everyone will starve if you only plant such a small number of seeds. Re-reading the almanac, it looks like the <code>seeds:</code> line actually describes <em>ranges of seed numbers</em>.</p>\n",
       "<p>The values on the initial <code>seeds:</code> line come in pairs. Within each pair, the first value is the <em>start</em> of the range and the second value is the <em>length</em> of the range. So, in the first line of the example above:</p>\n",
       "<pre><code>seeds: 79 14 55 13</code></pre>\n",
       "<p>This line describes two ranges of seed numbers to be planted in the garden. The first range starts with seed number <code>79</code> and contains <code>14</code> values: <code>79</code>, <code>80</code>, ..., <code>91</code>, <code>92</code>. The second range starts with seed number <code>55</code> and contains <code>13</code> values: <code>55</code>, <code>56</code>, ..., <code>66</code>, <code>67</code>.</p>\n",
       "<p>Now, rather than considering four seed numbers, you need to consider a total of <em>27</em> seed numbers.</p>\n",
       "<p>In the above example, the lowest location number can be obtained from seed number <code>82</code>, which corresponds to soil <code>84</code>, fertilizer <code>84</code>, water <code>84</code>, light <code>77</code>, temperature <code>45</code>, humidity <code>46</code>, and <em>location <code>46</code></em>. So, the lowest location number is <code><em>46</em></code>.</p>\n",
       "<p>Consider all of the initial seed numbers listed in the ranges on the first line of the almanac. <em>What is the lowest location number that corresponds to any of the initial seed numbers?</em></p>\n",
       "</article>"
      ],
      "text/plain": [
       "<IPython.core.display.Markdown object>"
      ]
     },
     "metadata": {},
     "output_type": "display_data"
    }
   ],
   "source": [
    "show_task(DAY, 2)"
   ]
  },
  {
   "cell_type": "code",
   "execution_count": 10,
   "metadata": {},
   "outputs": [
    {
     "data": {
      "text/plain": [
       "450389876"
      ]
     },
     "execution_count": 10,
     "metadata": {},
     "output_type": "execute_result"
    }
   ],
   "source": [
    "def get_option(src_name, dst_name, src_value):\n",
    "    key = (src_name, dst_name)\n",
    "    tuples = options[key]\n",
    "    for dst_start, src_start, range_len in tuples:\n",
    "        if src_value >= src_start and src_value < src_start + range_len:\n",
    "            delta = dst_start - src_start\n",
    "            return src_value + delta\n",
    "    return src_value\n",
    "\n",
    "def calculate_seed(seed):\n",
    "    seed_info = {}\n",
    "    seed_info['seed'] = seed\n",
    "    new = False\n",
    "    while True:\n",
    "        new = False\n",
    "        for key in options.keys():\n",
    "            src_name, dst_name = key\n",
    "            if dst_name in seed_info:\n",
    "                continue\n",
    "            if src_name in seed_info:\n",
    "                src_value = seed_info[src_name]\n",
    "                seed_info[dst_name] = get_option(src_name, dst_name, src_value)\n",
    "                new = True\n",
    "        if not new:\n",
    "            break\n",
    "    return seed_info['location']\n",
    "\n",
    "calculate_seed(3495540274)"
   ]
  },
  {
   "cell_type": "code",
   "execution_count": 16,
   "metadata": {},
   "outputs": [],
   "source": [
    "some_seeds = set()\n",
    "for i in range(0, len(seeds), 2):\n",
    "    start = seeds[i]\n",
    "    end = start + seeds[i + 1]\n",
    "    some_seeds.add(start)\n",
    "    some_seeds.add(end)\n",
    "    for j in range(start, end, 10000):\n",
    "        some_seeds.add(j)\n",
    "\n",
    "some_dists = []\n",
    "for seed in some_seeds:\n",
    "    res = calculate_seed(seed)\n",
    "    some_dists.append((seed, res))\n"
   ]
  },
  {
   "cell_type": "code",
   "execution_count": 18,
   "metadata": {},
   "outputs": [],
   "source": [
    "some_dists.sort(key=lambda x: x[1])\n",
    "some_min_seed = some_dists[0][0]"
   ]
  },
  {
   "cell_type": "code",
   "execution_count": 19,
   "metadata": {},
   "outputs": [
    {
     "name": "stdout",
     "output_type": "stream",
     "text": [
      "2406693241 2254686\n"
     ]
    }
   ],
   "source": [
    "def is_valid_seed(some_seed):\n",
    "    for i in range(0, len(seeds), 2):\n",
    "        start = seeds[i]\n",
    "        end = start + seeds[i + 1]\n",
    "        if some_seed >= start and some_seed <= end:\n",
    "            return True\n",
    "    return False\n",
    "\n",
    "seed = 0\n",
    "value = float('inf')\n",
    "for i in range(some_min_seed - 10000, some_min_seed + 10000):\n",
    "    new_value = calculate_seed(i)\n",
    "    if new_value < value:\n",
    "        value = new_value\n",
    "        seed = i\n",
    "\n",
    "print(seed, value)"
   ]
  },
  {
   "cell_type": "code",
   "execution_count": 20,
   "metadata": {},
   "outputs": [
    {
     "data": {
      "text/plain": [
       "\"That's the right answer!  You are one gold star closer to restoring snow operations.You have completed Day 5! (solved in 21:23)\""
      ]
     },
     "execution_count": 20,
     "metadata": {},
     "output_type": "execute_result"
    }
   ],
   "source": [
    "send_result(DAY, 2, value)"
   ]
  }
 ],
 "metadata": {
  "kernelspec": {
   "display_name": "venv",
   "language": "python",
   "name": "python3"
  },
  "language_info": {
   "codemirror_mode": {
    "name": "ipython",
    "version": 3
   },
   "file_extension": ".py",
   "mimetype": "text/x-python",
   "name": "python",
   "nbconvert_exporter": "python",
   "pygments_lexer": "ipython3",
   "version": "3.11.6"
  },
  "orig_nbformat": 4
 },
 "nbformat": 4,
 "nbformat_minor": 2
}

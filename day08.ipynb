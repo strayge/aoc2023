{
 "cells": [
  {
   "cell_type": "code",
   "execution_count": 1,
   "metadata": {},
   "outputs": [],
   "source": [
    "from common import *\n",
    "\n",
    "DAY = 8"
   ]
  },
  {
   "cell_type": "code",
   "execution_count": 2,
   "metadata": {},
   "outputs": [
    {
     "data": {
      "text/markdown": [
       "<article class=\"day-desc\"><h2>--- Day 8: Haunted Wasteland ---</h2><p>You're still riding a camel across Desert Island when you spot a sandstorm quickly approaching. When you turn to warn the Elf, she disappears before your eyes! To be fair, she had just finished warning you about <em>ghosts</em> a few minutes ago.</p>\n",
       "<p>One of the camel's pouches is labeled \"maps\" - sure enough, it's full of documents (your puzzle input) about how to navigate the desert. At least, you're pretty sure that's what they are; one of the documents contains a list of left/right instructions, and the rest of the documents seem to describe some kind of <em>network</em> of labeled nodes.</p>\n",
       "<p>It seems like you're meant to use the <em>left/right</em> instructions to <em>navigate the network</em>. Perhaps if you have the camel follow the same instructions, you can escape the haunted wasteland!</p>\n",
       "<p>After examining the maps for a bit, two nodes stick out: <code>AAA</code> and <code>ZZZ</code>. You feel like <code>AAA</code> is where you are now, and you have to follow the left/right instructions until you reach <code>ZZZ</code>.</p>\n",
       "<p>This format defines each <em>node</em> of the network individually. For example:</p>\n",
       "<pre><code>RL\n",
       "\n",
       "AAA = (BBB, CCC)\n",
       "BBB = (DDD, EEE)\n",
       "CCC = (ZZZ, GGG)\n",
       "DDD = (DDD, DDD)\n",
       "EEE = (EEE, EEE)\n",
       "GGG = (GGG, GGG)\n",
       "ZZZ = (ZZZ, ZZZ)\n",
       "</code></pre>\n",
       "<p>Starting with <code>AAA</code>, you need to <em>look up the next element</em> based on the next left/right instruction in your input. In this example, start with <code>AAA</code> and go <em>right</em> (<code>R</code>) by choosing the right element of <code>AAA</code>, <code><em>CCC</em></code>. Then, <code>L</code> means to choose the <em>left</em> element of <code>CCC</code>, <code><em>ZZZ</em></code>. By following the left/right instructions, you reach <code>ZZZ</code> in <code><em>2</em></code> steps.</p>\n",
       "<p>Of course, you might not find <code>ZZZ</code> right away. If you run out of left/right instructions, repeat the whole sequence of instructions as necessary: <code>RL</code> really means <code>RLRLRLRLRLRLRLRL...</code> and so on. For example, here is a situation that takes <code><em>6</em></code> steps to reach <code>ZZZ</code>:</p>\n",
       "<pre><code>LLR\n",
       "\n",
       "AAA = (BBB, BBB)\n",
       "BBB = (AAA, ZZZ)\n",
       "ZZZ = (ZZZ, ZZZ)\n",
       "</code></pre>\n",
       "<p>Starting at <code>AAA</code>, follow the left/right instructions. <em>How many steps are required to reach <code>ZZZ</code>?</em></p>\n",
       "</article>"
      ],
      "text/plain": [
       "<IPython.core.display.Markdown object>"
      ]
     },
     "metadata": {},
     "output_type": "display_data"
    }
   ],
   "source": [
    "show_task(DAY)"
   ]
  },
  {
   "cell_type": "code",
   "execution_count": 26,
   "metadata": {},
   "outputs": [],
   "source": [
    "lines = get_test_input_lines(DAY)"
   ]
  },
  {
   "cell_type": "code",
   "execution_count": 29,
   "metadata": {},
   "outputs": [],
   "source": [
    "lines = get_input_lines(DAY)"
   ]
  },
  {
   "cell_type": "code",
   "execution_count": 30,
   "metadata": {},
   "outputs": [],
   "source": [
    "steps = lines[0]\n",
    "maps = {}\n",
    "for line in lines[2:]:\n",
    "    # print(line)\n",
    "    line = line.replace('= (', '').replace(',', '').replace(')', '')\n",
    "    start, left, right = line.split()\n",
    "    maps[start] = (left, right)"
   ]
  },
  {
   "cell_type": "code",
   "execution_count": 31,
   "metadata": {},
   "outputs": [
    {
     "name": "stdout",
     "output_type": "stream",
     "text": [
      "12737\n"
     ]
    }
   ],
   "source": [
    "counter = 0\n",
    "place = 'AAA'\n",
    "goal = 'ZZZ'\n",
    "while True:\n",
    "    step = steps[counter % len(steps)]\n",
    "    counter += 1\n",
    "    place = maps[place][0] if step == 'L' else maps[place][1]\n",
    "    if place == goal:\n",
    "        break\n",
    "print(counter)"
   ]
  },
  {
   "cell_type": "code",
   "execution_count": 32,
   "metadata": {},
   "outputs": [
    {
     "data": {
      "text/plain": [
       "\"That's the right answer!  You are one gold star closer to restoring snow operations. [Continue to Part Two] (solved in 09:28)\""
      ]
     },
     "execution_count": 32,
     "metadata": {},
     "output_type": "execute_result"
    }
   ],
   "source": [
    "send_result(DAY, 1, counter)"
   ]
  },
  {
   "cell_type": "code",
   "execution_count": 33,
   "metadata": {},
   "outputs": [
    {
     "data": {
      "text/markdown": [
       "<article class=\"day-desc\"><h2 id=\"part2\">--- Part Two ---</h2><p>The <span title=\"Duhduhduhduhduh! Dah, duhduhduhduhduh!\">sandstorm</span> is upon you and you aren't any closer to escaping the wasteland. You had the camel follow the instructions, but you've barely left your starting position. It's going to take <em>significantly more steps</em> to escape!</p>\n",
       "<p>What if the map isn't for people - what if the map is for <em>ghosts</em>? Are ghosts even bound by the laws of spacetime? Only one way to find out.</p>\n",
       "<p>After examining the maps a bit longer, your attention is drawn to a curious fact: the number of nodes with names ending in <code>A</code> is equal to the number ending in <code>Z</code>! If you were a ghost, you'd probably just <em>start at every node that ends with <code>A</code></em> and follow all of the paths at the same time until they all simultaneously end up at nodes that end with <code>Z</code>.</p>\n",
       "<p>For example:</p>\n",
       "<pre><code>LR\n",
       "\n",
       "11A = (11B, XXX)\n",
       "11B = (XXX, 11Z)\n",
       "11Z = (11B, XXX)\n",
       "22A = (22B, XXX)\n",
       "22B = (22C, 22C)\n",
       "22C = (22Z, 22Z)\n",
       "22Z = (22B, 22B)\n",
       "XXX = (XXX, XXX)\n",
       "</code></pre>\n",
       "<p>Here, there are two starting nodes, <code>11A</code> and <code>22A</code> (because they both end with <code>A</code>). As you follow each left/right instruction, use that instruction to <em>simultaneously</em> navigate away from both nodes you're currently on. Repeat this process until <em>all</em> of the nodes you're currently on end with <code>Z</code>. (If only some of the nodes you're on end with <code>Z</code>, they act like any other node and you continue as normal.) In this example, you would proceed as follows:</p>\n",
       "<ul>\n",
       "<li>Step 0: You are at <code>11A</code> and <code>22A</code>.</li>\n",
       "<li>Step 1: You choose all of the <em>left</em> paths, leading you to <code>11B</code> and <code>22B</code>.</li>\n",
       "<li>Step 2: You choose all of the <em>right</em> paths, leading you to <code><em>11Z</em></code> and <code>22C</code>.</li>\n",
       "<li>Step 3: You choose all of the <em>left</em> paths, leading you to <code>11B</code> and <code><em>22Z</em></code>.</li>\n",
       "<li>Step 4: You choose all of the <em>right</em> paths, leading you to <code><em>11Z</em></code> and <code>22B</code>.</li>\n",
       "<li>Step 5: You choose all of the <em>left</em> paths, leading you to <code>11B</code> and <code>22C</code>.</li>\n",
       "<li>Step 6: You choose all of the <em>right</em> paths, leading you to <code><em>11Z</em></code> and <code><em>22Z</em></code>.</li>\n",
       "</ul>\n",
       "<p>So, in this example, you end up entirely on nodes that end in <code>Z</code> after <code><em>6</em></code> steps.</p>\n",
       "<p>Simultaneously start on every node that ends with <code>A</code>. <em>How many steps does it take before you're only on nodes that end with <code>Z</code>?</em></p>\n",
       "</article>"
      ],
      "text/plain": [
       "<IPython.core.display.Markdown object>"
      ]
     },
     "metadata": {},
     "output_type": "display_data"
    }
   ],
   "source": [
    "show_task(DAY, 2)"
   ]
  },
  {
   "cell_type": "code",
   "execution_count": 45,
   "metadata": {},
   "outputs": [],
   "source": [
    "# lines = get_test_input_lines(DAY, 2)\n",
    "# lines\n",
    "lines = get_input_lines(DAY)"
   ]
  },
  {
   "cell_type": "code",
   "execution_count": 46,
   "metadata": {},
   "outputs": [],
   "source": [
    "steps = lines[0]\n",
    "maps = {}\n",
    "for line in lines[2:]:\n",
    "    line = line.replace('= (', '').replace(',', '').replace(')', '')\n",
    "    start, left, right = line.split()\n",
    "    maps[start] = (left, right)"
   ]
  },
  {
   "cell_type": "code",
   "execution_count": 106,
   "metadata": {},
   "outputs": [
    {
     "name": "stdout",
     "output_type": "stream",
     "text": [
      "LPA: 18156 18157 18157 18157 18157 \n",
      "XKA: 11652 11653 11653 11653 11653 11653 11653 11653 \n",
      "QGA: 21408 21409 21409 21409 \n",
      "AAA: 12736 12737 12737 12737 12737 12737 12737 \n",
      "HHA: 14362 14363 14363 14363 14363 14363 \n",
      "LTA: 15988 15989 15989 15989 15989 15989 \n"
     ]
    }
   ],
   "source": [
    "counter = 0\n",
    "places = [x for x in maps if x.endswith('A')]\n",
    "for j in range(len(places)):\n",
    "    place = places[j]\n",
    "    print(f'{place}: ', end='')\n",
    "    prev = 0\n",
    "    for i in range(100000):\n",
    "        step = steps[i % len(steps)]\n",
    "        place = maps[place][0] if step == 'L' else maps[place][1]\n",
    "        if place.endswith('Z'):\n",
    "            print(f'{i - prev} ', end='')\n",
    "            prev = i\n",
    "    print()"
   ]
  },
  {
   "cell_type": "code",
   "execution_count": 107,
   "metadata": {},
   "outputs": [
    {
     "data": {
      "text/plain": [
       "271"
      ]
     },
     "execution_count": 107,
     "metadata": {},
     "output_type": "execute_result"
    }
   ],
   "source": [
    "def nod(a, b):\n",
    "    while b:\n",
    "        a, b = b, a % b\n",
    "    return a\n",
    "\n",
    "nod(18157, 15989)"
   ]
  },
  {
   "cell_type": "code",
   "execution_count": 103,
   "metadata": {},
   "outputs": [
    {
     "name": "stdout",
     "output_type": "stream",
     "text": [
      "33449997431.0\n",
      "499253693.0\n",
      "777906917.0\n",
      "711702073.0\n",
      "631132027.0\n",
      "566949109.0\n",
      "423417689.0\n"
     ]
    }
   ],
   "source": [
    "nums = [18157, 11653, 12737, 14363, 15989, 21409]\n",
    "x = 1\n",
    "for num in nums:\n",
    "    x *= num / 271\n",
    "print(x)\n",
    "\n",
    "for n in nums:\n",
    "    print(x * 271 / n)"
   ]
  },
  {
   "cell_type": "code",
   "execution_count": 104,
   "metadata": {},
   "outputs": [
    {
     "data": {
      "text/plain": [
       "9064949303801.0"
      ]
     },
     "execution_count": 104,
     "metadata": {},
     "output_type": "execute_result"
    }
   ],
   "source": [
    "x * 271"
   ]
  },
  {
   "cell_type": "code",
   "execution_count": 105,
   "metadata": {},
   "outputs": [
    {
     "data": {
      "text/plain": [
       "\"That's the right answer!  You are one gold star closer to restoring snow operations.You have completed Day 8! (solved in 53:58)\""
      ]
     },
     "execution_count": 105,
     "metadata": {},
     "output_type": "execute_result"
    }
   ],
   "source": [
    "send_result(DAY, 2, 9064949303801)"
   ]
  }
 ],
 "metadata": {
  "kernelspec": {
   "display_name": "venv",
   "language": "python",
   "name": "python3"
  },
  "language_info": {
   "codemirror_mode": {
    "name": "ipython",
    "version": 3
   },
   "file_extension": ".py",
   "mimetype": "text/x-python",
   "name": "python",
   "nbconvert_exporter": "python",
   "pygments_lexer": "ipython3",
   "version": "3.11.6"
  },
  "orig_nbformat": 4
 },
 "nbformat": 4,
 "nbformat_minor": 2
}

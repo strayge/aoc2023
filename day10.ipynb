{
 "cells": [
  {
   "cell_type": "code",
   "execution_count": 1,
   "metadata": {},
   "outputs": [],
   "source": [
    "from common import *\n",
    "\n",
    "DAY = 10"
   ]
  },
  {
   "cell_type": "code",
   "execution_count": 2,
   "metadata": {},
   "outputs": [
    {
     "data": {
      "text/markdown": [
       "<article class=\"day-desc\"><h2>--- Day 10: Pipe Maze ---</h2><p>You use the hang glider to ride the hot air from Desert Island all the way up to the floating metal island. This island is surprisingly cold and there definitely aren't any thermals to glide on, so you leave your hang glider behind.</p>\n",
       "<p>You wander around for a while, but you don't find any people or animals. However, you do occasionally find signposts labeled \"<a href=\"https://en.wikipedia.org/wiki/Hot_spring\" target=\"_blank\">Hot Springs</a>\" pointing in a seemingly consistent direction; maybe you can find someone at the hot springs and ask them where the desert-machine parts are made.</p>\n",
       "<p>The landscape here is alien; even the flowers and trees are made of metal. As you stop to admire some metal grass, you notice something metallic scurry away in your peripheral vision and jump into a big pipe! It didn't look like any animal you've ever seen; if you want a better look, you'll need to get ahead of it.</p>\n",
       "<p>Scanning the area, you discover that the entire field you're standing on is <span title=\"Manufactured by Hamilton and Hilbert Pipe Company\">densely packed with pipes</span>; it was hard to tell at first because they're the same metallic silver color as the \"ground\". You make a quick sketch of all of the surface pipes you can see (your puzzle input).</p>\n",
       "<p>The pipes are arranged in a two-dimensional grid of <em>tiles</em>:</p>\n",
       "<ul>\n",
       "<li><code>|</code> is a <em>vertical pipe</em> connecting north and south.</li>\n",
       "<li><code>-</code> is a <em>horizontal pipe</em> connecting east and west.</li>\n",
       "<li><code>L</code> is a <em>90-degree bend</em> connecting north and east.</li>\n",
       "<li><code>J</code> is a <em>90-degree bend</em> connecting north and west.</li>\n",
       "<li><code>7</code> is a <em>90-degree bend</em> connecting south and west.</li>\n",
       "<li><code>F</code> is a <em>90-degree bend</em> connecting south and east.</li>\n",
       "<li><code>.</code> is <em>ground</em>; there is no pipe in this tile.</li>\n",
       "<li><code>S</code> is the <em>starting position</em> of the animal; there is a pipe on this tile, but your sketch doesn't show what shape the pipe has.</li>\n",
       "</ul>\n",
       "<p>Based on the acoustics of the animal's scurrying, you're confident the pipe that contains the animal is <em>one large, continuous loop</em>.</p>\n",
       "<p>For example, here is a square loop of pipe:</p>\n",
       "<pre><code>.....\n",
       ".F-7.\n",
       ".|.|.\n",
       ".L-J.\n",
       ".....\n",
       "</code></pre>\n",
       "<p>If the animal had entered this loop in the northwest corner, the sketch would instead look like this:</p>\n",
       "<pre><code>.....\n",
       ".<em>S</em>-7.\n",
       ".|.|.\n",
       ".L-J.\n",
       ".....\n",
       "</code></pre>\n",
       "<p>In the above diagram, the <code>S</code> tile is still a 90-degree <code>F</code> bend: you can tell because of how the adjacent pipes connect to it.</p>\n",
       "<p>Unfortunately, there are also many pipes that <em>aren't connected to the loop</em>! This sketch shows the same loop as above:</p>\n",
       "<pre><code>-L|F7\n",
       "7S-7|\n",
       "L|7||\n",
       "-L-J|\n",
       "L|-JF\n",
       "</code></pre>\n",
       "<p>In the above diagram, you can still figure out which pipes form the main loop: they're the ones connected to <code>S</code>, pipes those pipes connect to, pipes <em>those</em> pipes connect to, and so on. Every pipe in the main loop connects to its two neighbors (including <code>S</code>, which will have exactly two pipes connecting to it, and which is assumed to connect back to those two pipes).</p>\n",
       "<p>Here is a sketch that contains a slightly more complex main loop:</p>\n",
       "<pre><code>..F7.\n",
       ".FJ|.\n",
       "SJ.L7\n",
       "|F--J\n",
       "LJ...\n",
       "</code></pre>\n",
       "<p>Here's the same example sketch with the extra, non-main-loop pipe tiles also shown:</p>\n",
       "<pre><code>7-F7-\n",
       ".FJ|7\n",
       "SJLL7\n",
       "|F--J\n",
       "LJ.LJ\n",
       "</code></pre>\n",
       "<p>If you want to <em>get out ahead of the animal</em>, you should find the tile in the loop that is <em>farthest</em> from the starting position. Because the animal is in the pipe, it doesn't make sense to measure this by direct distance. Instead, you need to find the tile that would take the longest number of steps <em>along the loop</em> to reach from the starting point - regardless of which way around the loop the animal went.</p>\n",
       "<p>In the first example with the square loop:</p>\n",
       "<pre><code>.....\n",
       ".S-7.\n",
       ".|.|.\n",
       ".L-J.\n",
       ".....\n",
       "</code></pre>\n",
       "<p>You can count the distance each tile in the loop is from the starting point like this:</p>\n",
       "<pre><code>.....\n",
       ".012.\n",
       ".1.3.\n",
       ".23<em>4</em>.\n",
       ".....\n",
       "</code></pre>\n",
       "<p>In this example, the farthest point from the start is <code><em>4</em></code> steps away.</p>\n",
       "<p>Here's the more complex loop again:</p>\n",
       "<pre><code>..F7.\n",
       ".FJ|.\n",
       "SJ.L7\n",
       "|F--J\n",
       "LJ...\n",
       "</code></pre>\n",
       "<p>Here are the distances for each tile on that loop:</p>\n",
       "<pre><code>..45.\n",
       ".236.\n",
       "01.7<em>8</em>\n",
       "14567\n",
       "23...\n",
       "</code></pre>\n",
       "<p>Find the single giant loop starting at <code>S</code>. <em>How many steps along the loop does it take to get from the starting position to the point farthest from the starting position?</em></p>\n",
       "</article>"
      ],
      "text/plain": [
       "<IPython.core.display.Markdown object>"
      ]
     },
     "metadata": {},
     "output_type": "display_data"
    }
   ],
   "source": [
    "show_task(DAY)"
   ]
  },
  {
   "cell_type": "code",
   "execution_count": 6,
   "metadata": {},
   "outputs": [
    {
     "data": {
      "text/plain": [
       "['..F7.', '.FJ|.', 'SJ.L7', '|F--J', 'LJ...']"
      ]
     },
     "execution_count": 6,
     "metadata": {},
     "output_type": "execute_result"
    }
   ],
   "source": [
    "lines = '''..F7.\n",
    ".FJ|.\n",
    "SJ.L7\n",
    "|F--J\n",
    "LJ...'''.splitlines()\n",
    "lines"
   ]
  },
  {
   "cell_type": "code",
   "execution_count": 36,
   "metadata": {},
   "outputs": [],
   "source": [
    "lines = get_input_lines(DAY)"
   ]
  },
  {
   "cell_type": "code",
   "execution_count": 37,
   "metadata": {},
   "outputs": [],
   "source": [
    "paths = {\n",
    "    'U': '|LJS',\n",
    "    'D': '|7FS',\n",
    "    'L': '-J7S',\n",
    "    'R': '-LFS',\n",
    "}\n",
    "inverted_paths = {\n",
    "    'U': 'D',\n",
    "    'D': 'U',\n",
    "    'L': 'R',\n",
    "    'R': 'L',\n",
    "}"
   ]
  },
  {
   "cell_type": "code",
   "execution_count": 38,
   "metadata": {},
   "outputs": [],
   "source": [
    "dmap = [[-1] * len(line) for line in lines]\n",
    "\n",
    "for y, line in enumerate(lines):\n",
    "    for x, c in enumerate(line):\n",
    "        if c == 'S':\n",
    "            dmap[y][x] = 0\n",
    "\n",
    "# dmap"
   ]
  },
  {
   "cell_type": "code",
   "execution_count": 39,
   "metadata": {},
   "outputs": [],
   "source": [
    "def dmap_step(dmap: list[list[int]]) -> bool:\n",
    "    changed = False\n",
    "    for y, dline in enumerate(dmap):\n",
    "        for x, d in enumerate(dline):\n",
    "            if d == -1:\n",
    "                continue\n",
    "            c = lines[y][x]\n",
    "            for ydiff, xdiff, direction in [(-1, 0, 'U'), (1, 0, 'D'), (0, -1, 'L'), (0, 1, 'R')]:\n",
    "                new_y, new_x = y + ydiff, x + xdiff\n",
    "\n",
    "                # do not go through walls\n",
    "                if not (0 <= new_y < len(dmap)) or not (0 <= new_x < len(dline)):\n",
    "                    continue\n",
    "                new_c = lines[new_y][new_x]\n",
    "\n",
    "                # connections check\n",
    "                if c not in paths[direction] or new_c not in paths[inverted_paths[direction]]:\n",
    "                    continue\n",
    "\n",
    "                new_d = d + 1\n",
    "                if dmap[new_y][new_x] == -1 or dmap[new_y][new_x] > new_d:\n",
    "                    dmap[new_y][new_x] = new_d\n",
    "                    changed = True\n",
    "    return changed\n",
    "\n",
    "def show_dmap(dmap: list[list[int]]):\n",
    "    for line in dmap:\n",
    "        for num in line:\n",
    "            num = num if num != -1 else '.'\n",
    "            print(f'{num:>2} ', end='')\n",
    "        print()\n"
   ]
  },
  {
   "cell_type": "code",
   "execution_count": 41,
   "metadata": {},
   "outputs": [],
   "source": [
    "while dmap_step(dmap):\n",
    "    pass\n",
    "\n",
    "# show_dmap(dmap)"
   ]
  },
  {
   "cell_type": "code",
   "execution_count": 42,
   "metadata": {},
   "outputs": [
    {
     "data": {
      "text/plain": [
       "6867"
      ]
     },
     "execution_count": 42,
     "metadata": {},
     "output_type": "execute_result"
    }
   ],
   "source": [
    "result = max(max(line) for line in dmap)\n",
    "result"
   ]
  },
  {
   "cell_type": "code",
   "execution_count": 43,
   "metadata": {},
   "outputs": [
    {
     "data": {
      "text/plain": [
       "\"That's the right answer!  You are one gold star closer to restoring snow operations. [Continue to Part Two] (solved in 78:30)\""
      ]
     },
     "execution_count": 43,
     "metadata": {},
     "output_type": "execute_result"
    }
   ],
   "source": [
    "send_result(DAY, 1, result)"
   ]
  },
  {
   "cell_type": "code",
   "execution_count": 44,
   "metadata": {},
   "outputs": [
    {
     "data": {
      "text/markdown": [
       "<article class=\"day-desc\"><h2 id=\"part2\">--- Part Two ---</h2><p>You quickly reach the farthest point of the loop, but the animal never emerges. Maybe its nest is <em>within the area enclosed by the loop</em>?</p>\n",
       "<p>To determine whether it's even worth taking the time to search for such a nest, you should calculate how many tiles are contained within the loop. For example:</p>\n",
       "<pre><code>...........\n",
       ".S-------7.\n",
       ".|F-----7|.\n",
       ".||.....||.\n",
       ".||.....||.\n",
       ".|L-7.F-J|.\n",
       ".|..|.|..|.\n",
       ".L--J.L--J.\n",
       "...........\n",
       "</code></pre>\n",
       "<p>The above loop encloses merely <em>four tiles</em> - the two pairs of <code>.</code> in the southwest and southeast (marked <code>I</code> below). The middle <code>.</code> tiles (marked <code>O</code> below) are <em>not</em> in the loop. Here is the same loop again with those regions marked:</p>\n",
       "<pre><code>...........\n",
       ".S-------7.\n",
       ".|F-----7|.\n",
       ".||<em>OOOOO</em>||.\n",
       ".||<em>OOOOO</em>||.\n",
       ".|L-7<em>O</em>F-J|.\n",
       ".|<em>II</em>|<em>O</em>|<em>II</em>|.\n",
       ".L--J<em>O</em>L--J.\n",
       ".....<em>O</em>.....\n",
       "</code></pre>\n",
       "<p>In fact, there doesn't even need to be a full tile path to the outside for tiles to count as outside the loop - squeezing between pipes is also allowed! Here, <code>I</code> is still within the loop and <code>O</code> is still outside the loop:</p>\n",
       "<pre><code>..........\n",
       ".S------7.\n",
       ".|F----7|.\n",
       ".||<em>OOOO</em>||.\n",
       ".||<em>OOOO</em>||.\n",
       ".|L-7F-J|.\n",
       ".|<em>II</em>||<em>II</em>|.\n",
       ".L--JL--J.\n",
       "..........\n",
       "</code></pre>\n",
       "<p>In both of the above examples, <code><em>4</em></code> tiles are enclosed by the loop.</p>\n",
       "<p>Here's a larger example:</p>\n",
       "<pre><code>.F----7F7F7F7F-7....\n",
       ".|F--7||||||||FJ....\n",
       ".||.FJ||||||||L7....\n",
       "FJL7L7LJLJ||LJ.L-7..\n",
       "L--J.L7...LJS7F-7L7.\n",
       "....F-J..F7FJ|L7L7L7\n",
       "....L7.F7||L7|.L7L7|\n",
       ".....|FJLJ|FJ|F7|.LJ\n",
       "....FJL-7.||.||||...\n",
       "....L---J.LJ.LJLJ...\n",
       "</code></pre>\n",
       "<p>The above sketch has many random bits of ground, some of which are in the loop (<code>I</code>) and some of which are outside it (<code>O</code>):</p>\n",
       "<pre><code><em>O</em>F----7F7F7F7F-7<em>OOOO</em>\n",
       "<em>O</em>|F--7||||||||FJ<em>OOOO</em>\n",
       "<em>O</em>||<em>O</em>FJ||||||||L7<em>OOOO</em>\n",
       "FJL7L7LJLJ||LJ<em>I</em>L-7<em>OO</em>\n",
       "L--J<em>O</em>L7<em>III</em>LJS7F-7L7<em>O</em>\n",
       "<em>OOOO</em>F-J<em>II</em>F7FJ|L7L7L7\n",
       "<em>OOOO</em>L7<em>I</em>F7||L7|<em>I</em>L7L7|\n",
       "<em>OOOOO</em>|FJLJ|FJ|F7|<em>O</em>LJ\n",
       "<em>OOOO</em>FJL-7<em>O</em>||<em>O</em>||||<em>OOO</em>\n",
       "<em>OOOO</em>L---J<em>O</em>LJ<em>O</em>LJLJ<em>OOO</em>\n",
       "</code></pre>\n",
       "<p>In this larger example, <code><em>8</em></code> tiles are enclosed by the loop.</p>\n",
       "<p>Any tile that isn't part of the main loop can count as being enclosed by the loop. Here's another example with many bits of junk pipe lying around that aren't connected to the main loop at all:</p>\n",
       "<pre><code>FF7FSF7F7F7F7F7F---7\n",
       "L|LJ||||||||||||F--J\n",
       "FL-7LJLJ||||||LJL-77\n",
       "F--JF--7||LJLJ7F7FJ-\n",
       "L---JF-JLJ.||-FJLJJ7\n",
       "|F|F-JF---7F7-L7L|7|\n",
       "|FFJF7L7F-JF7|JL---7\n",
       "7-L-JL7||F7|L7F-7F7|\n",
       "L.L7LFJ|||||FJL7||LJ\n",
       "L7JLJL-JLJLJL--JLJ.L\n",
       "</code></pre>\n",
       "<p>Here are just the tiles that are <em>enclosed by the loop</em> marked with <code>I</code>:</p>\n",
       "<pre><code>FF7FSF7F7F7F7F7F---7\n",
       "L|LJ||||||||||||F--J\n",
       "FL-7LJLJ||||||LJL-77\n",
       "F--JF--7||LJLJ<em>I</em>F7FJ-\n",
       "L---JF-JLJ<em>IIII</em>FJLJJ7\n",
       "|F|F-JF---7<em>III</em>L7L|7|\n",
       "|FFJF7L7F-JF7<em>II</em>L---7\n",
       "7-L-JL7||F7|L7F-7F7|\n",
       "L.L7LFJ|||||FJL7||LJ\n",
       "L7JLJL-JLJLJL--JLJ.L\n",
       "</code></pre>\n",
       "<p>In this last example, <code><em>10</em></code> tiles are enclosed by the loop.</p>\n",
       "<p>Figure out whether you have time to search for the nest by calculating the area within the loop. <em>How many tiles are enclosed by the loop?</em></p>\n",
       "</article>"
      ],
      "text/plain": [
       "<IPython.core.display.Markdown object>"
      ]
     },
     "metadata": {},
     "output_type": "display_data"
    }
   ],
   "source": [
    "show_task(DAY, 2)"
   ]
  },
  {
   "cell_type": "code",
   "execution_count": 73,
   "metadata": {},
   "outputs": [],
   "source": [
    "# lines = '''.F----7F7F7F7F-7....\n",
    "# .|F--7||||||||FJ....\n",
    "# .||.FJ||||||||L7....\n",
    "# FJL7L7LJLJ||LJ.L-7..\n",
    "# L--J.L7...LJS7F-7L7.\n",
    "# ....F-J..F7FJ|L7L7L7\n",
    "# ....L7.F7||L7|.L7L7|\n",
    "# .....|FJLJ|FJ|F7|.LJ\n",
    "# ....FJL-7.||.||||...\n",
    "# ....L---J.LJ.LJLJ...'''.splitlines()\n",
    "\n",
    "lines = get_input_lines(DAY)\n",
    "\n",
    "dmap = [[-1] * len(line) for line in lines]\n",
    "\n",
    "for y, line in enumerate(lines):\n",
    "    for x, c in enumerate(line):\n",
    "        if c == 'S':\n",
    "            dmap[y][x] = 0\n",
    "\n",
    "while dmap_step(dmap):\n",
    "    pass\n",
    "\n",
    "# show_dmap(dmap)"
   ]
  },
  {
   "cell_type": "code",
   "execution_count": 74,
   "metadata": {},
   "outputs": [],
   "source": [
    "def create_map(y, x, value: int = -1) -> list[list[int]]:\n",
    "    line = [value] * x\n",
    "    return [line[:] for _ in range(y)]\n",
    "\n",
    "pmap = create_map(2 + len(lines) * 2, 2 + len(lines[0]) * 2)\n",
    "\n",
    "def find_value(dmap: list[list[int]], value=0) -> tuple[int, int]:\n",
    "    for y, line in enumerate(dmap):\n",
    "        for x, d in enumerate(line):\n",
    "            if d == value:\n",
    "                return y, x\n",
    "    raise ValueError('Not found')\n",
    "\n",
    "\n",
    "def nearest(dmap: list[list[int]], y: int, x: int, diff: int = -1) -> list[tuple[int, int]]:\n",
    "    result = []\n",
    "    num = dmap[y][x]\n",
    "    for ydiff, xdiff in [(-1, 0), (1, 0), (0, -1), (0, 1)]:\n",
    "        new_y, new_x = y + ydiff, x + xdiff\n",
    "\n",
    "        # do not go through walls\n",
    "        if not (0 <= new_y < len(dmap)) or not (0 <= new_x < len(dmap[0])):\n",
    "            continue\n",
    "\n",
    "        new_num = dmap[new_y][new_x]\n",
    "        if new_num != -1 and new_num == num + diff:\n",
    "            result.append((new_y, new_x))\n",
    "    return result\n",
    "\n",
    "max_d = max(max(line) for line in dmap)\n",
    "start_y, start_x = find_value(dmap, max_d)\n",
    "pmap[2 + start_y * 2][2 + start_x * 2] = dmap[start_y][start_x]\n",
    "\n",
    "for y, x in nearest(dmap, start_y, start_x):\n",
    "    pmap[2 + start_y * 2 + (y - start_y)][2 + start_x * 2 + (x - start_x)] = dmap[y][x]\n",
    "    pmap[2 + y * 2][2 + x * 2] = dmap[y][x]\n",
    "    while True:\n",
    "        num = dmap[y][x]\n",
    "        for new_y, new_x in nearest(dmap, y, x):\n",
    "            new_num = dmap[new_y][new_x]\n",
    "            pmap[2 + new_y * 2][2 + new_x * 2] = new_num\n",
    "            pmap[2 + y * 2 + (new_y - y)][2 + x * 2 + (new_x - x)] = new_num\n",
    "            y, x = new_y, new_x\n",
    "            break\n",
    "        else:\n",
    "            break\n",
    "\n",
    "# show_dmap(pmap)"
   ]
  },
  {
   "cell_type": "code",
   "execution_count": 75,
   "metadata": {},
   "outputs": [
    {
     "name": "stdout",
     "output_type": "stream",
     "text": [
      "595\n"
     ]
    }
   ],
   "source": [
    "pmap[0][0] = 'O'\n",
    "\n",
    "def all_nearest(dmap: list[list[int]], y: int, x: int) -> list[tuple[int, int, int]]:\n",
    "    result = []\n",
    "    for ydiff, xdiff in [(-1, 0), (1, 0), (0, -1), (0, 1)]:\n",
    "        new_y, new_x = y + ydiff, x + xdiff\n",
    "\n",
    "        # do not go through walls\n",
    "        if not (0 <= new_y < len(dmap)) or not (0 <= new_x < len(dmap[0])):\n",
    "            continue\n",
    "\n",
    "        new_num = dmap[new_y][new_x]\n",
    "        result.append((new_y, new_x, new_num))\n",
    "    return result\n",
    "\n",
    "\n",
    "def pmap_step(pmap: list[list[int]]) -> bool:\n",
    "    changed = False\n",
    "    for y, line in enumerate(pmap):\n",
    "        for x, value in enumerate(line):\n",
    "            if value != 'O':\n",
    "                continue\n",
    "            for new_y, new_x, new_value in all_nearest(pmap, y, x):\n",
    "                if new_value != -1:\n",
    "                    continue\n",
    "                pmap[new_y][new_x] = 'O'\n",
    "                changed = True\n",
    "    return changed\n",
    "\n",
    "while pmap_step(pmap):\n",
    "    pass\n",
    "\n",
    "result = 0\n",
    "for y, line in enumerate(pmap):\n",
    "    for x, value in enumerate(line):\n",
    "        if value == -1 and x % 2 == 0 and y % 2 == 0:\n",
    "            result += 1\n",
    "print(result)\n",
    "# show_dmap(pmap)"
   ]
  },
  {
   "cell_type": "code",
   "execution_count": 76,
   "metadata": {},
   "outputs": [
    {
     "data": {
      "text/plain": [
       "\"That's the right answer!  You are one gold star closer to restoring snow operations.You have completed Day 10! (solved in 96:47)\""
      ]
     },
     "execution_count": 76,
     "metadata": {},
     "output_type": "execute_result"
    }
   ],
   "source": [
    "send_result(DAY, 2, result)"
   ]
  },
  {
   "cell_type": "code",
   "execution_count": null,
   "metadata": {},
   "outputs": [],
   "source": []
  }
 ],
 "metadata": {
  "kernelspec": {
   "display_name": "venv",
   "language": "python",
   "name": "python3"
  },
  "language_info": {
   "codemirror_mode": {
    "name": "ipython",
    "version": 3
   },
   "file_extension": ".py",
   "mimetype": "text/x-python",
   "name": "python",
   "nbconvert_exporter": "python",
   "pygments_lexer": "ipython3",
   "version": "3.11.6"
  },
  "orig_nbformat": 4
 },
 "nbformat": 4,
 "nbformat_minor": 2
}

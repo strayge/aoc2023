{
 "cells": [
  {
   "cell_type": "code",
   "execution_count": 1,
   "metadata": {},
   "outputs": [],
   "source": [
    "from common import *\n",
    "\n",
    "DAY = 11"
   ]
  },
  {
   "cell_type": "code",
   "execution_count": 2,
   "metadata": {},
   "outputs": [
    {
     "data": {
      "text/markdown": [
       "<article class=\"day-desc\"><h2>--- Day 11: Cosmic Expansion ---</h2><p>You continue following signs for \"Hot Springs\" and eventually come across an <a href=\"https://en.wikipedia.org/wiki/Observatory\" target=\"_blank\">observatory</a>. The Elf within turns out to be a researcher studying cosmic expansion using the giant telescope here.</p>\n",
       "<p>He doesn't know anything about the missing machine parts; he's only visiting for this research project. However, he confirms that the hot springs are the next-closest area likely to have people; he'll even take you straight there once he's done with today's observation analysis.</p>\n",
       "<p>Maybe you can help him with the analysis to speed things up?</p>\n",
       "<p>The researcher has collected a bunch of data and compiled the data into a single giant <em>image</em> (your puzzle input). The image includes <em>empty space</em> (<code>.</code>) and <em>galaxies</em> (<code>#</code>). For example:</p>\n",
       "<pre><code>...#......\n",
       ".......#..\n",
       "#.........\n",
       "..........\n",
       "......#...\n",
       ".#........\n",
       ".........#\n",
       "..........\n",
       ".......#..\n",
       "#...#.....\n",
       "</code></pre>\n",
       "<p>The researcher is trying to figure out the sum of the lengths of the <em>shortest path between every pair of galaxies</em>. However, there's a catch: the universe expanded in the time it took the light from those galaxies to reach the observatory.</p>\n",
       "<p>Due to something involving gravitational effects, <em>only some space expands</em>. In fact, the result is that <em>any rows or columns that contain no galaxies</em> should all actually be twice as big.</p>\n",
       "<p>In the above example, three columns and two rows contain no galaxies:</p>\n",
       "<pre><code>   v  v  v\n",
       " ...#......\n",
       " .......#..\n",
       " #.........\n",
       "&gt;..........&lt;\n",
       " ......#...\n",
       " .#........\n",
       " .........#\n",
       "&gt;..........&lt;\n",
       " .......#..\n",
       " #...#.....\n",
       "   ^  ^  ^\n",
       "</code></pre>\n",
       "<p>These rows and columns need to be <em>twice as big</em>; the result of cosmic expansion therefore looks like this:</p>\n",
       "<pre><code>....#........\n",
       ".........#...\n",
       "#............\n",
       ".............\n",
       ".............\n",
       "........#....\n",
       ".#...........\n",
       "............#\n",
       ".............\n",
       ".............\n",
       ".........#...\n",
       "#....#.......\n",
       "</code></pre>\n",
       "<p>Equipped with this expanded universe, the shortest path between every pair of galaxies can be found. It can help to assign every galaxy a unique number:</p>\n",
       "<pre><code>....1........\n",
       ".........2...\n",
       "3............\n",
       ".............\n",
       ".............\n",
       "........4....\n",
       ".5...........\n",
       "............6\n",
       ".............\n",
       ".............\n",
       ".........7...\n",
       "8....9.......\n",
       "</code></pre>\n",
       "<p>In these 9 galaxies, there are <em>36 pairs</em>. Only count each pair once; order within the pair doesn't matter. For each pair, find any shortest path between the two galaxies using only steps that move up, down, left, or right exactly one <code>.</code> or <code>#</code> at a time. (The shortest path between two galaxies is allowed to pass through another galaxy.)</p>\n",
       "<p>For example, here is one of the shortest paths between galaxies <code>5</code> and <code>9</code>:</p>\n",
       "<pre><code>....1........\n",
       ".........2...\n",
       "3............\n",
       ".............\n",
       ".............\n",
       "........4....\n",
       ".5...........\n",
       ".##.........6\n",
       "..##.........\n",
       "...##........\n",
       "....##...7...\n",
       "8....9.......\n",
       "</code></pre>\n",
       "<p>This path has length <code><em>9</em></code> because it takes a minimum of <em>nine steps</em> to get from galaxy <code>5</code> to galaxy <code>9</code> (the eight locations marked <code>#</code> plus the step onto galaxy <code>9</code> itself). Here are some other example shortest path lengths:</p>\n",
       "<ul>\n",
       "<li>Between galaxy <code>1</code> and galaxy <code>7</code>: 15</li>\n",
       "<li>Between galaxy <code>3</code> and galaxy <code>6</code>: 17</li>\n",
       "<li>Between galaxy <code>8</code> and galaxy <code>9</code>: 5</li>\n",
       "</ul>\n",
       "<p>In this example, after expanding the universe, the sum of the shortest path between all 36 pairs of galaxies is <code><em>374</em></code>.</p>\n",
       "<p>Expand the universe, then find the length of the shortest path between every pair of galaxies. <em>What is the sum of these lengths?</em></p>\n",
       "</article>"
      ],
      "text/plain": [
       "<IPython.core.display.Markdown object>"
      ]
     },
     "metadata": {},
     "output_type": "display_data"
    }
   ],
   "source": [
    "show_task(DAY)"
   ]
  },
  {
   "cell_type": "code",
   "execution_count": 3,
   "metadata": {},
   "outputs": [
    {
     "data": {
      "text/plain": [
       "['...#......',\n",
       " '.......#..',\n",
       " '#.........',\n",
       " '..........',\n",
       " '......#...',\n",
       " '.#........',\n",
       " '.........#',\n",
       " '..........',\n",
       " '.......#..',\n",
       " '#...#.....']"
      ]
     },
     "execution_count": 3,
     "metadata": {},
     "output_type": "execute_result"
    }
   ],
   "source": [
    "lines = get_test_input_lines(DAY, 1, 1)\n",
    "lines"
   ]
  },
  {
   "cell_type": "code",
   "execution_count": 18,
   "metadata": {},
   "outputs": [],
   "source": [
    "lines = get_input_lines(DAY)"
   ]
  },
  {
   "cell_type": "code",
   "execution_count": 19,
   "metadata": {},
   "outputs": [],
   "source": [
    "from structures import Map\n",
    "\n",
    "m = Map.from_object(lines)\n",
    "\n",
    "# m.show()"
   ]
  },
  {
   "cell_type": "code",
   "execution_count": 20,
   "metadata": {},
   "outputs": [],
   "source": [
    "for y in reversed(range(m.h)):\n",
    "    if '#' not in m.map[y]:\n",
    "        m.map.insert(y, m.map[y][:])\n",
    "m.h = len(m.map)\n",
    "\n",
    "for x in reversed(range(m.w)):\n",
    "    column = [m.map[y][x] for y in range(m.h)]\n",
    "    if '#' not in column:\n",
    "        for y in range(m.h):\n",
    "            m.map[y].insert(x, '.')\n",
    "m.w = len(m.map[0])\n",
    "\n",
    "# m.show()"
   ]
  },
  {
   "cell_type": "code",
   "execution_count": 21,
   "metadata": {},
   "outputs": [],
   "source": [
    "points = []\n",
    "for y in range(m.h):\n",
    "    for x in range(m.w):\n",
    "        if m.map[y][x] == '#':\n",
    "            points.append((y, x))\n",
    "# points"
   ]
  },
  {
   "cell_type": "code",
   "execution_count": 22,
   "metadata": {},
   "outputs": [
    {
     "name": "stdout",
     "output_type": "stream",
     "text": [
      "9965032\n"
     ]
    }
   ],
   "source": [
    "from itertools import combinations\n",
    "\n",
    "result = 0\n",
    "for point1, point2 in combinations(points, 2):\n",
    "    direct_dist = abs(point2[0] - point1[0]) + abs(point2[1] - point1[1])\n",
    "    # print(point1, point2, direct_dist)\n",
    "    result += direct_dist\n",
    "print(result)"
   ]
  },
  {
   "cell_type": "code",
   "execution_count": 23,
   "metadata": {},
   "outputs": [
    {
     "data": {
      "text/plain": [
       "\"That's the right answer!  You are one gold star closer to restoring snow operations. [Continue to Part Two] (solved in 32:35)\""
      ]
     },
     "execution_count": 23,
     "metadata": {},
     "output_type": "execute_result"
    }
   ],
   "source": [
    "send_result(DAY, 1, result)"
   ]
  },
  {
   "cell_type": "code",
   "execution_count": 24,
   "metadata": {},
   "outputs": [
    {
     "data": {
      "text/markdown": [
       "<article class=\"day-desc\"><h2 id=\"part2\">--- Part Two ---</h2><p>The galaxies are much <em>older</em> (and thus much <em>farther apart</em>) than the researcher initially estimated.</p>\n",
       "<p>Now, instead of the expansion you did before, make each empty row or column <em><span title=\"And you have to have your pinky near your mouth when you do it.\">one million</span> times</em> larger. That is, each empty row should be replaced with <code>1000000</code> empty rows, and each empty column should be replaced with <code>1000000</code> empty columns.</p>\n",
       "<p>(In the example above, if each empty row or column were merely <code>10</code> times larger, the sum of the shortest paths between every pair of galaxies would be <code><em>1030</em></code>. If each empty row or column were merely <code>100</code> times larger, the sum of the shortest paths between every pair of galaxies would be <code><em>8410</em></code>. However, your universe will need to expand far beyond these values.)</p>\n",
       "<p>Starting with the same initial image, expand the universe according to these new rules, then find the length of the shortest path between every pair of galaxies. <em>What is the sum of these lengths?</em></p>\n",
       "</article>"
      ],
      "text/plain": [
       "<IPython.core.display.Markdown object>"
      ]
     },
     "metadata": {},
     "output_type": "display_data"
    }
   ],
   "source": [
    "show_task(DAY, 2)"
   ]
  },
  {
   "cell_type": "code",
   "execution_count": 25,
   "metadata": {},
   "outputs": [
    {
     "data": {
      "text/plain": [
       "['...#......',\n",
       " '.......#..',\n",
       " '#.........',\n",
       " '..........',\n",
       " '......#...',\n",
       " '.#........',\n",
       " '.........#',\n",
       " '..........',\n",
       " '.......#..',\n",
       " '#...#.....']"
      ]
     },
     "execution_count": 25,
     "metadata": {},
     "output_type": "execute_result"
    }
   ],
   "source": [
    "lines = get_test_input_lines(DAY, 1, 1)\n",
    "lines"
   ]
  },
  {
   "cell_type": "code",
   "execution_count": 45,
   "metadata": {},
   "outputs": [],
   "source": [
    "lines = get_input_lines(DAY)"
   ]
  },
  {
   "cell_type": "code",
   "execution_count": 46,
   "metadata": {},
   "outputs": [],
   "source": [
    "from structures import Map\n",
    "\n",
    "m = Map.from_object(lines)\n"
   ]
  },
  {
   "cell_type": "code",
   "execution_count": 47,
   "metadata": {},
   "outputs": [],
   "source": [
    "wide_y = []\n",
    "wide_x = []\n",
    "for y in reversed(range(m.h)):\n",
    "    if '#' not in m.map[y]:\n",
    "        wide_y.append(y)\n",
    "\n",
    "for x in reversed(range(m.w)):\n",
    "    column = [m.map[y][x] for y in range(m.h)]\n",
    "    if '#' not in column:\n",
    "        wide_x.append(x)\n",
    "\n",
    "# wide_y, wide_x"
   ]
  },
  {
   "cell_type": "code",
   "execution_count": 48,
   "metadata": {},
   "outputs": [],
   "source": [
    "points = []\n",
    "for y in range(m.h):\n",
    "    for x in range(m.w):\n",
    "        if m.map[y][x] == '#':\n",
    "            points.append((y, x))\n",
    "\n",
    "# points"
   ]
  },
  {
   "cell_type": "code",
   "execution_count": 51,
   "metadata": {},
   "outputs": [
    {
     "name": "stdout",
     "output_type": "stream",
     "text": [
      "550358864332\n"
     ]
    }
   ],
   "source": [
    "from itertools import combinations\n",
    "\n",
    "WIDE_DIST = 1000000\n",
    "\n",
    "result = 0\n",
    "for point1, point2 in combinations(points, 2):\n",
    "    y1, x1 = point1\n",
    "    y2, x2 = point2\n",
    "    y2, y1 = max(y1, y2), min(y1, y2)\n",
    "    x2, x1 = max(x1, x2), min(x1, x2)\n",
    "    dist = y2 - y1 + x2 - x1\n",
    "    y_count, x_count = 0, 0\n",
    "    for y in wide_y:\n",
    "        if y1 < y < y2:\n",
    "            y_count += 1\n",
    "    for x in wide_x:\n",
    "        if x1 < x < x2:\n",
    "            x_count += 1\n",
    "    total_dist = dist + y_count * WIDE_DIST - y_count + x_count * WIDE_DIST - x_count\n",
    "    # print(f'{y1:2},{y2:2}, {x1:2},{x2:2} {dist:3} {y_count:2} {x_count:2} {total_dist:3}')\n",
    "    result += total_dist\n",
    "print(result)"
   ]
  },
  {
   "cell_type": "code",
   "execution_count": 53,
   "metadata": {},
   "outputs": [
    {
     "data": {
      "text/plain": [
       "\"That's the right answer!  You are one gold star closer to restoring snow operations.You have completed Day 11! (solved in 20:36)\""
      ]
     },
     "execution_count": 53,
     "metadata": {},
     "output_type": "execute_result"
    }
   ],
   "source": [
    "send_result(DAY, 2, result)"
   ]
  },
  {
   "cell_type": "code",
   "execution_count": null,
   "metadata": {},
   "outputs": [],
   "source": []
  }
 ],
 "metadata": {
  "kernelspec": {
   "display_name": "venv",
   "language": "python",
   "name": "python3"
  },
  "language_info": {
   "codemirror_mode": {
    "name": "ipython",
    "version": 3
   },
   "file_extension": ".py",
   "mimetype": "text/x-python",
   "name": "python",
   "nbconvert_exporter": "python",
   "pygments_lexer": "ipython3",
   "version": "3.11.6"
  },
  "orig_nbformat": 4
 },
 "nbformat": 4,
 "nbformat_minor": 2
}

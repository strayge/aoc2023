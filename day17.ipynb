{
 "cells": [
  {
   "cell_type": "code",
   "execution_count": 1,
   "metadata": {},
   "outputs": [],
   "source": [
    "from common import *\n",
    "from structures import *\n",
    "\n",
    "DAY = 17"
   ]
  },
  {
   "cell_type": "code",
   "execution_count": 2,
   "metadata": {},
   "outputs": [
    {
     "data": {
      "text/markdown": [
       "<article class=\"day-desc\"><h2>--- Day 17: Clumsy Crucible ---</h2><p>The lava starts flowing rapidly once the Lava Production Facility is operational. As you <span title=\"see you soon?\">leave</span>, the reindeer offers you a parachute, allowing you to quickly reach Gear Island.</p>\n",
       "<p>As you descend, your bird's-eye view of Gear Island reveals why you had trouble finding anyone on your way up: half of Gear Island is empty, but the half below you is a giant factory city!</p>\n",
       "<p>You land near the gradually-filling pool of lava at the base of your new <em>lavafall</em>. Lavaducts will eventually carry the lava throughout the city, but to make use of it immediately, Elves are loading it into large <a href=\"https://en.wikipedia.org/wiki/Crucible\" target=\"_blank\">crucibles</a> on wheels.</p>\n",
       "<p>The crucibles are top-heavy and pushed by hand. Unfortunately, the crucibles become very difficult to steer at high speeds, and so it can be hard to go in a straight line for very long.</p>\n",
       "<p>To get Desert Island the machine parts it needs as soon as possible, you'll need to find the best way to get the crucible <em>from the lava pool to the machine parts factory</em>. To do this, you need to minimize <em>heat loss</em> while choosing a route that doesn't require the crucible to go in a <em>straight line</em> for too long.</p>\n",
       "<p>Fortunately, the Elves here have a map (your puzzle input) that uses traffic patterns, ambient temperature, and hundreds of other parameters to calculate exactly how much heat loss can be expected for a crucible entering any particular city block.</p>\n",
       "<p>For example:</p>\n",
       "<pre><code>2413432311323\n",
       "3215453535623\n",
       "3255245654254\n",
       "3446585845452\n",
       "4546657867536\n",
       "1438598798454\n",
       "4457876987766\n",
       "3637877979653\n",
       "4654967986887\n",
       "4564679986453\n",
       "1224686865563\n",
       "2546548887735\n",
       "4322674655533\n",
       "</code></pre>\n",
       "<p>Each city block is marked by a single digit that represents the <em>amount of heat loss if the crucible enters that block</em>. The starting point, the lava pool, is the top-left city block; the destination, the machine parts factory, is the bottom-right city block. (Because you already start in the top-left block, you don't incur that block's heat loss unless you leave that block and then return to it.)</p>\n",
       "<p>Because it is difficult to keep the top-heavy crucible going in a straight line for very long, it can move <em>at most three blocks</em> in a single direction before it must turn 90 degrees left or right. The crucible also can't reverse direction; after entering each city block, it may only turn left, continue straight, or turn right.</p>\n",
       "<p>One way to <em>minimize heat loss</em> is this path:</p>\n",
       "<pre><code>2<em>&gt;</em><em>&gt;</em>34<em>^</em><em>&gt;</em><em>&gt;</em><em>&gt;</em>1323\n",
       "32<em>v</em><em>&gt;</em><em>&gt;</em><em>&gt;</em>35<em>v</em>5623\n",
       "32552456<em>v</em><em>&gt;</em><em>&gt;</em>54\n",
       "3446585845<em>v</em>52\n",
       "4546657867<em>v</em><em>&gt;</em>6\n",
       "14385987984<em>v</em>4\n",
       "44578769877<em>v</em>6\n",
       "36378779796<em>v</em><em>&gt;</em>\n",
       "465496798688<em>v</em>\n",
       "456467998645<em>v</em>\n",
       "12246868655<em>&lt;</em><em>v</em>\n",
       "25465488877<em>v</em>5\n",
       "43226746555<em>v</em><em>&gt;</em>\n",
       "</code></pre>\n",
       "<p>This path never moves more than three consecutive blocks in the same direction and incurs a heat loss of only <code><em>102</em></code>.</p>\n",
       "<p>Directing the crucible from the lava pool to the machine parts factory, but not moving more than three consecutive blocks in the same direction, <em>what is the least heat loss it can incur?</em></p>\n",
       "</article>"
      ],
      "text/plain": [
       "<IPython.core.display.Markdown object>"
      ]
     },
     "metadata": {},
     "output_type": "display_data"
    }
   ],
   "source": [
    "show_task(DAY)"
   ]
  },
  {
   "cell_type": "code",
   "execution_count": 41,
   "metadata": {},
   "outputs": [],
   "source": [
    "lines = get_test_input_lines(DAY)"
   ]
  },
  {
   "cell_type": "code",
   "execution_count": 51,
   "metadata": {},
   "outputs": [],
   "source": [
    "lines = get_input_lines(DAY)"
   ]
  },
  {
   "cell_type": "code",
   "execution_count": 52,
   "metadata": {},
   "outputs": [],
   "source": [
    "vmap = Map.from_object(lines)\n",
    "for y in range(vmap.h):\n",
    "    for x in range(vmap.w):\n",
    "        vmap.map[y][x] = int(vmap.map[y][x])\n",
    "# vmap.show()"
   ]
  },
  {
   "cell_type": "code",
   "execution_count": 53,
   "metadata": {},
   "outputs": [
    {
     "name": "stdout",
     "output_type": "stream",
     "text": [
      "i=37\n"
     ]
    }
   ],
   "source": [
    "pmap = Map(vmap.h, vmap.w)\n",
    "for y in range(pmap.h):\n",
    "    for x in range(pmap.w):\n",
    "        pmap.map[y][x] = {'r': -1, 'l': -1, 'd': -1, 'u': -1}\n",
    "pmap.map[0][0] = {'r': 0, 'l': 0, 'd': 0, 'u': 0}\n",
    "\n",
    "def step(pmap: Map, vmap: Map) -> bool:\n",
    "    any_change = False\n",
    "    for y, line in enumerate(pmap.map):\n",
    "        for x, value_dict in enumerate(line):\n",
    "            for direction, value in value_dict.items():\n",
    "                if value == -1:\n",
    "                    continue\n",
    "                for dy, dx, new_direction in [\n",
    "                    (0, 1, 'r'), (0, -1, 'l'), (1, 0, 'd'), (-1, 0, 'u'),\n",
    "                    (0, 2, 'r'), (0, -2, 'l'), (2, 0, 'd'), (-2, 0, 'u'),\n",
    "                    (0, 3, 'r'), (0, -3, 'l'), (3, 0, 'd'), (-3, 0, 'u')\n",
    "                ]:\n",
    "                    if direction == new_direction:\n",
    "                        continue\n",
    "                    if direction == 'r' and new_direction == 'l':\n",
    "                        continue\n",
    "                    if direction == 'l' and new_direction == 'r':\n",
    "                        continue\n",
    "                    if direction == 'd' and new_direction == 'u':\n",
    "                        continue\n",
    "                    if direction == 'u' and new_direction == 'd':\n",
    "                        continue\n",
    "                    new_y, new_x = y + dy, x + dx\n",
    "                    if new_x < 0 or new_x >= pmap.w or new_y < 0 or new_y >= pmap.h:\n",
    "                        continue\n",
    "                    new_value_dict = pmap.map[new_y][new_x]\n",
    "                    new_value = new_value_dict[new_direction]\n",
    "                    # print(f'{x=}, {y=}, {dx=}, {dy=}, {new_x=}, {new_y=}')\n",
    "                    if dx == 0:\n",
    "                        if dy < 0:\n",
    "                            sum_calc = sum([line[x] for line in vmap.map[y + dy:y]])\n",
    "                        else:\n",
    "                            sum_calc = sum([line[x] for line in vmap.map[y + 1:y + dy + 1]])\n",
    "                    else:\n",
    "                        if dx < 0:\n",
    "                            sum_calc = sum(vmap.map[y][x + dx:x])\n",
    "                        else:\n",
    "                            sum_calc = sum(vmap.map[y][x + 1:x + dx + 1])\n",
    "\n",
    "                    new_value_calculated = value + sum_calc\n",
    "\n",
    "                    if new_value == -1 or new_value_calculated < new_value:\n",
    "                        # print(f'{x=} {y=} {dx=} {dy=}, {new_x=} {new_y=}, {value} + {sum_calc} = {new_value_calculated}, {new_value}')\n",
    "                        # print(f'{x=}, {y=}, {dx=}, {dy=}, {new_x=}, {new_y=}, {new_value_calced=}, {new_value_tuple=}')\n",
    "                        pmap.map[new_y][new_x][new_direction] = new_value_calculated\n",
    "                        any_change = True\n",
    "    return any_change\n",
    "\n",
    "def show(map: Map):\n",
    "    for line in map.map:\n",
    "        for value in line:\n",
    "            value_str = ','.join([f'{v}{k}' for k,v in value.items()])\n",
    "            print(f'{value_str:20} ', end='')\n",
    "        print()\n",
    "\n",
    "i = 0\n",
    "while step(pmap, vmap):\n",
    "    i += 1\n",
    "    # break\n",
    "print(f'{i=}')\n",
    "\n",
    "# show(pmap)"
   ]
  },
  {
   "cell_type": "code",
   "execution_count": 54,
   "metadata": {},
   "outputs": [
    {
     "name": "stdout",
     "output_type": "stream",
     "text": [
      "1110\n"
     ]
    }
   ],
   "source": [
    "result = min([v for v in pmap.map[-1][-1].values() if v != -1])\n",
    "print(result)"
   ]
  },
  {
   "cell_type": "code",
   "execution_count": 55,
   "metadata": {},
   "outputs": [
    {
     "data": {
      "text/plain": [
       "\"That's the right answer!  You are one gold star closer to restoring snow operations. [Continue to Part Two] (solved in 95:29)\""
      ]
     },
     "execution_count": 55,
     "metadata": {},
     "output_type": "execute_result"
    }
   ],
   "source": [
    "send_result(DAY, 1, result)"
   ]
  },
  {
   "cell_type": "code",
   "execution_count": 56,
   "metadata": {},
   "outputs": [
    {
     "data": {
      "text/markdown": [
       "<article class=\"day-desc\"><h2 id=\"part2\">--- Part Two ---</h2><p>The crucibles of lava simply aren't large enough to provide an adequate supply of lava to the machine parts factory. Instead, the Elves are going to upgrade to <em>ultra crucibles</em>.</p>\n",
       "<p>Ultra crucibles are even more difficult to steer than normal crucibles. Not only do they have trouble going in a straight line, but they also have trouble turning!</p>\n",
       "<p>Once an ultra crucible starts moving in a direction, it needs to move <em>a minimum of four blocks</em> in that direction before it can turn (or even before it can stop at the end). However, it will eventually start to get wobbly: an ultra crucible can move a maximum of <em>ten consecutive blocks</em> without turning.</p>\n",
       "<p>In the above example, an ultra crucible could follow this path to minimize heat loss:</p>\n",
       "<pre><code>2<em>&gt;</em><em>&gt;</em><em>&gt;</em><em>&gt;</em><em>&gt;</em><em>&gt;</em><em>&gt;</em><em>&gt;</em>1323\n",
       "32154535<em>v</em>5623\n",
       "32552456<em>v</em>4254\n",
       "34465858<em>v</em>5452\n",
       "45466578<em>v</em><em>&gt;</em><em>&gt;</em><em>&gt;</em><em>&gt;</em>\n",
       "143859879845<em>v</em>\n",
       "445787698776<em>v</em>\n",
       "363787797965<em>v</em>\n",
       "465496798688<em>v</em>\n",
       "456467998645<em>v</em>\n",
       "122468686556<em>v</em>\n",
       "254654888773<em>v</em>\n",
       "432267465553<em>v</em>\n",
       "</code></pre>\n",
       "<p>In the above example, an ultra crucible would incur the minimum possible heat loss of <code><em>94</em></code>.</p>\n",
       "<p>Here's another example:</p>\n",
       "<pre><code>111111111111\n",
       "999999999991\n",
       "999999999991\n",
       "999999999991\n",
       "999999999991\n",
       "</code></pre>\n",
       "<p>Sadly, an ultra crucible would need to take an unfortunate path like this one:</p>\n",
       "<pre><code>1<em>&gt;</em><em>&gt;</em><em>&gt;</em><em>&gt;</em><em>&gt;</em><em>&gt;</em><em>&gt;</em>1111\n",
       "9999999<em>v</em>9991\n",
       "9999999<em>v</em>9991\n",
       "9999999<em>v</em>9991\n",
       "9999999<em>v</em><em>&gt;</em><em>&gt;</em><em>&gt;</em><em>&gt;</em>\n",
       "</code></pre>\n",
       "<p>This route causes the ultra crucible to incur the minimum possible heat loss of <code><em>71</em></code>.</p>\n",
       "<p>Directing the <em>ultra crucible</em> from the lava pool to the machine parts factory, <em>what is the least heat loss it can incur?</em></p>\n",
       "</article>"
      ],
      "text/plain": [
       "<IPython.core.display.Markdown object>"
      ]
     },
     "metadata": {},
     "output_type": "display_data"
    }
   ],
   "source": [
    "show_task(DAY, 2)"
   ]
  },
  {
   "cell_type": "code",
   "execution_count": 57,
   "metadata": {},
   "outputs": [],
   "source": [
    "lines = get_test_input_lines(DAY)"
   ]
  },
  {
   "cell_type": "code",
   "execution_count": 64,
   "metadata": {},
   "outputs": [],
   "source": [
    "lines = get_input_lines(DAY)"
   ]
  },
  {
   "cell_type": "code",
   "execution_count": 65,
   "metadata": {},
   "outputs": [],
   "source": [
    "vmap = Map.from_object(lines)\n",
    "for y in range(vmap.h):\n",
    "    for x in range(vmap.w):\n",
    "        vmap.map[y][x] = int(vmap.map[y][x])\n",
    "# vmap.show()"
   ]
  },
  {
   "cell_type": "code",
   "execution_count": 66,
   "metadata": {},
   "outputs": [
    {
     "name": "stdout",
     "output_type": "stream",
     "text": [
      "i=11\n"
     ]
    }
   ],
   "source": [
    "pmap = Map(vmap.h, vmap.w)\n",
    "for y in range(pmap.h):\n",
    "    for x in range(pmap.w):\n",
    "        pmap.map[y][x] = {'r': -1, 'l': -1, 'd': -1, 'u': -1}\n",
    "pmap.map[0][0] = {'r': 0, 'l': 0, 'd': 0, 'u': 0}\n",
    "\n",
    "def step(pmap: Map, vmap: Map) -> bool:\n",
    "    any_change = False\n",
    "    for y, line in enumerate(pmap.map):\n",
    "        for x, value_dict in enumerate(line):\n",
    "            for direction, value in value_dict.items():\n",
    "                if value == -1:\n",
    "                    continue\n",
    "                for dy, dx, new_direction in [\n",
    "                    (0, 4, 'r'), (0, -4, 'l'), (4, 0, 'd'), (-4, 0, 'u'),\n",
    "                    (0, 5, 'r'), (0, -5, 'l'), (5, 0, 'd'), (-5, 0, 'u'),\n",
    "                    (0, 6, 'r'), (0, -6, 'l'), (6, 0, 'd'), (-6, 0, 'u'),\n",
    "                    (0, 7, 'r'), (0, -7, 'l'), (7, 0, 'd'), (-7, 0, 'u'),\n",
    "                    (0, 8, 'r'), (0, -8, 'l'), (8, 0, 'd'), (-8, 0, 'u'),\n",
    "                    (0, 9, 'r'), (0, -9, 'l'), (9, 0, 'd'), (-9, 0, 'u'),\n",
    "                    (0, 10, 'r'), (0, -10, 'l'), (10, 0, 'd'), (-10, 0, 'u'),\n",
    "                ]:\n",
    "                    if direction == new_direction:\n",
    "                        continue\n",
    "                    if direction == 'r' and new_direction == 'l':\n",
    "                        continue\n",
    "                    if direction == 'l' and new_direction == 'r':\n",
    "                        continue\n",
    "                    if direction == 'd' and new_direction == 'u':\n",
    "                        continue\n",
    "                    if direction == 'u' and new_direction == 'd':\n",
    "                        continue\n",
    "                    new_y, new_x = y + dy, x + dx\n",
    "                    if new_x < 0 or new_x >= pmap.w or new_y < 0 or new_y >= pmap.h:\n",
    "                        continue\n",
    "                    new_value_dict = pmap.map[new_y][new_x]\n",
    "                    new_value = new_value_dict[new_direction]\n",
    "                    if dx == 0:\n",
    "                        if dy < 0:\n",
    "                            sum_calc = sum([line[x] for line in vmap.map[y + dy:y]])\n",
    "                        else:\n",
    "                            sum_calc = sum([line[x] for line in vmap.map[y + 1:y + dy + 1]])\n",
    "                    else:\n",
    "                        if dx < 0:\n",
    "                            sum_calc = sum(vmap.map[y][x + dx:x])\n",
    "                        else:\n",
    "                            sum_calc = sum(vmap.map[y][x + 1:x + dx + 1])\n",
    "\n",
    "                    new_value_calculated = value + sum_calc\n",
    "\n",
    "                    if new_value == -1 or new_value_calculated < new_value:\n",
    "                        pmap.map[new_y][new_x][new_direction] = new_value_calculated\n",
    "                        any_change = True\n",
    "    return any_change\n",
    "\n",
    "def show(map: Map):\n",
    "    for line in map.map:\n",
    "        for value in line:\n",
    "            value_str = ','.join([f'{v}{k}' for k,v in value.items()])\n",
    "            print(f'{value_str:20} ', end='')\n",
    "        print()\n",
    "\n",
    "i = 0\n",
    "while step(pmap, vmap):\n",
    "    i += 1\n",
    "    # break\n",
    "print(f'{i=}')\n",
    "\n",
    "# show(pmap)"
   ]
  },
  {
   "cell_type": "code",
   "execution_count": 67,
   "metadata": {},
   "outputs": [
    {
     "name": "stdout",
     "output_type": "stream",
     "text": [
      "1294\n"
     ]
    }
   ],
   "source": [
    "result = min([v for v in pmap.map[-1][-1].values() if v != -1])\n",
    "print(result)"
   ]
  },
  {
   "cell_type": "code",
   "execution_count": 68,
   "metadata": {},
   "outputs": [
    {
     "data": {
      "text/plain": [
       "\"That's the right answer!  You are one gold star closer to restoring snow operations.You have completed Day 17! (solved in 05:27)\""
      ]
     },
     "execution_count": 68,
     "metadata": {},
     "output_type": "execute_result"
    }
   ],
   "source": [
    "send_result(DAY, 2, result)"
   ]
  },
  {
   "cell_type": "code",
   "execution_count": null,
   "metadata": {},
   "outputs": [],
   "source": []
  }
 ],
 "metadata": {
  "kernelspec": {
   "display_name": "venv",
   "language": "python",
   "name": "python3"
  },
  "language_info": {
   "codemirror_mode": {
    "name": "ipython",
    "version": 3
   },
   "file_extension": ".py",
   "mimetype": "text/x-python",
   "name": "python",
   "nbconvert_exporter": "python",
   "pygments_lexer": "ipython3",
   "version": "3.11.7"
  },
  "orig_nbformat": 4
 },
 "nbformat": 4,
 "nbformat_minor": 2
}

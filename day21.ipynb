{
 "cells": [
  {
   "cell_type": "code",
   "execution_count": 1,
   "metadata": {},
   "outputs": [],
   "source": [
    "from common import *\n",
    "from structures import *\n",
    "\n",
    "DAY = 21"
   ]
  },
  {
   "cell_type": "code",
   "execution_count": 2,
   "metadata": {},
   "outputs": [
    {
     "data": {
      "text/markdown": [
       "<article class=\"day-desc\"><h2>--- Day 21: Step Counter ---</h2><p>You manage to catch the <a href=\"7\">airship</a> right as it's dropping someone else off on their all-expenses-paid trip to Desert Island! It even helpfully drops you off near the <a href=\"5\">gardener</a> and his massive farm.</p>\n",
       "<p>\"You got the sand flowing again! Great work! Now we just need to wait until we have enough sand to filter the water for Snow Island and we'll have snow again in no time.\"</p>\n",
       "<p>While you wait, one of the Elves that works with the gardener heard how good you are at solving problems and would like your help. He needs to get his <a href=\"https://en.wikipedia.org/wiki/Pedometer\" target=\"_blank\">steps</a> in for the day, and so he'd like to know <em>which garden plots he can reach with exactly his remaining <code>64</code> steps</em>.</p>\n",
       "<p>He gives you an up-to-date map (your puzzle input) of his starting position (<code>S</code>), garden plots (<code>.</code>), and rocks (<code>#</code>). For example:</p>\n",
       "<pre><code>...........\n",
       ".....###.#.\n",
       ".###.##..#.\n",
       "..#.#...#..\n",
       "....#.#....\n",
       ".##..S####.\n",
       ".##..#...#.\n",
       ".......##..\n",
       ".##.#.####.\n",
       ".##..##.##.\n",
       "...........\n",
       "</code></pre>\n",
       "<p>The Elf starts at the starting position (<code>S</code>) which also counts as a garden plot. Then, he can take one step north, south, east, or west, but only onto tiles that are garden plots. This would allow him to reach any of the tiles marked <code>O</code>:</p>\n",
       "<pre><code>...........\n",
       ".....###.#.\n",
       ".###.##..#.\n",
       "..#.#...#..\n",
       "....#O#....\n",
       ".##.OS####.\n",
       ".##..#...#.\n",
       ".......##..\n",
       ".##.#.####.\n",
       ".##..##.##.\n",
       "...........\n",
       "</code></pre>\n",
       "<p>Then, he takes a second step. Since at this point he could be at <em>either</em> tile marked <code>O</code>, his second step would allow him to reach any garden plot that is one step north, south, east, or west of <em>any</em> tile that he could have reached after the first step:</p>\n",
       "<pre><code>...........\n",
       ".....###.#.\n",
       ".###.##..#.\n",
       "..#.#O..#..\n",
       "....#.#....\n",
       ".##O.O####.\n",
       ".##.O#...#.\n",
       ".......##..\n",
       ".##.#.####.\n",
       ".##..##.##.\n",
       "...........\n",
       "</code></pre>\n",
       "<p>After two steps, he could be at any of the tiles marked <code>O</code> above, including the starting position (either by going north-then-south or by going west-then-east).</p>\n",
       "<p>A single third step leads to even more possibilities:</p>\n",
       "<pre><code>...........\n",
       ".....###.#.\n",
       ".###.##..#.\n",
       "..#.#.O.#..\n",
       "...O#O#....\n",
       ".##.OS####.\n",
       ".##O.#...#.\n",
       "....O..##..\n",
       ".##.#.####.\n",
       ".##..##.##.\n",
       "...........\n",
       "</code></pre>\n",
       "<p>He will continue like this until his steps for the day have been exhausted. After a total of <code>6</code> steps, he could reach any of the garden plots marked <code>O</code>:</p>\n",
       "<pre><code>...........\n",
       ".....###.#.\n",
       ".###.##.O#.\n",
       ".O#O#O.O#..\n",
       "O.O.#.#.O..\n",
       ".##O.O####.\n",
       ".##.O#O..#.\n",
       ".O.O.O.##..\n",
       ".##.#.####.\n",
       ".##O.##.##.\n",
       "...........\n",
       "</code></pre>\n",
       "<p>In this example, if the Elf's goal was to get exactly <code>6</code> more steps today, he could use them to reach any of <code><em>16</em></code> garden plots.</p>\n",
       "<p>However, the Elf <em>actually needs to get <code>64</code> steps today</em>, and the map he's handed you is much larger than the example map.</p>\n",
       "<p>Starting from the garden plot marked <code>S</code> on your map, <em>how many garden plots could the Elf reach in exactly <code>64</code> steps?</em></p>\n",
       "</article>"
      ],
      "text/plain": [
       "<IPython.core.display.Markdown object>"
      ]
     },
     "metadata": {},
     "output_type": "display_data"
    }
   ],
   "source": [
    "show_task(DAY)"
   ]
  },
  {
   "cell_type": "code",
   "execution_count": 22,
   "metadata": {},
   "outputs": [],
   "source": [
    "lines = get_test_input_lines(DAY)"
   ]
  },
  {
   "cell_type": "code",
   "execution_count": 25,
   "metadata": {},
   "outputs": [],
   "source": [
    "lines = get_input_lines(DAY)"
   ]
  },
  {
   "cell_type": "code",
   "execution_count": 26,
   "metadata": {},
   "outputs": [],
   "source": [
    "map = Map.from_object(lines)"
   ]
  },
  {
   "cell_type": "code",
   "execution_count": 27,
   "metadata": {},
   "outputs": [
    {
     "name": "stdout",
     "output_type": "stream",
     "text": [
      "3716\n"
     ]
    }
   ],
   "source": [
    "pmap = Map(map.h, map.w)\n",
    "start_y, start_x = map.find_value('S')\n",
    "pmap.map[start_y][start_x] = 0\n",
    "\n",
    "def condition(y, x, value, new_y, new_x, new_value) -> bool:\n",
    "    if map.map[new_y][new_x] == '#':\n",
    "        return False\n",
    "    return True\n",
    "\n",
    "limit = 64\n",
    "for i in range(limit):\n",
    "    pmap.calc_inc_step(condition)\n",
    "\n",
    "# pmap.show()\n",
    "\n",
    "result = 0\n",
    "for y in range(pmap.h):\n",
    "    for x in range(pmap.w):\n",
    "        value = pmap.map[y][x]\n",
    "        if value == -1:\n",
    "            continue\n",
    "        if value > limit:\n",
    "            continue\n",
    "        if value % 2 == 0:\n",
    "            result += 1\n",
    "\n",
    "print(result)\n"
   ]
  },
  {
   "cell_type": "code",
   "execution_count": 28,
   "metadata": {},
   "outputs": [
    {
     "data": {
      "text/plain": [
       "\"That's the right answer!  You are one gold star closer to restoring snow operations. [Continue to Part Two] (solved in 29:12)\""
      ]
     },
     "execution_count": 28,
     "metadata": {},
     "output_type": "execute_result"
    }
   ],
   "source": [
    "send_result(DAY, 1, result)"
   ]
  },
  {
   "cell_type": "code",
   "execution_count": 29,
   "metadata": {},
   "outputs": [
    {
     "data": {
      "text/markdown": [
       "<article class=\"day-desc\"><h2 id=\"part2\">--- Part Two ---</h2><p>The Elf seems confused by your answer until he realizes his mistake: he was reading from a <span title=\"Next up: 729.\">list</span> of his favorite numbers that are both perfect squares and perfect cubes, not his step counter.</p>\n",
       "<p>The <em>actual</em> number of steps he needs to get today is exactly <code><em>26501365</em></code>.</p>\n",
       "<p>He also points out that the garden plots and rocks are set up so that the map <em>repeats infinitely</em> in every direction.</p>\n",
       "<p>So, if you were to look one additional map-width or map-height out from the edge of the example map above, you would find that it keeps repeating:</p>\n",
       "<pre><code>.................................\n",
       ".....###.#......###.#......###.#.\n",
       ".###.##..#..###.##..#..###.##..#.\n",
       "..#.#...#....#.#...#....#.#...#..\n",
       "....#.#........#.#........#.#....\n",
       ".##...####..##...####..##...####.\n",
       ".##..#...#..##..#...#..##..#...#.\n",
       ".......##.........##.........##..\n",
       ".##.#.####..##.#.####..##.#.####.\n",
       ".##..##.##..##..##.##..##..##.##.\n",
       ".................................\n",
       ".................................\n",
       ".....###.#......###.#......###.#.\n",
       ".###.##..#..###.##..#..###.##..#.\n",
       "..#.#...#....#.#...#....#.#...#..\n",
       "....#.#........#.#........#.#....\n",
       ".##...####..##..S####..##...####.\n",
       ".##..#...#..##..#...#..##..#...#.\n",
       ".......##.........##.........##..\n",
       ".##.#.####..##.#.####..##.#.####.\n",
       ".##..##.##..##..##.##..##..##.##.\n",
       ".................................\n",
       ".................................\n",
       ".....###.#......###.#......###.#.\n",
       ".###.##..#..###.##..#..###.##..#.\n",
       "..#.#...#....#.#...#....#.#...#..\n",
       "....#.#........#.#........#.#....\n",
       ".##...####..##...####..##...####.\n",
       ".##..#...#..##..#...#..##..#...#.\n",
       ".......##.........##.........##..\n",
       ".##.#.####..##.#.####..##.#.####.\n",
       ".##..##.##..##..##.##..##..##.##.\n",
       ".................................\n",
       "</code></pre>\n",
       "<p>This is just a tiny three-map-by-three-map slice of the inexplicably-infinite farm layout; garden plots and rocks repeat as far as you can see. The Elf still starts on the one middle tile marked <code>S</code>, though - every other repeated <code>S</code> is replaced with a normal garden plot (<code>.</code>).</p>\n",
       "<p>Here are the number of reachable garden plots in this new infinite version of the example map for different numbers of steps:</p>\n",
       "<ul>\n",
       "<li>In exactly <code>6</code> steps, he can still reach <code><em>16</em></code> garden plots.</li>\n",
       "<li>In exactly <code>10</code> steps, he can reach any of <code><em>50</em></code> garden plots.</li>\n",
       "<li>In exactly <code>50</code> steps, he can reach <code><em>1594</em></code> garden plots.</li>\n",
       "<li>In exactly <code>100</code> steps, he can reach <code><em>6536</em></code> garden plots.</li>\n",
       "<li>In exactly <code>500</code> steps, he can reach <code><em>167004</em></code> garden plots.</li>\n",
       "<li>In exactly <code>1000</code> steps, he can reach <code><em>668697</em></code> garden plots.</li>\n",
       "<li>In exactly <code>5000</code> steps, he can reach <code><em>16733044</em></code> garden plots.</li>\n",
       "</ul>\n",
       "<p>However, the step count the Elf needs is much larger! Starting from the garden plot marked <code>S</code> on your infinite map, <em>how many garden plots could the Elf reach in exactly <code>26501365</code> steps?</em></p>\n",
       "</article>"
      ],
      "text/plain": [
       "<IPython.core.display.Markdown object>"
      ]
     },
     "metadata": {},
     "output_type": "display_data"
    }
   ],
   "source": [
    "show_task(DAY, 2)"
   ]
  },
  {
   "cell_type": "code",
   "execution_count": null,
   "metadata": {},
   "outputs": [],
   "source": [
    "lines = get_test_input_lines(DAY)"
   ]
  },
  {
   "cell_type": "code",
   "execution_count": null,
   "metadata": {},
   "outputs": [],
   "source": [
    "lines = get_input_lines(DAY)"
   ]
  },
  {
   "cell_type": "code",
   "execution_count": null,
   "metadata": {},
   "outputs": [],
   "source": []
  },
  {
   "cell_type": "code",
   "execution_count": null,
   "metadata": {},
   "outputs": [],
   "source": []
  },
  {
   "cell_type": "code",
   "execution_count": null,
   "metadata": {},
   "outputs": [],
   "source": []
  },
  {
   "cell_type": "code",
   "execution_count": null,
   "metadata": {},
   "outputs": [],
   "source": []
  },
  {
   "cell_type": "code",
   "execution_count": null,
   "metadata": {},
   "outputs": [],
   "source": [
    "send_result(DAY, 2, result)"
   ]
  }
 ],
 "metadata": {
  "kernelspec": {
   "display_name": "venv",
   "language": "python",
   "name": "python3"
  },
  "language_info": {
   "codemirror_mode": {
    "name": "ipython",
    "version": 3
   },
   "file_extension": ".py",
   "mimetype": "text/x-python",
   "name": "python",
   "nbconvert_exporter": "python",
   "pygments_lexer": "ipython3",
   "version": "3.11.7"
  },
  "orig_nbformat": 4
 },
 "nbformat": 4,
 "nbformat_minor": 2
}

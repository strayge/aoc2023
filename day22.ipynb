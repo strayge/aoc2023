{
 "cells": [
  {
   "cell_type": "code",
   "execution_count": 1,
   "metadata": {},
   "outputs": [],
   "source": [
    "from common import *\n",
    "from structures import *\n",
    "\n",
    "DAY = 22"
   ]
  },
  {
   "cell_type": "code",
   "execution_count": 2,
   "metadata": {},
   "outputs": [
    {
     "data": {
      "text/markdown": [
       "<article class=\"day-desc\"><h2>--- Day 22: Sand Slabs ---</h2><p>Enough sand has fallen; it can finally filter water for Snow Island.</p>\n",
       "<p>Well, <em>almost</em>.</p>\n",
       "<p>The sand has been falling as large compacted <em>bricks</em> of sand, piling up to form an impressive stack here near the edge of Island Island. In order to make use of the sand to filter water, some of the bricks will need to be broken apart - nay, <em><span title=\"Disintegrate - X,R\n",
       "Sorcery\n",
       "Destroy X target bricks of sand. They cannot be regenerated. Create 32768 0/1 colorless Sand artifact creature tokens for each brick of sand destroyed in this way.\">disintegrated</span></em> - back into freely flowing sand.</p>\n",
       "<p>The stack is tall enough that you'll have to be careful about choosing which bricks to disintegrate; if you disintegrate the wrong brick, large portions of the stack could topple, which sounds pretty dangerous.</p>\n",
       "<p>The Elves responsible for water filtering operations took a <em>snapshot of the bricks while they were still falling</em> (your puzzle input) which should let you work out which bricks are safe to disintegrate. For example:</p>\n",
       "<pre><code>1,0,1~1,2,1\n",
       "0,0,2~2,0,2\n",
       "0,2,3~2,2,3\n",
       "0,0,4~0,2,4\n",
       "2,0,5~2,2,5\n",
       "0,1,6~2,1,6\n",
       "1,1,8~1,1,9\n",
       "</code></pre>\n",
       "<p>Each line of text in the snapshot represents the position of a single brick at the time the snapshot was taken. The position is given as two <code>x,y,z</code> coordinates - one for each end of the brick - separated by a tilde (<code>~</code>). Each brick is made up of a single straight line of cubes, and the Elves were even careful to choose a time for the snapshot that had all of the free-falling bricks at <em>integer positions above the ground</em>, so the whole snapshot is aligned to a three-dimensional cube grid.</p>\n",
       "<p>A line like <code>2,2,2~2,2,2</code> means that both ends of the brick are at the same coordinate - in other words, that the brick is a single cube.</p>\n",
       "<p>Lines like <code>0,0,10~1,0,10</code> or <code>0,0,10~0,1,10</code> both represent bricks that are <em>two cubes</em> in volume, both oriented horizontally. The first brick extends in the <code>x</code> direction, while the second brick extends in the <code>y</code> direction.</p>\n",
       "<p>A line like <code>0,0,1~0,0,10</code> represents a <em>ten-cube brick</em> which is oriented <em>vertically</em>. One end of the brick is the cube located at <code>0,0,1</code>, while the other end of the brick is located directly above it at <code>0,0,10</code>.</p>\n",
       "<p>The ground is at <code>z=0</code> and is perfectly flat; the lowest <code>z</code> value a brick can have is therefore <code>1</code>. So, <code>5,5,1~5,6,1</code> and <code>0,2,1~0,2,5</code> are both resting on the ground, but <code>3,3,2~3,3,3</code> was above the ground at the time of the snapshot.</p>\n",
       "<p>Because the snapshot was taken while the bricks were still falling, some bricks will <em>still be in the air</em>; you'll need to start by figuring out where they will end up. Bricks are magically stabilized, so they <em>never rotate</em>, even in weird situations like where a long horizontal brick is only supported on one end. Two bricks cannot occupy the same position, so a falling brick will come to rest upon the first other brick it encounters.</p>\n",
       "<p>Here is the same example again, this time with each brick given a letter so it can be marked in diagrams:</p>\n",
       "<pre><code>1,0,1~1,2,1   &lt;- A\n",
       "0,0,2~2,0,2   &lt;- B\n",
       "0,2,3~2,2,3   &lt;- C\n",
       "0,0,4~0,2,4   &lt;- D\n",
       "2,0,5~2,2,5   &lt;- E\n",
       "0,1,6~2,1,6   &lt;- F\n",
       "1,1,8~1,1,9   &lt;- G\n",
       "</code></pre>\n",
       "<p>At the time of the snapshot, from the side so the <code>x</code> axis goes left to right, these bricks are arranged like this:</p>\n",
       "<pre><code> x\n",
       "012\n",
       ".G. 9\n",
       ".G. 8\n",
       "... 7\n",
       "FFF 6\n",
       "..E 5 z\n",
       "D.. 4\n",
       "CCC 3\n",
       "BBB 2\n",
       ".A. 1\n",
       "--- 0\n",
       "</code></pre>\n",
       "<p>Rotating the perspective 90 degrees so the <code>y</code> axis now goes left to right, the same bricks are arranged like this:</p>\n",
       "<pre><code> y\n",
       "012\n",
       ".G. 9\n",
       ".G. 8\n",
       "... 7\n",
       ".F. 6\n",
       "EEE 5 z\n",
       "DDD 4\n",
       "..C 3\n",
       "B.. 2\n",
       "AAA 1\n",
       "--- 0\n",
       "</code></pre>\n",
       "<p>Once all of the bricks fall downward as far as they can go, the stack looks like this, where <code>?</code> means bricks are hidden behind other bricks at that location:</p>\n",
       "<pre><code> x\n",
       "012\n",
       ".G. 6\n",
       ".G. 5\n",
       "FFF 4\n",
       "D.E 3 z\n",
       "??? 2\n",
       ".A. 1\n",
       "--- 0\n",
       "</code></pre>\n",
       "<p>Again from the side:</p>\n",
       "<pre><code> y\n",
       "012\n",
       ".G. 6\n",
       ".G. 5\n",
       ".F. 4\n",
       "??? 3 z\n",
       "B.C 2\n",
       "AAA 1\n",
       "--- 0\n",
       "</code></pre>\n",
       "<p>Now that all of the bricks have settled, it becomes easier to tell which bricks are supporting which other bricks:</p>\n",
       "<ul>\n",
       "<li>Brick <code>A</code> is the only brick supporting bricks <code>B</code> and <code>C</code>.</li>\n",
       "<li>Brick <code>B</code> is one of two bricks supporting brick <code>D</code> and brick <code>E</code>.</li>\n",
       "<li>Brick <code>C</code> is the other brick supporting brick <code>D</code> and brick <code>E</code>.</li>\n",
       "<li>Brick <code>D</code> supports brick <code>F</code>.</li>\n",
       "<li>Brick <code>E</code> also supports brick <code>F</code>.</li>\n",
       "<li>Brick <code>F</code> supports brick <code>G</code>.</li>\n",
       "<li>Brick <code>G</code> isn't supporting any bricks.</li>\n",
       "</ul>\n",
       "<p>Your first task is to figure out <em>which bricks are safe to disintegrate</em>. A brick can be safely disintegrated if, after removing it, <em>no other bricks</em> would fall further directly downward. Don't actually disintegrate any bricks - just determine what would happen if, for each brick, only that brick were disintegrated. Bricks can be disintegrated even if they're completely surrounded by other bricks; you can squeeze between bricks if you need to.</p>\n",
       "<p>In this example, the bricks can be disintegrated as follows:</p>\n",
       "<ul>\n",
       "<li>Brick <code>A</code> cannot be disintegrated safely; if it were disintegrated, bricks <code>B</code> and <code>C</code> would both fall.</li>\n",
       "<li>Brick <code>B</code> <em>can</em> be disintegrated; the bricks above it (<code>D</code> and <code>E</code>) would still be supported by brick <code>C</code>.</li>\n",
       "<li>Brick <code>C</code> <em>can</em> be disintegrated; the bricks above it (<code>D</code> and <code>E</code>) would still be supported by brick <code>B</code>.</li>\n",
       "<li>Brick <code>D</code> <em>can</em> be disintegrated; the brick above it (<code>F</code>) would still be supported by brick <code>E</code>.</li>\n",
       "<li>Brick <code>E</code> <em>can</em> be disintegrated; the brick above it (<code>F</code>) would still be supported by brick <code>D</code>.</li>\n",
       "<li>Brick <code>F</code> cannot be disintegrated; the brick above it (<code>G</code>) would fall.</li>\n",
       "<li>Brick <code>G</code> <em>can</em> be disintegrated; it does not support any other bricks.</li>\n",
       "</ul>\n",
       "<p>So, in this example, <code><em>5</em></code> bricks can be safely disintegrated.</p>\n",
       "<p>Figure how the blocks will settle based on the snapshot. Once they've settled, consider disintegrating a single brick; <em>how many bricks could be safely chosen as the one to get disintegrated?</em></p>\n",
       "</article>"
      ],
      "text/plain": [
       "<IPython.core.display.Markdown object>"
      ]
     },
     "metadata": {},
     "output_type": "display_data"
    }
   ],
   "source": [
    "show_task(DAY)"
   ]
  },
  {
   "cell_type": "code",
   "execution_count": 43,
   "metadata": {},
   "outputs": [],
   "source": [
    "lines = get_test_input_lines(DAY, 1, 1)"
   ]
  },
  {
   "cell_type": "code",
   "execution_count": 45,
   "metadata": {},
   "outputs": [],
   "source": [
    "lines = get_input_lines(DAY)"
   ]
  },
  {
   "cell_type": "code",
   "execution_count": 59,
   "metadata": {},
   "outputs": [
    {
     "name": "stdout",
     "output_type": "stream",
     "text": [
      "434\n"
     ]
    }
   ],
   "source": [
    "from copy import deepcopy\n",
    "\n",
    "\n",
    "def parse_lines(lines):\n",
    "    parsed_lines = []\n",
    "    for line in lines:\n",
    "        part1, part2 = line.split('~')\n",
    "        x1,y1,z1 = part1.split(',')\n",
    "        x2,y2,z2 = part2.split(',')\n",
    "        parsed_lines.append(((int(x1),int(y1),int(z1)),(int(x2),int(y2),int(z2))))\n",
    "    return parsed_lines\n",
    "\n",
    "def parsed_lines_to_bricks(parsed_lines):\n",
    "    bricks = {}\n",
    "    for i, parsed_line in enumerate(parsed_lines, start=1):\n",
    "        (x1,y1,z1), (x2,y2,z2) = parsed_line\n",
    "        bricks[i] = []\n",
    "        if x1 != x2:\n",
    "            for x in range(min(x1,x2), max(x1,x2)+1):\n",
    "                bricks[i].append((x,y1,z1))\n",
    "        elif y1 != y2:\n",
    "            for y in range(min(y1,y2), max(y1,y2)+1):\n",
    "                bricks[i].append((x1,y,z1))\n",
    "        elif z1 != z2:\n",
    "            for z in range(min(z1,z2), max(z1,z2)+1):\n",
    "                bricks[i].append((x1,y1,z))\n",
    "        else:\n",
    "            bricks[i].append((x1,y1,z1))\n",
    "    return bricks\n",
    "\n",
    "def bricks_to_map(bricks):\n",
    "    max_x, max_y, max_z = 0,0,0\n",
    "    for points in bricks.values():\n",
    "        for x,y,z in points:\n",
    "            max_x = max(max_x, x)\n",
    "            max_y = max(max_y, y)\n",
    "            max_z = max(max_z, z)\n",
    "\n",
    "    map = []\n",
    "    for z in range(max_z+1):\n",
    "        zmap = []\n",
    "        for y in range(max_y+1):\n",
    "            ymap = []\n",
    "            for x in range(max_x+1):\n",
    "                ymap.append(0)\n",
    "            zmap.append(ymap)\n",
    "        map.append(zmap)\n",
    "\n",
    "    for i, brick in bricks.items():\n",
    "        for x,y,z in brick:\n",
    "            map[z][y][x] = i\n",
    "\n",
    "    return map\n",
    "\n",
    "def fall_bricks(bricks, full=True) -> bool:\n",
    "    map = bricks_to_map(bricks)\n",
    "    falled_bricks = set()\n",
    "    counter = 0\n",
    "    while True:\n",
    "        any_fall = False\n",
    "        for i, brick in bricks.items():\n",
    "            new_brick = []\n",
    "            for x,y,z in brick:\n",
    "                new_brick.append((x,y,z-1))\n",
    "            new_brick = sorted(new_brick, key=lambda xyz: xyz[2])\n",
    "            if all([z > 0 and map[z][y][x] in (0, i) for x,y,z in new_brick]):\n",
    "                any_fall = True\n",
    "                counter += 1\n",
    "                falled_bricks.add(i)\n",
    "                if not full:\n",
    "                    return True\n",
    "                # print(f'falling brick {i} from {brick} to {new_brick}')\n",
    "                for x,y,z in brick:\n",
    "                    map[z][y][x] = 0\n",
    "                    map[z-1][y][x] = i\n",
    "                bricks[i] = new_brick\n",
    "        if not any_fall:\n",
    "            break\n",
    "    return len(falled_bricks)\n",
    "\n",
    "parsed_lines = parse_lines(lines)\n",
    "bricks = parsed_lines_to_bricks(parsed_lines)\n",
    "fall_bricks(bricks)\n",
    "\n",
    "counter = 0\n",
    "for i in list(bricks.keys()):\n",
    "    new_bricks = deepcopy(bricks)\n",
    "    del new_bricks[i]\n",
    "    if not fall_bricks(new_bricks, False):\n",
    "        # print(f'brick {i} is not needed')\n",
    "        counter += 1\n",
    "print(counter)\n"
   ]
  },
  {
   "cell_type": "code",
   "execution_count": 57,
   "metadata": {},
   "outputs": [
    {
     "data": {
      "text/plain": [
       "\"That's the right answer!  You are one gold star closer to restoring snow operations. [Continue to Part Two] (solved in 75:19)\""
      ]
     },
     "execution_count": 57,
     "metadata": {},
     "output_type": "execute_result"
    }
   ],
   "source": [
    "send_result(DAY, 1, counter)"
   ]
  },
  {
   "cell_type": "code",
   "execution_count": 58,
   "metadata": {},
   "outputs": [
    {
     "data": {
      "text/markdown": [
       "<article class=\"day-desc\"><h2 id=\"part2\">--- Part Two ---</h2><p>Disintegrating bricks one at a time isn't going to be fast enough. While it might sound dangerous, what you really need is a <em>chain reaction</em>.</p>\n",
       "<p>You'll need to figure out the best brick to disintegrate. For each brick, determine how many <em>other bricks would fall</em> if that brick were disintegrated.</p>\n",
       "<p>Using the same example as above:</p>\n",
       "<ul>\n",
       "<li>Disintegrating brick <code>A</code> would cause all <code><em>6</em></code> other bricks to fall.</li>\n",
       "<li>Disintegrating brick <code>F</code> would cause only <code><em>1</em></code> other brick, <code>G</code>, to fall.</li>\n",
       "</ul>\n",
       "<p>Disintegrating any other brick would cause <em>no other bricks</em> to fall. So, in this example, the sum of <em>the number of other bricks that would fall</em> as a result of disintegrating each brick is <code><em>7</em></code>.</p>\n",
       "<p>For each brick, determine how many <em>other bricks</em> would fall if that brick were disintegrated. <em>What is the sum of the number of other bricks that would fall?</em></p>\n",
       "</article>"
      ],
      "text/plain": [
       "<IPython.core.display.Markdown object>"
      ]
     },
     "metadata": {},
     "output_type": "display_data"
    }
   ],
   "source": [
    "show_task(DAY, 2)"
   ]
  },
  {
   "cell_type": "code",
   "execution_count": null,
   "metadata": {},
   "outputs": [],
   "source": [
    "lines = get_test_input_lines(DAY)"
   ]
  },
  {
   "cell_type": "code",
   "execution_count": null,
   "metadata": {},
   "outputs": [],
   "source": [
    "lines = get_input_lines(DAY)"
   ]
  },
  {
   "cell_type": "code",
   "execution_count": 60,
   "metadata": {},
   "outputs": [
    {
     "name": "stdout",
     "output_type": "stream",
     "text": [
      "61209\n"
     ]
    }
   ],
   "source": [
    "counter = 0\n",
    "for i in list(bricks.keys()):\n",
    "    new_bricks = deepcopy(bricks)\n",
    "    del new_bricks[i]\n",
    "    counter += fall_bricks(new_bricks)\n",
    "print(counter)"
   ]
  },
  {
   "cell_type": "code",
   "execution_count": 61,
   "metadata": {},
   "outputs": [
    {
     "data": {
      "text/plain": [
       "\"That's the right answer!  You are one gold star closer to restoring snow operations.You have completed Day 22! (solved in 03:59)\""
      ]
     },
     "execution_count": 61,
     "metadata": {},
     "output_type": "execute_result"
    }
   ],
   "source": [
    "send_result(DAY, 2, counter)"
   ]
  },
  {
   "cell_type": "code",
   "execution_count": null,
   "metadata": {},
   "outputs": [],
   "source": []
  }
 ],
 "metadata": {
  "kernelspec": {
   "display_name": "venv",
   "language": "python",
   "name": "python3"
  },
  "language_info": {
   "codemirror_mode": {
    "name": "ipython",
    "version": 3
   },
   "file_extension": ".py",
   "mimetype": "text/x-python",
   "name": "python",
   "nbconvert_exporter": "python",
   "pygments_lexer": "ipython3",
   "version": "3.11.6"
  },
  "orig_nbformat": 4
 },
 "nbformat": 4,
 "nbformat_minor": 2
}

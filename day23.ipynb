{
 "cells": [
  {
   "cell_type": "code",
   "execution_count": 1,
   "metadata": {},
   "outputs": [],
   "source": [
    "from common import *\n",
    "from structures import *\n",
    "\n",
    "DAY = 23"
   ]
  },
  {
   "cell_type": "code",
   "execution_count": 2,
   "metadata": {},
   "outputs": [
    {
     "data": {
      "text/markdown": [
       "<article class=\"day-desc\"><h2>--- Day 23: A Long Walk ---</h2><p>The Elves resume water filtering operations! Clean water starts flowing over the edge of Island Island.</p>\n",
       "<p>They offer to help <em>you</em> go over the edge of Island Island, too! Just <span title=\"It'll be fiiiiiiiine.\">hold on tight</span> to one end of this impossibly long rope and they'll lower you down a safe distance from the massive waterfall you just created.</p>\n",
       "<p>As you finally reach Snow Island, you see that the water isn't really reaching the ground: it's being <em>absorbed by the air</em> itself. It looks like you'll finally have a little downtime while the moisture builds up to snow-producing levels. Snow Island is pretty scenic, even without any snow; why not take a walk?</p>\n",
       "<p>There's a map of nearby hiking trails (your puzzle input) that indicates <em>paths</em> (<code>.</code>), <em>forest</em> (<code>#</code>), and steep <em>slopes</em> (<code>^</code>, <code>&gt;</code>, <code>v</code>, and <code>&lt;</code>).</p>\n",
       "<p>For example:</p>\n",
       "<pre><code>#.#####################\n",
       "#.......#########...###\n",
       "#######.#########.#.###\n",
       "###.....#.&gt;.&gt;.###.#.###\n",
       "###v#####.#v#.###.#.###\n",
       "###.&gt;...#.#.#.....#...#\n",
       "###v###.#.#.#########.#\n",
       "###...#.#.#.......#...#\n",
       "#####.#.#.#######.#.###\n",
       "#.....#.#.#.......#...#\n",
       "#.#####.#.#.#########v#\n",
       "#.#...#...#...###...&gt;.#\n",
       "#.#.#v#######v###.###v#\n",
       "#...#.&gt;.#...&gt;.&gt;.#.###.#\n",
       "#####v#.#.###v#.#.###.#\n",
       "#.....#...#...#.#.#...#\n",
       "#.#########.###.#.#.###\n",
       "#...###...#...#...#.###\n",
       "###.###.#.###v#####v###\n",
       "#...#...#.#.&gt;.&gt;.#.&gt;.###\n",
       "#.###.###.#.###.#.#v###\n",
       "#.....###...###...#...#\n",
       "#####################.#\n",
       "</code></pre>\n",
       "<p>You're currently on the single path tile in the top row; your goal is to reach the single path tile in the bottom row. Because of all the mist from the waterfall, the slopes are probably quite <em>icy</em>; if you step onto a slope tile, your next step must be <em>downhill</em> (in the direction the arrow is pointing). To make sure you have the most scenic hike possible, <em>never step onto the same tile twice</em>. What is the longest hike you can take?</p>\n",
       "<p>In the example above, the longest hike you can take is marked with <code>O</code>, and your starting position is marked <code>S</code>:</p>\n",
       "<pre><code>#S#####################\n",
       "#OOOOOOO#########...###\n",
       "#######O#########.#.###\n",
       "###OOOOO#OOO&gt;.###.#.###\n",
       "###O#####O#O#.###.#.###\n",
       "###OOOOO#O#O#.....#...#\n",
       "###v###O#O#O#########.#\n",
       "###...#O#O#OOOOOOO#...#\n",
       "#####.#O#O#######O#.###\n",
       "#.....#O#O#OOOOOOO#...#\n",
       "#.#####O#O#O#########v#\n",
       "#.#...#OOO#OOO###OOOOO#\n",
       "#.#.#v#######O###O###O#\n",
       "#...#.&gt;.#...&gt;OOO#O###O#\n",
       "#####v#.#.###v#O#O###O#\n",
       "#.....#...#...#O#O#OOO#\n",
       "#.#########.###O#O#O###\n",
       "#...###...#...#OOO#O###\n",
       "###.###.#.###v#####O###\n",
       "#...#...#.#.&gt;.&gt;.#.&gt;O###\n",
       "#.###.###.#.###.#.#O###\n",
       "#.....###...###...#OOO#\n",
       "#####################O#\n",
       "</code></pre>\n",
       "<p>This hike contains <code><em>94</em></code> steps. (The other possible hikes you could have taken were <code>90</code>, <code>86</code>, <code>82</code>, <code>82</code>, and <code>74</code> steps long.)</p>\n",
       "<p>Find the longest hike you can take through the hiking trails listed on your map. <em>How many steps long is the longest hike?</em></p>\n",
       "</article>"
      ],
      "text/plain": [
       "<IPython.core.display.Markdown object>"
      ]
     },
     "metadata": {},
     "output_type": "display_data"
    }
   ],
   "source": [
    "show_task(DAY)"
   ]
  },
  {
   "cell_type": "code",
   "execution_count": 5,
   "metadata": {},
   "outputs": [],
   "source": [
    "lines = get_test_input_lines(DAY)"
   ]
  },
  {
   "cell_type": "code",
   "execution_count": 31,
   "metadata": {},
   "outputs": [],
   "source": [
    "lines = get_input_lines(DAY)"
   ]
  },
  {
   "cell_type": "code",
   "execution_count": 33,
   "metadata": {},
   "outputs": [
    {
     "name": "stdout",
     "output_type": "stream",
     "text": [
      "2094\n"
     ]
    }
   ],
   "source": [
    "smap = Map.from_object(lines)\n",
    "start_y, start_x = 0, 1\n",
    "end_y, end_x = smap.h - 1, smap.w - 2\n",
    "\n",
    "symbol_to_delta = {\n",
    "    '^': (-1, 0),\n",
    "    'v': (1, 0),\n",
    "    '>': (0, 1),\n",
    "    '<': (0, -1),\n",
    "}\n",
    "\n",
    "paths = []\n",
    "\n",
    "def step(smap: Map, y, x, passed: set | None = None):\n",
    "    if passed is None:\n",
    "        passed = set()\n",
    "    if (y, x) == (end_y, end_x):\n",
    "        # print(len(passed))\n",
    "        paths.append(len(passed))\n",
    "        # pmap = Map(smap.h, smap.w)\n",
    "        # for py, px in passed:\n",
    "        #     pmap.map[py][px] = 'O'\n",
    "        # pmap.show()\n",
    "        return\n",
    "    start_symbol = smap.map[y][x]\n",
    "    if start_symbol in symbol_to_delta:\n",
    "        allowed_deltas = [symbol_to_delta[start_symbol]]\n",
    "    else:\n",
    "        allowed_deltas = [(-1, 0), (1, 0), (0, 1), (0, -1)]\n",
    "    for dy, dx in allowed_deltas:\n",
    "        ny, nx = y + dy, x + dx\n",
    "        if ny < 0 or nx < 0 or ny >= smap.h or nx >= smap.w:\n",
    "            continue\n",
    "        if (ny, nx) in passed:\n",
    "            continue\n",
    "        target_symbol = smap.map[ny][nx]\n",
    "        if target_symbol == '#':\n",
    "            continue\n",
    "\n",
    "        if allowed_delta := symbol_to_delta.get(target_symbol):\n",
    "            if allowed_delta != (dy, dx):\n",
    "                continue\n",
    "        passed_copy = passed.copy()\n",
    "        passed_copy.add((y, x))\n",
    "        step(smap, ny, nx, passed_copy)\n",
    "\n",
    "step(smap, start_y, start_x)\n",
    "\n",
    "result = max(paths)\n",
    "print(result)"
   ]
  },
  {
   "cell_type": "code",
   "execution_count": 34,
   "metadata": {},
   "outputs": [
    {
     "data": {
      "text/plain": [
       "\"That's the right answer!  You are one gold star closer to restoring snow operations. [Continue to Part Two] (solved in 501:10)\""
      ]
     },
     "execution_count": 34,
     "metadata": {},
     "output_type": "execute_result"
    }
   ],
   "source": [
    "send_result(DAY, 1, result)"
   ]
  },
  {
   "cell_type": "code",
   "execution_count": 35,
   "metadata": {},
   "outputs": [
    {
     "data": {
      "text/markdown": [
       "<article class=\"day-desc\"><h2 id=\"part2\">--- Part Two ---</h2><p>As you reach the trailhead, you realize that the ground isn't as slippery as you expected; you'll have <em>no problem</em> climbing up the steep slopes.</p>\n",
       "<p>Now, treat all <em>slopes</em> as if they were normal <em>paths</em> (<code>.</code>). You still want to make sure you have the most scenic hike possible, so continue to ensure that you <em>never step onto the same tile twice</em>. What is the longest hike you can take?</p>\n",
       "<p>In the example above, this increases the longest hike to <code><em>154</em></code> steps:</p>\n",
       "<pre><code>#S#####################\n",
       "#OOOOOOO#########OOO###\n",
       "#######O#########O#O###\n",
       "###OOOOO#.&gt;OOO###O#O###\n",
       "###O#####.#O#O###O#O###\n",
       "###O&gt;...#.#O#OOOOO#OOO#\n",
       "###O###.#.#O#########O#\n",
       "###OOO#.#.#OOOOOOO#OOO#\n",
       "#####O#.#.#######O#O###\n",
       "#OOOOO#.#.#OOOOOOO#OOO#\n",
       "#O#####.#.#O#########O#\n",
       "#O#OOO#...#OOO###...&gt;O#\n",
       "#O#O#O#######O###.###O#\n",
       "#OOO#O&gt;.#...&gt;O&gt;.#.###O#\n",
       "#####O#.#.###O#.#.###O#\n",
       "#OOOOO#...#OOO#.#.#OOO#\n",
       "#O#########O###.#.#O###\n",
       "#OOO###OOO#OOO#...#O###\n",
       "###O###O#O###O#####O###\n",
       "#OOO#OOO#O#OOO&gt;.#.&gt;O###\n",
       "#O###O###O#O###.#.#O###\n",
       "#OOOOO###OOO###...#OOO#\n",
       "#####################O#\n",
       "</code></pre>\n",
       "<p>Find the longest hike you can take through the surprisingly dry hiking trails listed on your map. <em>How many steps long is the longest hike?</em></p>\n",
       "</article>"
      ],
      "text/plain": [
       "<IPython.core.display.Markdown object>"
      ]
     },
     "metadata": {},
     "output_type": "display_data"
    }
   ],
   "source": [
    "show_task(DAY, 2)"
   ]
  },
  {
   "cell_type": "code",
   "execution_count": 43,
   "metadata": {},
   "outputs": [],
   "source": [
    "lines = get_test_input_lines(DAY)"
   ]
  },
  {
   "cell_type": "code",
   "execution_count": 45,
   "metadata": {},
   "outputs": [],
   "source": [
    "lines = get_input_lines(DAY)"
   ]
  },
  {
   "cell_type": "code",
   "execution_count": null,
   "metadata": {},
   "outputs": [],
   "source": [
    "from queue import Queue\n",
    "\n",
    "smap = Map.from_object(lines)\n",
    "start_y, start_x = 0, 1\n",
    "end_y, end_x = smap.h - 1, smap.w - 2\n",
    "\n",
    "queue = Queue()\n",
    "paths = []\n",
    "\n",
    "def step(y, x, passed: set | None = None):\n",
    "    if passed is None:\n",
    "        passed = set()\n",
    "    if (y, x) == (end_y, end_x):\n",
    "        paths.append(len(passed))\n",
    "        return\n",
    "    allowed_deltas = [(-1, 0), (1, 0), (0, 1), (0, -1)]\n",
    "    for dy, dx in allowed_deltas:\n",
    "        ny, nx = y + dy, x + dx\n",
    "        if ny < 0 or nx < 0 or ny >= smap.h or nx >= smap.w:\n",
    "            continue\n",
    "        if (ny, nx) in passed:\n",
    "            continue\n",
    "        target_symbol = smap.map[ny][nx]\n",
    "        if target_symbol == '#':\n",
    "            continue\n",
    "        passed_copy = passed.copy()\n",
    "        passed_copy.add((y, x))\n",
    "        queue.put((ny, nx, passed_copy))\n",
    "\n",
    "queue.put((start_y, start_x, None))\n",
    "while not queue.empty():\n",
    "    y, x, passed = queue.get()\n",
    "    step(y, x, passed)\n",
    "\n",
    "result = max(paths)\n",
    "print(result)"
   ]
  },
  {
   "cell_type": "code",
   "execution_count": null,
   "metadata": {},
   "outputs": [],
   "source": []
  },
  {
   "cell_type": "code",
   "execution_count": null,
   "metadata": {},
   "outputs": [],
   "source": []
  },
  {
   "cell_type": "code",
   "execution_count": null,
   "metadata": {},
   "outputs": [],
   "source": []
  },
  {
   "cell_type": "code",
   "execution_count": null,
   "metadata": {},
   "outputs": [],
   "source": [
    "send_result(DAY, 2, result)"
   ]
  }
 ],
 "metadata": {
  "kernelspec": {
   "display_name": "venv",
   "language": "python",
   "name": "python3"
  },
  "language_info": {
   "codemirror_mode": {
    "name": "ipython",
    "version": 3
   },
   "file_extension": ".py",
   "mimetype": "text/x-python",
   "name": "python",
   "nbconvert_exporter": "python",
   "pygments_lexer": "ipython3",
   "version": "3.11.6"
  },
  "orig_nbformat": 4
 },
 "nbformat": 4,
 "nbformat_minor": 2
}
